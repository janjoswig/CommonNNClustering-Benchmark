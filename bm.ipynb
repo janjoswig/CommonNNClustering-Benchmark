{
 "cells": [
  {
   "cell_type": "markdown",
   "id": "sixth-surprise",
   "metadata": {},
   "source": [
    "# Benchmark clustering performance"
   ]
  },
  {
   "cell_type": "markdown",
   "id": "appreciated-desktop",
   "metadata": {},
   "source": [
    "Remember to compile `cnnclustering` with `TRACE_CYTHON=0` if timings should be measured. `TRACE_CYTHON=1` is required for line profiling and test coverage and will cause substantial overhead."
   ]
  },
  {
   "cell_type": "markdown",
   "id": "fleet-highlight",
   "metadata": {
    "toc": true
   },
   "source": [
    "<h1>Table of Contents<span class=\"tocSkip\"></span></h1>\n",
    "<div class=\"toc\"><ul class=\"toc-item\"><li><span><a href=\"#Helper-function-definitions\" data-toc-modified-id=\"Helper-function-definitions-1\"><span class=\"toc-item-num\">1&nbsp;&nbsp;</span>Helper function definitions</a></span><ul class=\"toc-item\"><li><span><a href=\"#Benchmark-helper\" data-toc-modified-id=\"Benchmark-helper-1.1\"><span class=\"toc-item-num\">1.1&nbsp;&nbsp;</span>Benchmark helper</a></span><ul class=\"toc-item\"><li><span><a href=\"#Collect\" data-toc-modified-id=\"Collect-1.1.1\"><span class=\"toc-item-num\">1.1.1&nbsp;&nbsp;</span>Collect</a></span></li><li><span><a href=\"#Initialisation\" data-toc-modified-id=\"Initialisation-1.1.2\"><span class=\"toc-item-num\">1.1.2&nbsp;&nbsp;</span>Initialisation</a></span></li></ul></li><li><span><a href=\"#Plots\" data-toc-modified-id=\"Plots-1.2\"><span class=\"toc-item-num\">1.2&nbsp;&nbsp;</span>Plots</a></span></li><li><span><a href=\"#Timed-functions\" data-toc-modified-id=\"Timed-functions-1.3\"><span class=\"toc-item-num\">1.3&nbsp;&nbsp;</span>Timed functions</a></span></li><li><span><a href=\"#Data-set-generation-functions\" data-toc-modified-id=\"Data-set-generation-functions-1.4\"><span class=\"toc-item-num\">1.4&nbsp;&nbsp;</span>Data set generation functions</a></span></li><li><span><a href=\"#Data-transformation\" data-toc-modified-id=\"Data-transformation-1.5\"><span class=\"toc-item-num\">1.5&nbsp;&nbsp;</span>Data transformation</a></span></li><li><span><a href=\"#Plotting\" data-toc-modified-id=\"Plotting-1.6\"><span class=\"toc-item-num\">1.6&nbsp;&nbsp;</span>Plotting</a></span></li></ul></li><li><span><a href=\"#Runs\" data-toc-modified-id=\"Runs-2\"><span class=\"toc-item-num\">2&nbsp;&nbsp;</span>Runs</a></span><ul class=\"toc-item\"><li><span><a href=\"#Example\" data-toc-modified-id=\"Example-2.1\"><span class=\"toc-item-num\">2.1&nbsp;&nbsp;</span>Example</a></span></li><li><span><a href=\"#CommonNN-Clustering\" data-toc-modified-id=\"CommonNN-Clustering-2.2\"><span class=\"toc-item-num\">2.2&nbsp;&nbsp;</span>CommonNN Clustering</a></span><ul class=\"toc-item\"><li><span><a href=\"#Run-a\" data-toc-modified-id=\"Run-a-2.2.1\"><span class=\"toc-item-num\">2.2.1&nbsp;&nbsp;</span>Run a</a></span></li><li><span><a href=\"#Run-b\" data-toc-modified-id=\"Run-b-2.2.2\"><span class=\"toc-item-num\">2.2.2&nbsp;&nbsp;</span>Run b</a></span></li><li><span><a href=\"#Run-c\" data-toc-modified-id=\"Run-c-2.2.3\"><span class=\"toc-item-num\">2.2.3&nbsp;&nbsp;</span>Run c</a></span></li><li><span><a href=\"#Run-d-a\" data-toc-modified-id=\"Run-d-a-2.2.4\"><span class=\"toc-item-num\">2.2.4&nbsp;&nbsp;</span>Run d a</a></span></li><li><span><a href=\"#Run-d-b\" data-toc-modified-id=\"Run-d-b-2.2.5\"><span class=\"toc-item-num\">2.2.5&nbsp;&nbsp;</span>Run d b</a></span></li><li><span><a href=\"#Run-d-c\" data-toc-modified-id=\"Run-d-c-2.2.6\"><span class=\"toc-item-num\">2.2.6&nbsp;&nbsp;</span>Run d c</a></span></li><li><span><a href=\"#Run-d-d\" data-toc-modified-id=\"Run-d-d-2.2.7\"><span class=\"toc-item-num\">2.2.7&nbsp;&nbsp;</span>Run d d</a></span></li><li><span><a href=\"#Run-d-e\" data-toc-modified-id=\"Run-d-e-2.2.8\"><span class=\"toc-item-num\">2.2.8&nbsp;&nbsp;</span>Run d e</a></span></li><li><span><a href=\"#Run-d-f\" data-toc-modified-id=\"Run-d-f-2.2.9\"><span class=\"toc-item-num\">2.2.9&nbsp;&nbsp;</span>Run d f</a></span></li></ul></li><li><span><a href=\"#CommonNN-Clustering---complete\" data-toc-modified-id=\"CommonNN-Clustering---complete-2.3\"><span class=\"toc-item-num\">2.3&nbsp;&nbsp;</span>CommonNN Clustering - complete</a></span></li></ul></li><li><span><a href=\"#Scaling\" data-toc-modified-id=\"Scaling-3\"><span class=\"toc-item-num\">3&nbsp;&nbsp;</span>Scaling</a></span></li><li><span><a href=\"#Plots\" data-toc-modified-id=\"Plots-4\"><span class=\"toc-item-num\">4&nbsp;&nbsp;</span>Plots</a></span><ul class=\"toc-item\"><li><span><a href=\"#Screen\" data-toc-modified-id=\"Screen-4.1\"><span class=\"toc-item-num\">4.1&nbsp;&nbsp;</span>Screen</a></span></li></ul></li></ul></div>"
   ]
  },
  {
   "cell_type": "code",
   "execution_count": 1,
   "id": "second-teacher",
   "metadata": {
    "ExecuteTime": {
     "end_time": "2021-06-29T10:06:17.769252Z",
     "start_time": "2021-06-29T10:06:13.442300Z"
    }
   },
   "outputs": [],
   "source": [
    "from datetime import datetime\n",
    "import json\n",
    "from operator import itemgetter\n",
    "import os\n",
    "import pathlib\n",
    "import time\n",
    "import timeit\n",
    "\n",
    "import cnnclustering\n",
    "from cnnclustering import cluster\n",
    "from cnnclustering import _fit, _primitive_types, _types\n",
    "import matplotlib as mpl\n",
    "import matplotlib.pyplot as plt\n",
    "from mpl_toolkits.axes_grid1.inset_locator import zoomed_inset_axes, mark_inset\n",
    "from sklearn.cluster import DBSCAN\n",
    "from sklearn import datasets\n",
    "from sklearn.metrics import pairwise_distances\n",
    "from sklearn.neighbors import KDTree\n",
    "from sklearn.preprocessing import StandardScaler\n",
    "from tqdm.notebook import tqdm\n",
    "\n",
    "import helper"
   ]
  },
  {
   "cell_type": "code",
   "execution_count": 2,
   "id": "signal-democrat",
   "metadata": {
    "ExecuteTime": {
     "end_time": "2021-06-29T10:06:17.774545Z",
     "start_time": "2021-06-29T10:06:17.771589Z"
    }
   },
   "outputs": [],
   "source": [
    "mpl.rcParams[\"figure.dpi\"] = 300"
   ]
  },
  {
   "cell_type": "code",
   "execution_count": 3,
   "id": "verified-profile",
   "metadata": {
    "ExecuteTime": {
     "end_time": "2021-06-29T10:06:17.786837Z",
     "start_time": "2021-06-29T10:06:17.776622Z"
    }
   },
   "outputs": [
    {
     "name": "stdout",
     "output_type": "stream",
     "text": [
      "              Python :   3.8.8 | packaged by conda-forge | (default, Feb 20 2021, 16:22:27)  [GCC 9.3.0]\n"
     ]
    }
   ],
   "source": [
    "print(f\"{'Python':>20} :  \", *sys.version.splitlines())"
   ]
  },
  {
   "cell_type": "code",
   "execution_count": 4,
   "id": "aerial-generic",
   "metadata": {
    "ExecuteTime": {
     "end_time": "2021-06-29T10:06:17.799107Z",
     "start_time": "2021-06-29T10:06:17.788823Z"
    }
   },
   "outputs": [
    {
     "name": "stdout",
     "output_type": "stream",
     "text": [
      "cnnclustering :   0.4.3\n"
     ]
    }
   ],
   "source": [
    "print(f\"cnnclustering :  \", cnnclustering.__version__)"
   ]
  },
  {
   "cell_type": "markdown",
   "id": "ranking-thickness",
   "metadata": {},
   "source": [
    "## Helper function definitions"
   ]
  },
  {
   "cell_type": "markdown",
   "id": "precise-recall",
   "metadata": {},
   "source": [
    "### Benchmark helper"
   ]
  },
  {
   "cell_type": "markdown",
   "id": "fewer-headline",
   "metadata": {},
   "source": [
    "#### Collect"
   ]
  },
  {
   "cell_type": "code",
   "execution_count": 14,
   "id": "graphic-field",
   "metadata": {
    "ExecuteTime": {
     "end_time": "2021-06-29T10:07:40.105258Z",
     "start_time": "2021-06-29T10:07:40.086821Z"
    }
   },
   "outputs": [],
   "source": [
    "def collect_timings(\n",
    "        gen_func, setup_func, run_arguments_list,\n",
    "        transform_func=None, timings=None, repeats=10):\n",
    "    \"\"\"Orchestrate timings\n",
    "    \n",
    "    Args:\n",
    "        gen_func: A function, returning data. Called with \n",
    "            run arguments \"gen\".\n",
    "        setup_func: A function, accepting data and returning a\n",
    "            function which should be timed. Called with\n",
    "            run arguments \"setup\".\n",
    "        run_argumens_list: A list of run arguments.\n",
    "        \n",
    "    Keyword args:\n",
    "        transform_func: A function, transforming generated data before setup.\n",
    "        timings: An optional timings mapping which results should\n",
    "            put into.\n",
    "        repeats: Repeats the timing *n* times. Using timeit -n/-r directly would\n",
    "            not ensure running the setup before each timing.\n",
    "    \n",
    "    Returns:\n",
    "        timings mapping\n",
    "    \"\"\"\n",
    "    \n",
    "    # Timed function has to be in global namespace to be discovered by %timeit magic\n",
    "    global timed_args\n",
    "    global timed_kwargs\n",
    "    global timed_func\n",
    "    \n",
    "    if timings is None:\n",
    "        timings = {}\n",
    "    \n",
    "    progress = tqdm(run_arguments_list, desc=\"Run completed\")\n",
    "    \n",
    "    for run_index, arguments in enumerate(progress):\n",
    "        \n",
    "        gen_args, gen_kwargs = arguments.get(\"gen\", ((), {}))\n",
    "        data = gen_func(*gen_args, **gen_kwargs)\n",
    "        \n",
    "        if transform_func is not None:\n",
    "            trans_args, trans_kwargs = arguments.get(\"transform\", ((), {}))\n",
    "            data = transform_func(data, *trans_args, **trans_kwargs)\n",
    "        \n",
    "        timeit_results = []\n",
    "        for _ in range(repeats):\n",
    "            try:\n",
    "                setup_args, setup_kwargs = arguments.get(\"setup\", ((), {}))\n",
    "                timed_func = setup_func(data, *setup_args, **setup_kwargs)\n",
    "\n",
    "                timed_args, timed_kwargs = arguments.get(\"timed\", ((), {}))\n",
    "                o = %timeit -n 1 -r 1 -q -o timed_func(*timed_args, **timed_kwargs)\n",
    "            except MemoryError:\n",
    "                o = \"MemoryError\"\n",
    "                break\n",
    "\n",
    "            finally:\n",
    "                timeit_results.append(o)\n",
    "        \n",
    "        run_id = arguments.get(\"id\", str(run_index))\n",
    "        tqdm.write(f\"Timed run ID: {run_id:>10}    ({datetime.now().strftime('%d.%m.%Y %H:%M:%S')})\")\n",
    "        timings[run_id] = helper.combine_timeit_results(*timeit_results)\n",
    "        \n",
    "    return timings"
   ]
  },
  {
   "cell_type": "markdown",
   "id": "molecular-vacuum",
   "metadata": {},
   "source": [
    "#### Initialisation"
   ]
  },
  {
   "cell_type": "code",
   "execution_count": 40,
   "id": "fourth-herald",
   "metadata": {
    "ExecuteTime": {
     "end_time": "2021-06-29T13:00:02.889615Z",
     "start_time": "2021-06-29T13:00:02.884134Z"
    }
   },
   "outputs": [],
   "source": [
    "def make_maps():\n",
    "    \"\"\"Initialise benchmark setting/result mappings\"\"\"\n",
    "    \n",
    "    global RUN_ARGUMENTS_MAP\n",
    "    global RUN_TIMINGS_MAP\n",
    "    global RUN_SCALING_MAP\n",
    "    \n",
    "    if \"RUN_ARGUMENTS_MAP\" not in dir():\n",
    "        print(\"yes\")\n",
    "        RUN_ARGUMENTS_MAP = {}\n",
    "\n",
    "    if \"RUN_TIMINGS_MAP\" not in dir():\n",
    "        RUN_TIMINGS_MAP = {}\n",
    "        \n",
    "    if \"RUN_SCALING_MAP\" not in dir():\n",
    "        RUN_SCALING_MAP = {}"
   ]
  },
  {
   "cell_type": "code",
   "execution_count": 43,
   "id": "possible-emphasis",
   "metadata": {
    "ExecuteTime": {
     "end_time": "2021-06-29T13:00:18.035610Z",
     "start_time": "2021-06-29T13:00:18.030448Z"
    }
   },
   "outputs": [],
   "source": [
    "    if \"RUN_ARGUMENTS_MAP\" not in dir():\n",
    "        print(\"yes\")"
   ]
  },
  {
   "cell_type": "code",
   "execution_count": 13,
   "id": "impressive-excuse",
   "metadata": {
    "ExecuteTime": {
     "end_time": "2021-05-31T11:08:46.259512Z",
     "start_time": "2021-05-31T11:08:46.254828Z"
    }
   },
   "outputs": [],
   "source": [
    "def del_maps():\n",
    "    %xdel RUN_ARGUMENTS_MAP\n",
    "    %xdel RUN_TIMINGS_MAP\n",
    "    %xdel RUN_SCALING_MAP"
   ]
  },
  {
   "cell_type": "markdown",
   "id": "legendary-grace",
   "metadata": {},
   "source": [
    "### Plots"
   ]
  },
  {
   "cell_type": "code",
   "execution_count": 61,
   "id": "binding-cradle",
   "metadata": {
    "ExecuteTime": {
     "end_time": "2021-06-29T13:35:48.559500Z",
     "start_time": "2021-06-29T13:35:48.540215Z"
    }
   },
   "outputs": [],
   "source": [
    "def evaluate_timings(\n",
    "        RUN_TIMINGS_MAP, RUN_SCALING_MAP, run_name_list,\n",
    "        normal_ax=None, log_ax=None,\n",
    "        plot_props=None, legend_props=None):\n",
    "    \n",
    "    if (normal_ax is None) & (log_ax is None):\n",
    "        fig, (normal_ax, log_ax) = plt.subplots(2, 1)\n",
    "    elif normal_ax is not None:\n",
    "        fig = normal_ax.get_figure()\n",
    "    else:\n",
    "        fig = log_ax.get_figure()\n",
    "        \n",
    "    if plot_props is None:\n",
    "        plot_props = {}\n",
    "\n",
    "    default_legend_props = {\n",
    "        \"fancybox\": False,\n",
    "        \"framealpha\": 1,\n",
    "        \"edgecolor\": \"k\",\n",
    "        \"fontsize\": \"xx-small\",    \n",
    "        }\n",
    "        \n",
    "    if legend_props is not None:\n",
    "        default_legend_props.update(legend_props)\n",
    "        \n",
    "    fit_lines = []\n",
    "    fit_legend_labels = []\n",
    "    \n",
    "    normal_lines = []\n",
    "    log_lines = []\n",
    "    \n",
    "    for name, label in run_name_list:\n",
    "\n",
    "        (newx, fity), b = RUN_SCALING_MAP[name]\n",
    "        \n",
    "        if normal_ax is not None:\n",
    "            n_line, = helper.plot_timings(\n",
    "                RUN_TIMINGS_MAP[name],\n",
    "                ax=normal_ax,\n",
    "                id_to_x=lambda x: int(x),\n",
    "                sort_ids=True,\n",
    "                set_ax_props=False,\n",
    "                plot_props=plot_props\n",
    "            )\n",
    "            normal_lines.append(n_line)\n",
    "            f_line, = normal_ax.plot(\n",
    "                newx, fity,\n",
    "                linestyle=\"--\",\n",
    "                color=n_line.get_color(),\n",
    "                marker=\"None\",\n",
    "                zorder=0\n",
    "            )\n",
    "            fit_legend_labels.append(f'{label} ($b = {b[0]:.1f} \\pm {b[1]:.1f}$)')\n",
    "            fit_lines.append(f_line)\n",
    "    \n",
    "        if log_ax is not None:\n",
    "            l_line, = helper.plot_timings(\n",
    "                RUN_TIMINGS_MAP[name],\n",
    "                ax=log_ax,\n",
    "                id_to_x=lambda x: int(x),\n",
    "                sort_ids=True,\n",
    "                set_ax_props=False,\n",
    "                plot_props=plot_props\n",
    "            )\n",
    "            log_lines.append(l_line)\n",
    "            fl_line, = log_ax.plot(\n",
    "                newx, fity,\n",
    "                linestyle=\"--\",\n",
    "                color=l_line.get_color(),\n",
    "                marker=\"None\",\n",
    "                zorder=0\n",
    "            )\n",
    "            \n",
    "            if normal_ax is None:\n",
    "                fit_legend_labels.append(f'{label} ($b = {b[0]:.1f} \\pm {b[1]:.1f}$)')\n",
    "                fit_lines.append(fl_line)\n",
    "        \n",
    "    if normal_ax is not None:\n",
    "        normal_ax.set(**{\n",
    "            \"xlabel\": None,\n",
    "            \"ylabel\": None,\n",
    "            \"ylim\": (0, None)\n",
    "        })\n",
    "            \n",
    "        if log_ax is not None:\n",
    "            normal_ax.xaxis.tick_top()\n",
    "\n",
    "    if log_ax is not None:\n",
    "        log_ax.set(**{\n",
    "            \"xlabel\": None,\n",
    "            \"ylabel\": None,\n",
    "            \"xscale\": \"log\",\n",
    "            \"yscale\": \"log\",\n",
    "            \"ylim\": (1e-6, None)\n",
    "        })\n",
    "\n",
    "    if normal_ax is not None:\n",
    "        legend_ax = normal_ax\n",
    "        legend_lines = normal_lines\n",
    "    else:\n",
    "        legend_ax = log_ax\n",
    "        legend_lines = log_lines\n",
    "\n",
    "    legend = legend_ax.legend(\n",
    "        legend_lines,\n",
    "        fit_legend_labels,\n",
    "        **default_legend_props\n",
    "        )\n",
    "    legend.get_frame().set_linewidth(0.5)\n",
    "    \n",
    "    return fig"
   ]
  },
  {
   "cell_type": "code",
   "execution_count": 59,
   "id": "looking-birthday",
   "metadata": {
    "ExecuteTime": {
     "end_time": "2021-06-29T13:35:32.817280Z",
     "start_time": "2021-06-29T13:35:32.811428Z"
    }
   },
   "outputs": [],
   "source": [
    "marker_list = [\n",
    "    \"o\", \"v\", \"^\", \"s\", \"p\", \"P\", \"*\", \"h\",\n",
    "    \"d\", \"H\", \"D\", \">\", \"<\", \"8\", \"X\", \"o\"\n",
    "\n",
    "]\n",
    "color_list = [\n",
    "    '396ab1', 'da7c30', '3e9651', 'cc2529', '535154', '6b4c9a', '922428', '948b3d',\n",
    "    '7293cb', 'e1974c', '84ba5b', 'd35e60', '9067a7', 'ab6857', 'ccc210', '808585'\n",
    "]"
   ]
  },
  {
   "cell_type": "markdown",
   "id": "republican-elephant",
   "metadata": {},
   "source": [
    "### Timed functions"
   ]
  },
  {
   "cell_type": "code",
   "execution_count": 7,
   "id": "consecutive-repeat",
   "metadata": {
    "ExecuteTime": {
     "end_time": "2021-06-29T10:06:30.862547Z",
     "start_time": "2021-06-29T10:06:30.858756Z"
    }
   },
   "outputs": [],
   "source": [
    "def setup_sleep(data):\n",
    "    \"\"\"Dummy example\"\"\"\n",
    "\n",
    "    return time.sleep"
   ]
  },
  {
   "cell_type": "code",
   "execution_count": 8,
   "id": "guilty-dress",
   "metadata": {
    "ExecuteTime": {
     "end_time": "2021-06-29T10:06:31.603471Z",
     "start_time": "2021-06-29T10:06:31.597396Z"
    }
   },
   "outputs": [],
   "source": [
    "def setup_commonnn_clustering__fit(data, preparation_hook=cluster.prepare_pass, recipe=None):\n",
    "    \"\"\"Prepare benchmark of :meth:`cnnclustering.cluster.Clustering._fit`\"\"\"\n",
    "    \n",
    "    if recipe is None:\n",
    "        recipe = {}\n",
    "\n",
    "    clustering = cluster.prepare_clustering(data, preparation_hook, **recipe)\n",
    "    clustering._labels = _types.Labels(\n",
    "        np.zeros(clustering._input_data.n_points, order=\"C\", dtype=_primitive_types.P_AINDEX)\n",
    "        )\n",
    "\n",
    "    return clustering._fit"
   ]
  },
  {
   "cell_type": "code",
   "execution_count": 9,
   "id": "atmospheric-persian",
   "metadata": {
    "ExecuteTime": {
     "end_time": "2021-06-29T10:06:33.116336Z",
     "start_time": "2021-06-29T10:06:33.111441Z"
    }
   },
   "outputs": [],
   "source": [
    "def setup_commonnn_clustering_fit(data, preparation_hook=cluster.prepare_pass, recipe=None):\n",
    "    \"\"\"Prepare benchmark of :meth:`cnnclustering.cluster.Clustering.fit`\"\"\"\n",
    "    \n",
    "    if recipe is None:\n",
    "        recipe = {}\n",
    "\n",
    "    clustering = cluster.prepare_clustering(data, preparation_hook, **recipe)\n",
    "\n",
    "    return clustering.fit"
   ]
  },
  {
   "cell_type": "code",
   "execution_count": null,
   "id": "short-version",
   "metadata": {},
   "outputs": [],
   "source": [
    "def setup_commonnn_clustering_complete(\n",
    "        data,\n",
    "        transform_func=None,\n",
    "    %tb   transform_args=None,\n",
    "        transform_kwargs=None,\n",
    "        preparation_hook=cluster.prepare_pass,\n",
    "        recipe=None):\n",
    "    \"\"\"Prepare benchmark of :meth:`cnnclustering.cluster.Clustering._fit` inkl. preparatiotransform_func    \n",
    "    if recipe is None:\n",
    "        recipe = {}\n",
    "    \n",
    "    def fit_complete(*args, **kwargs):\n",
    "        \n",
    "        if transform_func is not None:\n",
    "            if transform_args is None:\n",
    "                transform_args = ()\n",
    "                \n",
    "            if transform_kwargs is None:\n",
    "                transform_kwargs = {}\n",
    "\n",
    "            data = transform_func(data, *transform_args, **transform_kwargs)\n",
    "\n",
    "        clustering = cluster.prepare_clustering(data, preparation_hook, **recipe)\n",
    "        clustering.fit(*args, **kwargs)\n",
    "\n",
    "    return fit_complete"
   ]
  },
  {
   "cell_type": "code",
   "execution_count": null,
   "id": "acquired-aging",
   "metadata": {},
   "outputs": [],
   "source": [
    "def setup_dbscan_clustering_complete(\n",
    "        data):\n",
    "    \"\"\"Prepare benchmark of :meth:`sklearn.cluster.DBSCAN`\"\"\"\n",
    "    \n",
    "    if recipe is None:\n",
    "        recipe = {}\n",
    "    \n",
    "    def fit_complete(*args, **kwargs):\n",
    "\n",
    "        clustering = DBSCAN(data)\n",
    "        clustering.fit(*args, **kwargs)\n",
    "\n",
    "    return fit_complete"
   ]
  },
  {
   "cell_type": "markdown",
   "id": "military-harvard",
   "metadata": {
    "ExecuteTime": {
     "end_time": "2021-04-29T19:49:44.479666Z",
     "start_time": "2021-04-29T19:49:44.476020Z"
    }
   },
   "source": [
    "### Data set generation functions"
   ]
  },
  {
   "cell_type": "code",
   "execution_count": 10,
   "id": "threaded-liechtenstein",
   "metadata": {
    "ExecuteTime": {
     "end_time": "2021-06-29T10:06:45.429982Z",
     "start_time": "2021-06-29T10:06:45.426406Z"
    }
   },
   "outputs": [],
   "source": [
    "def gen_dummy():\n",
    "    return []"
   ]
  },
  {
   "cell_type": "markdown",
   "id": "brave-marks",
   "metadata": {},
   "source": [
    "### Data transformation"
   ]
  },
  {
   "cell_type": "code",
   "execution_count": 11,
   "id": "operating-diagram",
   "metadata": {
    "ExecuteTime": {
     "end_time": "2021-06-29T10:06:46.171809Z",
     "start_time": "2021-06-29T10:06:46.166611Z"
    }
   },
   "outputs": [],
   "source": [
    "def compute_neighbours(data, radius, sort=False):\n",
    "    \n",
    "    tree = KDTree(data)\n",
    "    neighbourhoods = tree.query_radius(\n",
    "        data, r=radius, return_distance=False\n",
    "        )\n",
    "\n",
    "    if sort:\n",
    "        for n in neighbourhoods:\n",
    "            n.sort()\n",
    "            \n",
    "    return neighbourhoods"
   ]
  },
  {
   "cell_type": "markdown",
   "id": "accepted-handling",
   "metadata": {},
   "source": [
    "### Plotting"
   ]
  },
  {
   "cell_type": "code",
   "execution_count": 12,
   "id": "spoken-military",
   "metadata": {
    "ExecuteTime": {
     "end_time": "2021-06-29T10:06:47.343315Z",
     "start_time": "2021-06-29T10:06:47.336918Z"
    },
    "run_control": {
     "marked": true
    }
   },
   "outputs": [],
   "source": [
    "def annotate_memory_error(\n",
    "        ax, line, memory_error_id):\n",
    "    \n",
    "    last_sample_pos = line.get_xydata()[-1]\n",
    "    memory_error_pos = np.array([memory_error_id, last_sample_pos[-1]])\n",
    "    ax.plot(\n",
    "        *np.vstack([last_sample_pos, memory_error_pos]).T,\n",
    "        color=\"k\",\n",
    "        linestyle=\"--\",\n",
    "        zorder=0\n",
    "    )\n",
    "    ax.plot(\n",
    "        *memory_error_pos,\n",
    "        color=line.get_color(),\n",
    "        marker=\"X\",\n",
    "        markeredgecolor=\"k\",\n",
    "        zorder=0\n",
    "    )"
   ]
  },
  {
   "cell_type": "markdown",
   "id": "incident-dealing",
   "metadata": {},
   "source": [
    "## Runs"
   ]
  },
  {
   "cell_type": "markdown",
   "id": "recovered-instrument",
   "metadata": {},
   "source": [
    "### Example"
   ]
  },
  {
   "cell_type": "code",
   "execution_count": 17,
   "id": "ancient-truth",
   "metadata": {
    "ExecuteTime": {
     "end_time": "2021-06-29T10:08:11.199389Z",
     "start_time": "2021-06-29T10:08:08.116083Z"
    }
   },
   "outputs": [
    {
     "data": {
      "application/vnd.jupyter.widget-view+json": {
       "model_id": "2739938370df400b98acd1bd3d8abf64",
       "version_major": 2,
       "version_minor": 0
      },
      "text/plain": [
       "Run completed:   0%|          | 0/2 [00:00<?, ?it/s]"
      ]
     },
     "metadata": {},
     "output_type": "display_data"
    },
    {
     "name": "stdout",
     "output_type": "stream",
     "text": [
      "Timed run ID:          1    (29.06.2021 12:08:09)\n",
      "Timed run ID:          2    (29.06.2021 12:08:11)\n",
      "\n",
      "    Run ID: Factor\n",
      "=======================\n",
      "         1: 1.00\n",
      "         2: 2.00\n"
     ]
    }
   ],
   "source": [
    "example_run = [\n",
    "    {\n",
    "        \"id\": \"1\",\n",
    "        \"gen\": (\n",
    "            (), {}\n",
    "        ),\n",
    "        \"setup\": (\n",
    "            (), {}\n",
    "        ),\n",
    "        \"timed\": (\n",
    "            (0.1,), {\n",
    "            }\n",
    "        ),\n",
    "    },\n",
    "    {\n",
    "        \"id\": \"2\",\n",
    "        \"gen\": (\n",
    "            (), {}\n",
    "        ),\n",
    "        \"setup\": (\n",
    "            (), {}\n",
    "        ),\n",
    "        \"timed\": (\n",
    "            (0.2,), {\n",
    "            }\n",
    "        ),\n",
    "    }\n",
    "]\n",
    "\n",
    "sleep_timings = collect_timings(\n",
    "    gen_dummy,\n",
    "    setup_sleep,\n",
    "    example_run\n",
    ")\n",
    "\n",
    "print()\n",
    "helper.print_ratios(helper.get_ratios(sleep_timings))"
   ]
  },
  {
   "cell_type": "code",
   "execution_count": 18,
   "id": "animated-constitution",
   "metadata": {
    "ExecuteTime": {
     "end_time": "2021-06-29T10:08:15.125978Z",
     "start_time": "2021-06-29T10:08:15.116765Z"
    }
   },
   "outputs": [
    {
     "data": {
      "text/plain": [
       "{'1': <TimeitResult : 100 ms ± 67.2 µs per loop (mean ± std. dev. of 10 runs, 1 loop each)>,\n",
       " '2': <TimeitResult : 200 ms ± 4.46 µs per loop (mean ± std. dev. of 10 runs, 1 loop each)>}"
      ]
     },
     "execution_count": 18,
     "metadata": {},
     "output_type": "execute_result"
    }
   ],
   "source": [
    "sleep_timings"
   ]
  },
  {
   "cell_type": "code",
   "execution_count": 20,
   "id": "white-material",
   "metadata": {
    "ExecuteTime": {
     "end_time": "2021-06-29T10:08:24.548778Z",
     "start_time": "2021-06-29T10:08:24.439213Z"
    },
    "run_control": {
     "marked": false
    }
   },
   "outputs": [
    {
     "data": {
      "text/plain": [
       "[<matplotlib.lines.Line2D at 0x7fb37a3bfd60>]"
      ]
     },
     "execution_count": 20,
     "metadata": {},
     "output_type": "execute_result"
    },
    {
     "data": {
      "image/png": "[encoded data removed]",
      "text/plain": [
       "<Figure size 300x185.414 with 1 Axes>"
      ]
     },
     "metadata": {
      "needs_background": "light"
     },
     "output_type": "display_data"
    }
   ],
   "source": [
    "fig, ax = plt.subplots(figsize=(1, 1/1.618))\n",
    "helper.plot_timings(sleep_timings, ax=ax, id_to_x=lambda x: int(x))"
   ]
  },
  {
   "cell_type": "markdown",
   "id": "falling-council",
   "metadata": {},
   "source": [
    "### CommonNN Clustering"
   ]
  },
  {
   "cell_type": "code",
   "execution_count": 21,
   "id": "ultimate-fraction",
   "metadata": {
    "ExecuteTime": {
     "end_time": "2021-06-29T10:08:48.039514Z",
     "start_time": "2021-06-29T10:08:48.035752Z"
    }
   },
   "outputs": [],
   "source": [
    "report_dir = pathlib.Path(\"reports/qcm07/cnnclustering_fit\")"
   ]
  },
  {
   "cell_type": "markdown",
   "id": "weighted-williams",
   "metadata": {},
   "source": [
    "Clustering of a 2D toy data set (no structure) with increasing number of points while dimensionality, cluster parameters, and cluster recipe are fixed:\n",
    "\n",
    "  - Default recipe:\n",
    "    - $d = 2$, $r = 0.25$, $c = 0$ :  [run a](#run_a)\n",
    "    \n",
    "  - Distance recipe:\n",
    "    - $d = 2$, $r = 0.25$, $c = 0$ :  [run b](#run_b)\n",
    "\n",
    "  - Neighbours recipe:\n",
    "    - $d = 2$, $r = 0.25$, $c = 0$ :  [run c](#run_c)\n",
    "    \n",
    "  - Neighbours sorted recipe:\n",
    "    - $d = 2$, $r = 0.25$, $c = 0$ :  [run d a](#run_d_a)\n",
    "    - $d = 2$, $r = 0.25$, $c = 50$ :  [run d b](#run_d_b)\n",
    "    - $d = 2$, $r = 0.25$, $c = 100$ :  [run d c](#run_d_c)\n",
    "    - $d = 2$, $r = 0.1$, $c = 0$ :  [run d d](#run_d_d)\n",
    "    - $d = 2$, $r = 0.1$, $c = 50$ :  [run d e](#run_d_e)\n",
    "    - $d = 2$, $r = 0.1$, $c = 100$ :  [run d f](#run_d_f)"
   ]
  },
  {
   "cell_type": "code",
   "execution_count": 28,
   "id": "impaired-investor",
   "metadata": {
    "ExecuteTime": {
     "end_time": "2021-06-29T10:17:55.435584Z",
     "start_time": "2021-06-29T10:17:55.294943Z"
    }
   },
   "outputs": [
    {
     "data": {
      "text/plain": [
       "<matplotlib.collections.PathCollection at 0x7fb37a39c670>"
      ]
     },
     "execution_count": 28,
     "metadata": {},
     "output_type": "execute_result"
    },
    {
     "data": {
      "image/png": "[encoded data removed]",
      "text/plain": [
       "<Figure size 300x300 with 1 Axes>"
      ]
     },
     "metadata": {
      "needs_background": "light"
     },
     "output_type": "display_data"
    }
   ],
   "source": [
    "# The test data\n",
    "fig, ax = plt.subplots(figsize=(1, 1))\n",
    "ax.scatter(\n",
    "    *helper.gen_no_structure_points((5000, 2)).T,\n",
    "    s=0.5,\n",
    ")"
   ]
  },
  {
   "cell_type": "code",
   "execution_count": 23,
   "id": "brutal-arnold",
   "metadata": {
    "ExecuteTime": {
     "end_time": "2021-06-29T10:14:05.599561Z",
     "start_time": "2021-06-29T10:14:05.595007Z"
    }
   },
   "outputs": [],
   "source": [
    "n_points_list = [500 * 2**x for x in range(10)]"
   ]
  },
  {
   "cell_type": "code",
   "execution_count": 24,
   "id": "conditional-broadway",
   "metadata": {
    "ExecuteTime": {
     "end_time": "2021-06-29T10:14:12.533846Z",
     "start_time": "2021-06-29T10:14:12.527815Z"
    }
   },
   "outputs": [
    {
     "data": {
      "text/plain": [
       "[500, 1000, 2000, 4000, 8000, 16000, 32000, 64000, 128000, 256000]"
      ]
     },
     "execution_count": 24,
     "metadata": {},
     "output_type": "execute_result"
    }
   ],
   "source": [
    "n_points_list"
   ]
  },
  {
   "cell_type": "code",
   "execution_count": 26,
   "id": "promising-ribbon",
   "metadata": {
    "ExecuteTime": {
     "end_time": "2021-06-29T10:15:22.900396Z",
     "start_time": "2021-06-29T10:15:22.895024Z"
    }
   },
   "outputs": [],
   "source": [
    "default_recipe = {\n",
    "    \"input_data\": _types.InputDataExtComponentsMemoryview,\n",
    "    \"neighbours_getter\": _types.NeighboursGetterExtBruteForce,\n",
    "    \"neighbours\": (_types.NeighboursExtVectorCPPUnorderedSet, (5000,), {}),\n",
    "    \"neighbour_neighbours\": (_types.NeighboursExtVectorCPPUnorderedSet, (5000,), {}),\n",
    "    \"metric\": _types.MetricExtEuclideanReduced,\n",
    "    \"similarity_checker\": _types.SimilarityCheckerExtSwitchContains,\n",
    "    \"queue\": _types.QueueExtFIFOQueue,\n",
    "    \"fitter\": _fit.FitterExtBFS,\n",
    "}"
   ]
  },
  {
   "cell_type": "code",
   "execution_count": 27,
   "id": "variable-threshold",
   "metadata": {
    "ExecuteTime": {
     "end_time": "2021-06-29T10:16:10.012614Z",
     "start_time": "2021-06-29T10:16:10.006726Z"
    }
   },
   "outputs": [],
   "source": [
    "distance_recipe = {\n",
    "    \"input_data\": _types.InputDataExtComponentsMemoryview,\n",
    "    \"neighbours_getter\": _types.NeighboursGetterExtBruteForce,\n",
    "    \"neighbours\": (_types.NeighboursExtVectorCPPUnorderedSet, (5000,), {}),\n",
    "    \"neighbour_neighbours\": (_types.NeighboursExtVectorCPPUnorderedSet, (5000,), {}),\n",
    "    \"metric\": _types.MetricExtPrecomputed,\n",
    "    \"similarity_checker\": _types.SimilarityCheckerExtSwitchContains,\n",
    "    \"queue\": _types.QueueExtFIFOQueue,\n",
    "    \"fitter\": _fit.FitterExtBFS,\n",
    "}"
   ]
  },
  {
   "cell_type": "code",
   "execution_count": 29,
   "id": "banned-eugene",
   "metadata": {
    "ExecuteTime": {
     "end_time": "2021-06-29T10:18:46.542492Z",
     "start_time": "2021-06-29T10:18:46.536454Z"
    }
   },
   "outputs": [],
   "source": [
    "neighbours_recipe = {\n",
    "    \"input_data\": _types.InputDataExtNeighbourhoodsMemoryview,\n",
    "    \"neighbours_getter\": _types.NeighboursGetterExtLookup,\n",
    "    \"neighbours\": (_types.NeighboursExtVectorCPPUnorderedSet, (5000,), {}),\n",
    "    \"neighbour_neighbours\": (_types.NeighboursExtVectorCPPUnorderedSet, (5000,), {}),\n",
    "    \"metric\": _types.MetricExtDummy,\n",
    "    \"similarity_checker\": _types.SimilarityCheckerExtSwitchContains,\n",
    "    \"queue\": _types.QueueExtFIFOQueue,\n",
    "    \"fitter\": _fit.FitterExtBFS,\n",
    "}"
   ]
  },
  {
   "cell_type": "code",
   "execution_count": 30,
   "id": "covered-contractor",
   "metadata": {
    "ExecuteTime": {
     "end_time": "2021-06-29T10:18:47.084452Z",
     "start_time": "2021-06-29T10:18:47.079002Z"
    }
   },
   "outputs": [],
   "source": [
    "neighbours_sorted_recipe = {\n",
    "    \"input_data\": _types.InputDataExtNeighbourhoodsMemoryview,\n",
    "    \"neighbours_getter\": _types.NeighboursGetterExtLookup,\n",
    "    \"neighbours\": (_types.NeighboursExtVector, (5000,), {}),\n",
    "    \"neighbour_neighbours\": (_types.NeighboursExtVector, (5000,), {}),\n",
    "    \"metric\": _types.MetricExtDummy,\n",
    "    \"similarity_checker\": _types.SimilarityCheckerExtScreensorted,\n",
    "    \"queue\": _types.QueueExtFIFOQueue,\n",
    "    \"fitter\": _fit.FitterExtBFS,\n",
    "}"
   ]
  },
  {
   "cell_type": "code",
   "execution_count": 36,
   "id": "elect-connection",
   "metadata": {
    "ExecuteTime": {
     "end_time": "2021-06-29T12:56:47.251192Z",
     "start_time": "2021-06-29T12:56:47.246526Z"
    }
   },
   "outputs": [],
   "source": [
    "make_maps()"
   ]
  },
  {
   "cell_type": "code",
   "execution_count": 29,
   "id": "greek-symbol",
   "metadata": {
    "ExecuteTime": {
     "end_time": "2021-05-31T11:10:05.907803Z",
     "start_time": "2021-05-31T11:10:05.888633Z"
    }
   },
   "outputs": [],
   "source": [
    "run_name_list = [\n",
    "    'no_structure_run_a',\n",
    "    'no_structure_run_b',\n",
    "    'no_structure_run_c',\n",
    "    'no_structure_run_d',\n",
    "    'no_structure_run_d_a',\n",
    "    'no_structure_run_d_b',\n",
    "    'no_structure_run_d_c',\n",
    "    'no_structure_run_d_d',\n",
    "    'no_structure_run_d_e',\n",
    "    'no_structure_run_d_f',\n",
    "]\n",
    "\n",
    "for run_name in run_name_list:    \n",
    "    report_file = report_dir / f\"{run_name}.json\"\n",
    "    \n",
    "    if not report_file.is_file():\n",
    "        continue\n",
    "\n",
    "    RUN_TIMINGS_MAP[run_name] = load_report(report_file)"
   ]
  },
  {
   "cell_type": "markdown",
   "id": "absent-uzbekistan",
   "metadata": {},
   "source": [
    "<a id=\"run_a\"></a>\n",
    "#### Run a"
   ]
  },
  {
   "cell_type": "code",
   "execution_count": 108,
   "id": "academic-intake",
   "metadata": {
    "ExecuteTime": {
     "end_time": "2021-06-29T14:11:23.468390Z",
     "start_time": "2021-06-29T14:11:23.463569Z"
    }
   },
   "outputs": [],
   "source": [
    "run_name = \"no_structure_run_a\"\n",
    "report_file = report_dir / f\"{run_name}.json\"\n",
    "\n",
    "gen_func = helper.gen_no_structure_points\n",
    "transform_func = None\n",
    "setup_func = setup_commonnn_clustering__fit"
   ]
  },
  {
   "cell_type": "code",
   "execution_count": 109,
   "id": "extended-interface",
   "metadata": {
    "ExecuteTime": {
     "end_time": "2021-06-29T14:11:25.078147Z",
     "start_time": "2021-06-29T14:11:25.071742Z"
    }
   },
   "outputs": [],
   "source": [
    "radius_cutoff = 0.25\n",
    "cnn_cutoff = 0\n",
    "\n",
    "RUN_ARGUMENTS_MAP[run_name] = []\n",
    "for n_points in n_points_list:\n",
    "    RUN_ARGUMENTS_MAP[run_name].append(\n",
    "        {\n",
    "            \"id\": str(n_points),\n",
    "            \"gen\": (\n",
    "                ((n_points, 2),), {}\n",
    "            ),\n",
    "            \"setup\": (\n",
    "                (), {\"recipe\": default_recipe}\n",
    "            ),\n",
    "            \"timed\": (\n",
    "                (_types.ClusterParameters(radius_cutoff, cnn_cutoff),), {}\n",
    "            ),\n",
    "        }\n",
    "    )"
   ]
  },
  {
   "cell_type": "code",
   "execution_count": 110,
   "id": "flying-mapping",
   "metadata": {
    "ExecuteTime": {
     "end_time": "2021-06-29T16:12:28.992923Z",
     "start_time": "2021-06-29T14:11:29.234896Z"
    }
   },
   "outputs": [
    {
     "name": "stdout",
     "output_type": "stream",
     "text": [
      "Collection for run: no_structure_run_a\n"
     ]
    },
    {
     "data": {
      "application/vnd.jupyter.widget-view+json": {
       "model_id": "dd69a85b975b47b0beca32eb1d2d0206",
       "version_major": 2,
       "version_minor": 0
      },
      "text/plain": [
       "Run completed:   0%|          | 0/10 [00:00<?, ?it/s]"
      ]
     },
     "metadata": {},
     "output_type": "display_data"
    },
    {
     "name": "stdout",
     "output_type": "stream",
     "text": [
      "Timed run ID:        500    (29.06.2021 16:11:29)\n",
      "Timed run ID:       1000    (29.06.2021 16:11:29)\n",
      "Timed run ID:       2000    (29.06.2021 16:11:29)\n",
      "Timed run ID:       4000    (29.06.2021 16:11:30)\n",
      "Timed run ID:       8000    (29.06.2021 16:11:35)\n",
      "Timed run ID:      16000    (29.06.2021 16:11:55)\n",
      "Timed run ID:      32000    (29.06.2021 16:13:19)\n",
      "Timed run ID:      64000    (29.06.2021 16:18:56)\n",
      "Timed run ID:     128000    (29.06.2021 16:41:31)\n",
      "Timed run ID:     256000    (29.06.2021 18:12:28)\n"
     ]
    },
    {
     "data": {
      "text/plain": [
       "{'500': <TimeitResult : 4.37 ms ± 839 µs per loop (mean ± std. dev. of 10 runs, 1 loop each)>,\n",
       " '1000': <TimeitResult : 9.6 ms ± 3.71 ms per loop (mean ± std. dev. of 10 runs, 1 loop each)>,\n",
       " '2000': <TimeitResult : 30 ms ± 9.19 ms per loop (mean ± std. dev. of 10 runs, 1 loop each)>,\n",
       " '4000': <TimeitResult : 119 ms ± 44 ms per loop (mean ± std. dev. of 10 runs, 1 loop each)>,\n",
       " '8000': <TimeitResult : 480 ms ± 200 ms per loop (mean ± std. dev. of 10 runs, 1 loop each)>,\n",
       " '16000': <TimeitResult : 1.94 s ± 766 ms per loop (mean ± std. dev. of 10 runs, 1 loop each)>,\n",
       " '32000': <TimeitResult : 8.43 s ± 3.39 s per loop (mean ± std. dev. of 10 runs, 1 loop each)>,\n",
       " '64000': <TimeitResult : 33.7 s ± 13.6 s per loop (mean ± std. dev. of 10 runs, 1 loop each)>,\n",
       " '128000': <TimeitResult : 2min 15s ± 55.7 s per loop (mean ± std. dev. of 10 runs, 1 loop each)>,\n",
       " '256000': <TimeitResult : 9min 5s ± 3min 46s per loop (mean ± std. dev. of 10 runs, 1 loop each)>}"
      ]
     },
     "execution_count": 110,
     "metadata": {},
     "output_type": "execute_result"
    }
   ],
   "source": [
    "print(f\"Collection for run: {run_name}\")\n",
    "RUN_TIMINGS_MAP[run_name] = {}\n",
    "collect_timings(\n",
    "    gen_func,\n",
    "    setup_func,\n",
    "    RUN_ARGUMENTS_MAP[run_name],\n",
    "    transform_func=transform_func,\n",
    "    timings=RUN_TIMINGS_MAP[run_name]\n",
    ")"
   ]
  },
  {
   "cell_type": "code",
   "execution_count": 111,
   "id": "appointed-brass",
   "metadata": {
    "ExecuteTime": {
     "end_time": "2021-06-29T16:12:29.001865Z",
     "start_time": "2021-06-29T16:12:28.995216Z"
    }
   },
   "outputs": [],
   "source": [
    "helper.save_report(RUN_TIMINGS_MAP[run_name], report_file, overwrite=True)"
   ]
  },
  {
   "cell_type": "code",
   "execution_count": 112,
   "id": "wireless-guidance",
   "metadata": {
    "ExecuteTime": {
     "end_time": "2021-06-29T16:12:29.111699Z",
     "start_time": "2021-06-29T16:12:29.003505Z"
    },
    "run_control": {
     "marked": true
    },
    "scrolled": true
   },
   "outputs": [
    {
     "name": "stdout",
     "output_type": "stream",
     "text": [
      "    Run ID: Factor\n",
      "=======================\n",
      "       500: 1.00\n",
      "      1000: 1.81\n",
      "      2000: 6.16\n",
      "      4000: 23.04\n",
      "      8000: 90.77\n",
      "     16000: 363.27\n",
      "     32000: 1616.62\n",
      "     64000: 6475.54\n",
      "    128000: 25887.79\n",
      "    256000: 103522.77\n"
     ]
    }
   ],
   "source": [
    "helper.print_ratios(helper.get_ratios(RUN_TIMINGS_MAP[run_name]))"
   ]
  },
  {
   "cell_type": "markdown",
   "id": "effective-springfield",
   "metadata": {},
   "source": [
    "<a id=\"run_b\"></a>\n",
    "#### Run b"
   ]
  },
  {
   "cell_type": "code",
   "execution_count": 113,
   "id": "lonely-yorkshire",
   "metadata": {
    "ExecuteTime": {
     "end_time": "2021-06-29T16:12:29.118228Z",
     "start_time": "2021-06-29T16:12:29.113320Z"
    }
   },
   "outputs": [],
   "source": [
    "run_name = \"no_structure_run_b\"\n",
    "report_file = report_dir / f\"{run_name}.json\"\n",
    "\n",
    "gen_func = helper.gen_no_structure_points\n",
    "transform_func = pairwise_distances\n",
    "setup_func = setup_commonnn_clustering__fit"
   ]
  },
  {
   "cell_type": "code",
   "execution_count": 114,
   "id": "constitutional-istanbul",
   "metadata": {
    "ExecuteTime": {
     "end_time": "2021-06-29T16:12:29.127240Z",
     "start_time": "2021-06-29T16:12:29.119369Z"
    }
   },
   "outputs": [],
   "source": [
    "radius_cutoff = 0.25\n",
    "cnn_cutoff = 0\n",
    "\n",
    "RUN_ARGUMENTS_MAP[run_name] = []\n",
    "for n_points in [500 * 2**x for x in range(8)]:  # Memory error on 128000\n",
    "    RUN_ARGUMENTS_MAP[run_name].append(\n",
    "        {\n",
    "            \"id\": str(n_points),\n",
    "            \"gen\": (\n",
    "                ((n_points, 2),), {}\n",
    "            ),\n",
    "            \"setup\": (\n",
    "                (), {\"recipe\": distance_recipe}\n",
    "            ),\n",
    "            \"timed\": (\n",
    "                (_types.ClusterParameters(radius_cutoff, cnn_cutoff),), {}\n",
    "            ),\n",
    "        }\n",
    "    )"
   ]
  },
  {
   "cell_type": "code",
   "execution_count": 115,
   "id": "driving-taste",
   "metadata": {
    "ExecuteTime": {
     "end_time": "2021-06-29T16:22:31.030816Z",
     "start_time": "2021-06-29T16:12:29.128315Z"
    },
    "scrolled": true
   },
   "outputs": [
    {
     "name": "stdout",
     "output_type": "stream",
     "text": [
      "Collection for run: no_structure_run_b\n"
     ]
    },
    {
     "data": {
      "application/vnd.jupyter.widget-view+json": {
       "model_id": "6212113d71b144019d42d1bbcecd1b1b",
       "version_major": 2,
       "version_minor": 0
      },
      "text/plain": [
       "Run completed:   0%|          | 0/8 [00:00<?, ?it/s]"
      ]
     },
     "metadata": {},
     "output_type": "display_data"
    },
    {
     "name": "stdout",
     "output_type": "stream",
     "text": [
      "Timed run ID:        500    (29.06.2021 18:12:29)\n",
      "Timed run ID:       1000    (29.06.2021 18:12:29)\n",
      "Timed run ID:       2000    (29.06.2021 18:12:30)\n",
      "Timed run ID:       4000    (29.06.2021 18:12:31)\n",
      "Timed run ID:       8000    (29.06.2021 18:12:38)\n",
      "Timed run ID:      16000    (29.06.2021 18:13:09)\n",
      "Timed run ID:      32000    (29.06.2021 18:14:59)\n",
      "Timed run ID:      64000    (29.06.2021 18:22:31)\n"
     ]
    },
    {
     "data": {
      "text/plain": [
       "{'500': <TimeitResult : 3.41 ms ± 674 µs per loop (mean ± std. dev. of 10 runs, 1 loop each)>,\n",
       " '1000': <TimeitResult : 16.2 ms ± 5.16 ms per loop (mean ± std. dev. of 10 runs, 1 loop each)>,\n",
       " '2000': <TimeitResult : 49.7 ms ± 20.3 ms per loop (mean ± std. dev. of 10 runs, 1 loop each)>,\n",
       " '4000': <TimeitResult : 141 ms ± 3.21 ms per loop (mean ± std. dev. of 10 runs, 1 loop each)>,\n",
       " '8000': <TimeitResult : 572 ms ± 1.22 ms per loop (mean ± std. dev. of 10 runs, 1 loop each)>,\n",
       " '16000': <TimeitResult : 2.49 s ± 210 ms per loop (mean ± std. dev. of 10 runs, 1 loop each)>,\n",
       " '32000': <TimeitResult : 9.24 s ± 122 ms per loop (mean ± std. dev. of 10 runs, 1 loop each)>,\n",
       " '64000': <TimeitResult : 37.6 s ± 769 ms per loop (mean ± std. dev. of 10 runs, 1 loop each)>}"
      ]
     },
     "execution_count": 115,
     "metadata": {},
     "output_type": "execute_result"
    }
   ],
   "source": [
    "print(f\"Collection for run: {run_name}\")\n",
    "RUN_TIMINGS_MAP[run_name] = {}\n",
    "collect_timings(\n",
    "    gen_func,\n",
    "    setup_func,\n",
    "    RUN_ARGUMENTS_MAP[run_name],\n",
    "    transform_func=transform_func,\n",
    "    timings=RUN_TIMINGS_MAP[run_name]\n",
    ")"
   ]
  },
  {
   "cell_type": "code",
   "execution_count": 116,
   "id": "technological-conditions",
   "metadata": {
    "ExecuteTime": {
     "end_time": "2021-06-29T16:22:31.036261Z",
     "start_time": "2021-06-29T16:22:31.033344Z"
    }
   },
   "outputs": [],
   "source": [
    "RUN_TIMINGS_MAP[run_name][\"128000\"] = \"MemoryError\""
   ]
  },
  {
   "cell_type": "code",
   "execution_count": 117,
   "id": "otherwise-evanescence",
   "metadata": {
    "ExecuteTime": {
     "end_time": "2021-06-29T16:22:31.057201Z",
     "start_time": "2021-06-29T16:22:31.038584Z"
    }
   },
   "outputs": [],
   "source": [
    "helper.save_report(RUN_TIMINGS_MAP[run_name], report_file, overwrite=True)"
   ]
  },
  {
   "cell_type": "code",
   "execution_count": 118,
   "id": "technical-sister",
   "metadata": {
    "ExecuteTime": {
     "end_time": "2021-06-29T16:22:31.062234Z",
     "start_time": "2021-06-29T16:22:31.058800Z"
    }
   },
   "outputs": [
    {
     "name": "stdout",
     "output_type": "stream",
     "text": [
      "    Run ID: Factor\n",
      "=======================\n",
      "       500: 1.00\n",
      "      1000: 3.32\n",
      "      2000: 12.95\n",
      "      4000: 51.16\n",
      "      8000: 212.44\n",
      "     16000: 868.32\n",
      "     32000: 3369.83\n",
      "     64000: 13905.35\n"
     ]
    }
   ],
   "source": [
    "helper.print_ratios(helper.get_ratios(RUN_TIMINGS_MAP[run_name], which=\"best\"))"
   ]
  },
  {
   "cell_type": "markdown",
   "id": "equivalent-ecuador",
   "metadata": {},
   "source": [
    "<a id=\"run_c\"></a>\n",
    "#### Run c"
   ]
  },
  {
   "cell_type": "code",
   "execution_count": 119,
   "id": "amended-melbourne",
   "metadata": {
    "ExecuteTime": {
     "end_time": "2021-06-29T16:22:31.070301Z",
     "start_time": "2021-06-29T16:22:31.063412Z"
    }
   },
   "outputs": [],
   "source": [
    "run_name = \"no_structure_run_c\"\n",
    "report_file = report_dir / f\"{run_name}.json\"\n",
    "\n",
    "gen_func = helper.gen_no_structure_points\n",
    "transform_func = compute_neighbours\n",
    "setup_func = setup_commonnn_clustering__fit"
   ]
  },
  {
   "cell_type": "code",
   "execution_count": 120,
   "id": "hawaiian-relative",
   "metadata": {
    "ExecuteTime": {
     "end_time": "2021-06-29T16:22:31.079567Z",
     "start_time": "2021-06-29T16:22:31.071511Z"
    }
   },
   "outputs": [],
   "source": [
    "RUN_ARGUMENTS_MAP[run_name] = []\n",
    "\n",
    "radius_cutoff = 0.25\n",
    "cnn_cutoff = 0\n",
    "for n_points in n_points_list:\n",
    "    RUN_ARGUMENTS_MAP[run_name].append(\n",
    "        {\n",
    "            \"id\": str(n_points),\n",
    "            \"gen\": (\n",
    "                ((n_points, 2),), {}\n",
    "            ),\n",
    "            \"transform\": (\n",
    "                (radius_cutoff,), {}\n",
    "            ),\n",
    "            \"setup\": (\n",
    "                (), {\n",
    "                    \"preparation_hook\": cluster.prepare_neighbourhoods,\n",
    "                    \"recipe\": neighbours_recipe\n",
    "                    }\n",
    "            ),\n",
    "            \"timed\": (\n",
    "                (_types.ClusterParameters(radius_cutoff, cnn_cutoff),), {}\n",
    "            ),\n",
    "        }\n",
    "    )"
   ]
  },
  {
   "cell_type": "code",
   "execution_count": 121,
   "id": "broadband-questionnaire",
   "metadata": {
    "ExecuteTime": {
     "end_time": "2021-06-29T17:04:26.790670Z",
     "start_time": "2021-06-29T16:22:31.080741Z"
    }
   },
   "outputs": [
    {
     "name": "stdout",
     "output_type": "stream",
     "text": [
      "Collection for run: no_structure_run_c\n"
     ]
    },
    {
     "data": {
      "application/vnd.jupyter.widget-view+json": {
       "model_id": "0876b0fe41ea4d0db2e6027773251ac4",
       "version_major": 2,
       "version_minor": 0
      },
      "text/plain": [
       "Run completed:   0%|          | 0/10 [00:00<?, ?it/s]"
      ]
     },
     "metadata": {},
     "output_type": "display_data"
    },
    {
     "name": "stdout",
     "output_type": "stream",
     "text": [
      "Timed run ID:        500    (29.06.2021 18:22:31)\n",
      "Timed run ID:       1000    (29.06.2021 18:22:31)\n",
      "Timed run ID:       2000    (29.06.2021 18:22:32)\n",
      "Timed run ID:       4000    (29.06.2021 18:22:34)\n",
      "Timed run ID:       8000    (29.06.2021 18:22:37)\n",
      "Timed run ID:      16000    (29.06.2021 18:22:48)\n",
      "Timed run ID:      32000    (29.06.2021 18:23:22)\n",
      "Timed run ID:      64000    (29.06.2021 18:25:24)\n",
      "Timed run ID:     128000    (29.06.2021 18:33:10)\n",
      "Timed run ID:     256000    (29.06.2021 19:04:26)\n"
     ]
    },
    {
     "data": {
      "text/plain": [
       "{'500': <TimeitResult : 3.65 ms ± 3.33 ms per loop (mean ± std. dev. of 10 runs, 1 loop each)>,\n",
       " '1000': <TimeitResult : 5.63 ms ± 1.57 ms per loop (mean ± std. dev. of 10 runs, 1 loop each)>,\n",
       " '2000': <TimeitResult : 14.8 ms ± 6.1 ms per loop (mean ± std. dev. of 10 runs, 1 loop each)>,\n",
       " '4000': <TimeitResult : 38.1 ms ± 950 µs per loop (mean ± std. dev. of 10 runs, 1 loop each)>,\n",
       " '8000': <TimeitResult : 143 ms ± 4.17 ms per loop (mean ± std. dev. of 10 runs, 1 loop each)>,\n",
       " '16000': <TimeitResult : 563 ms ± 9.38 ms per loop (mean ± std. dev. of 10 runs, 1 loop each)>,\n",
       " '32000': <TimeitResult : 2.26 s ± 47.9 ms per loop (mean ± std. dev. of 10 runs, 1 loop each)>,\n",
       " '64000': <TimeitResult : 9.19 s ± 176 ms per loop (mean ± std. dev. of 10 runs, 1 loop each)>,\n",
       " '128000': <TimeitResult : 38.5 s ± 192 ms per loop (mean ± std. dev. of 10 runs, 1 loop each)>,\n",
       " '256000': <TimeitResult : 2min 46s ± 1.44 s per loop (mean ± std. dev. of 10 runs, 1 loop each)>}"
      ]
     },
     "execution_count": 121,
     "metadata": {},
     "output_type": "execute_result"
    }
   ],
   "source": [
    "print(f\"Collection for run: {run_name}\")\n",
    "RUN_TIMINGS_MAP[run_name] = {}\n",
    "collect_timings(\n",
    "    gen_func,\n",
    "    setup_func,\n",
    "    RUN_ARGUMENTS_MAP[run_name],\n",
    "    transform_func=transform_func,\n",
    "    timings=RUN_TIMINGS_MAP[run_name]\n",
    ")"
   ]
  },
  {
   "cell_type": "code",
   "execution_count": 122,
   "id": "naval-residence",
   "metadata": {
    "ExecuteTime": {
     "end_time": "2021-06-29T17:04:26.799722Z",
     "start_time": "2021-06-29T17:04:26.793727Z"
    }
   },
   "outputs": [],
   "source": [
    "helper.save_report(RUN_TIMINGS_MAP[run_name], report_file, overwrite=True)"
   ]
  },
  {
   "cell_type": "code",
   "execution_count": 123,
   "id": "dependent-ticket",
   "metadata": {
    "ExecuteTime": {
     "end_time": "2021-06-29T17:04:26.887238Z",
     "start_time": "2021-06-29T17:04:26.800968Z"
    },
    "scrolled": false
   },
   "outputs": [
    {
     "name": "stdout",
     "output_type": "stream",
     "text": [
      "    Run ID: Factor\n",
      "=======================\n",
      "       500: 1.00\n",
      "      1000: 1.91\n",
      "      2000: 5.02\n",
      "      4000: 17.96\n",
      "      8000: 66.99\n",
      "     16000: 270.92\n",
      "     32000: 1084.24\n",
      "     64000: 4418.46\n",
      "    128000: 18664.07\n",
      "    256000: 80302.38\n"
     ]
    }
   ],
   "source": [
    "helper.print_ratios(helper.get_ratios(RUN_TIMINGS_MAP[run_name], which=\"best\"))"
   ]
  },
  {
   "cell_type": "markdown",
   "id": "given-martin",
   "metadata": {},
   "source": [
    "<a id=\"run_d_a\"></a>\n",
    "#### Run d a"
   ]
  },
  {
   "cell_type": "code",
   "execution_count": 44,
   "id": "boolean-burst",
   "metadata": {
    "ExecuteTime": {
     "end_time": "2021-06-29T13:02:40.124524Z",
     "start_time": "2021-06-29T13:02:40.118638Z"
    }
   },
   "outputs": [],
   "source": [
    "run_name = \"no_structure_run_d_a\"\n",
    "report_file = report_dir / f\"{run_name}.json\"\n",
    "\n",
    "gen_func = helper.gen_no_structure_points\n",
    "transform_func = compute_neighbours\n",
    "setup_func = setup_commonnn_clustering__fit"
   ]
  },
  {
   "cell_type": "code",
   "execution_count": 45,
   "id": "initial-armor",
   "metadata": {
    "ExecuteTime": {
     "end_time": "2021-06-29T13:02:41.517455Z",
     "start_time": "2021-06-29T13:02:41.507561Z"
    }
   },
   "outputs": [],
   "source": [
    "RUN_ARGUMENTS_MAP[run_name] = []\n",
    "\n",
    "radius_cutoff = 0.25\n",
    "cnn_cutoff = 0\n",
    "for n_points in n_points_list:\n",
    "    RUN_ARGUMENTS_MAP[run_name].append(\n",
    "        {\n",
    "            \"id\": str(n_points),\n",
    "            \"gen\": (\n",
    "                ((n_points, 2),), {}\n",
    "            ),\n",
    "            \"transform\": (\n",
    "                (radius_cutoff,), {\"sort\": True}\n",
    "            ),\n",
    "            \"setup\": (\n",
    "                (), {\n",
    "                    \"preparation_hook\": cluster.prepare_neighbourhoods,\n",
    "                    \"recipe\": neighbours_sorted_recipe\n",
    "                    }\n",
    "            ),\n",
    "            \"timed\": (\n",
    "                (_types.ClusterParameters(radius_cutoff, cnn_cutoff),), {}\n",
    "            ),\n",
    "        }\n",
    "    )"
   ]
  },
  {
   "cell_type": "code",
   "execution_count": 46,
   "id": "charged-excuse",
   "metadata": {
    "ExecuteTime": {
     "end_time": "2021-06-29T13:09:42.119951Z",
     "start_time": "2021-06-29T13:02:43.488099Z"
    }
   },
   "outputs": [
    {
     "name": "stdout",
     "output_type": "stream",
     "text": [
      "Collection for run: no_structure_run_d_a\n"
     ]
    },
    {
     "data": {
      "application/vnd.jupyter.widget-view+json": {
       "model_id": "642a957003934419aa110a7a763288fc",
       "version_major": 2,
       "version_minor": 0
      },
      "text/plain": [
       "Run completed:   0%|          | 0/10 [00:00<?, ?it/s]"
      ]
     },
     "metadata": {},
     "output_type": "display_data"
    },
    {
     "name": "stdout",
     "output_type": "stream",
     "text": [
      "Timed run ID:        500    (29.06.2021 15:02:43)\n",
      "Timed run ID:       1000    (29.06.2021 15:02:44)\n",
      "Timed run ID:       2000    (29.06.2021 15:02:44)\n",
      "Timed run ID:       4000    (29.06.2021 15:02:45)\n",
      "Timed run ID:       8000    (29.06.2021 15:02:48)\n",
      "Timed run ID:      16000    (29.06.2021 15:02:53)\n",
      "Timed run ID:      32000    (29.06.2021 15:03:05)\n",
      "Timed run ID:      64000    (29.06.2021 15:03:35)\n",
      "Timed run ID:     128000    (29.06.2021 15:04:58)\n",
      "Timed run ID:     256000    (29.06.2021 15:09:42)\n"
     ]
    },
    {
     "data": {
      "text/plain": [
       "{'500': <TimeitResult : 2.09 ms ± 186 µs per loop (mean ± std. dev. of 10 runs, 1 loop each)>,\n",
       " '1000': <TimeitResult : 2.2 ms ± 234 µs per loop (mean ± std. dev. of 10 runs, 1 loop each)>,\n",
       " '2000': <TimeitResult : 3.27 ms ± 955 µs per loop (mean ± std. dev. of 10 runs, 1 loop each)>,\n",
       " '4000': <TimeitResult : 4.34 ms ± 416 µs per loop (mean ± std. dev. of 10 runs, 1 loop each)>,\n",
       " '8000': <TimeitResult : 10.3 ms ± 855 µs per loop (mean ± std. dev. of 10 runs, 1 loop each)>,\n",
       " '16000': <TimeitResult : 33 ms ± 1.5 ms per loop (mean ± std. dev. of 10 runs, 1 loop each)>,\n",
       " '32000': <TimeitResult : 118 ms ± 3.19 ms per loop (mean ± std. dev. of 10 runs, 1 loop each)>,\n",
       " '64000': <TimeitResult : 442 ms ± 7.04 ms per loop (mean ± std. dev. of 10 runs, 1 loop each)>,\n",
       " '128000': <TimeitResult : 1.72 s ± 10.8 ms per loop (mean ± std. dev. of 10 runs, 1 loop each)>,\n",
       " '256000': <TimeitResult : 7.15 s ± 128 ms per loop (mean ± std. dev. of 10 runs, 1 loop each)>}"
      ]
     },
     "execution_count": 46,
     "metadata": {},
     "output_type": "execute_result"
    }
   ],
   "source": [
    "print(f\"Collection for run: {run_name}\")\n",
    "RUN_TIMINGS_MAP[run_name] = {}\n",
    "collect_timings(\n",
    "    gen_func,\n",
    "    setup_func,\n",
    "    RUN_ARGUMENTS_MAP[run_name],\n",
    "    transform_func=transform_func,\n",
    "    timings=RUN_TIMINGS_MAP[run_name]\n",
    ")"
   ]
  },
  {
   "cell_type": "code",
   "execution_count": 65,
   "id": "ready-irish",
   "metadata": {
    "ExecuteTime": {
     "end_time": "2021-05-06T16:57:25.316421Z",
     "start_time": "2021-05-06T16:57:25.312027Z"
    }
   },
   "outputs": [],
   "source": [
    "previous_timings = load_report(report_file)\n",
    "for run_id, timing in previous_timings.items():\n",
    "    if run_id in RUN_TIMINGS_MAP[run_name]:\n",
    "        combined = combine_timeit_results(\n",
    "            RUN_TIMINGS_MAP[run_name][run_id], timing\n",
    "        )\n",
    "    else:\n",
    "        combined = timing\n",
    "        \n",
    "    RUN_TIMINGS_MAP[run_name][run_id] = combined"
   ]
  },
  {
   "cell_type": "code",
   "execution_count": 48,
   "id": "french-optimization",
   "metadata": {
    "ExecuteTime": {
     "end_time": "2021-06-29T13:30:38.170062Z",
     "start_time": "2021-06-29T13:30:38.159100Z"
    }
   },
   "outputs": [],
   "source": [
    "helper.save_report(RUN_TIMINGS_MAP[run_name], report_file, overwrite=True)"
   ]
  },
  {
   "cell_type": "code",
   "execution_count": 49,
   "id": "normal-marina",
   "metadata": {
    "ExecuteTime": {
     "end_time": "2021-06-29T13:30:40.239623Z",
     "start_time": "2021-06-29T13:30:40.229028Z"
    }
   },
   "outputs": [
    {
     "name": "stdout",
     "output_type": "stream",
     "text": [
      "    Run ID: Factor\n",
      "=======================\n",
      "       500: 1.00\n",
      "      1000: 1.10\n",
      "      2000: 1.31\n",
      "      4000: 2.14\n",
      "      8000: 5.19\n",
      "     16000: 17.55\n",
      "     32000: 64.50\n",
      "     64000: 246.32\n",
      "    128000: 979.39\n",
      "    256000: 4049.84\n"
     ]
    }
   ],
   "source": [
    "helper.print_ratios(helper.get_ratios(RUN_TIMINGS_MAP[run_name], which=\"best\"))"
   ]
  },
  {
   "cell_type": "markdown",
   "id": "received-secret",
   "metadata": {},
   "source": [
    "<a id=\"run_d_b\"></a>\n",
    "#### Run d b"
   ]
  },
  {
   "cell_type": "code",
   "execution_count": 72,
   "id": "exterior-writer",
   "metadata": {
    "ExecuteTime": {
     "end_time": "2021-06-29T13:41:31.135511Z",
     "start_time": "2021-06-29T13:41:31.131279Z"
    }
   },
   "outputs": [],
   "source": [
    "run_name = \"no_structure_run_d_b\"\n",
    "report_file = report_dir / f\"{run_name}.json\"\n",
    "\n",
    "gen_func = helper.gen_no_structure_points\n",
    "transform_func = compute_neighbours\n",
    "setup_func = setup_commonnn_clustering__fit"
   ]
  },
  {
   "cell_type": "code",
   "execution_count": 73,
   "id": "atlantic-surrey",
   "metadata": {
    "ExecuteTime": {
     "end_time": "2021-06-29T13:41:32.292669Z",
     "start_time": "2021-06-29T13:41:32.284984Z"
    }
   },
   "outputs": [],
   "source": [
    "RUN_ARGUMENTS_MAP[run_name] = []\n",
    "\n",
    "radius_cutoff = 0.25\n",
    "cnn_cutoff = 50\n",
    "for n_points in n_points_list:\n",
    "    RUN_ARGUMENTS_MAP[run_name].append(\n",
    "        {\n",
    "            \"id\": str(n_points),\n",
    "            \"gen\": (\n",
    "                ((n_points, 2),), {}\n",
    "            ),\n",
    "            \"transform\": (\n",
    "                (radius_cutoff,), {\"sort\": True}\n",
    "            ),\n",
    "            \"setup\": (\n",
    "                (), {\n",
    "                    \"preparation_hook\": cluster.prepare_neighbourhoods,\n",
    "                    \"recipe\": neighbours_sorted_recipe\n",
    "                    }\n",
    "            ),\n",
    "            \"timed\": (\n",
    "                (_types.ClusterParameters(radius_cutoff, cnn_cutoff),), {}\n",
    "            ),\n",
    "        }\n",
    "    )"
   ]
  },
  {
   "cell_type": "code",
   "execution_count": 74,
   "id": "adequate-detective",
   "metadata": {
    "ExecuteTime": {
     "end_time": "2021-06-29T13:48:59.153979Z",
     "start_time": "2021-06-29T13:41:35.465923Z"
    }
   },
   "outputs": [
    {
     "name": "stdout",
     "output_type": "stream",
     "text": [
      "Collection for run: no_structure_run_d_b\n"
     ]
    },
    {
     "data": {
      "application/vnd.jupyter.widget-view+json": {
       "model_id": "320e8960538640559a1106851f0002af",
       "version_major": 2,
       "version_minor": 0
      },
      "text/plain": [
       "Run completed:   0%|          | 0/10 [00:00<?, ?it/s]"
      ]
     },
     "metadata": {},
     "output_type": "display_data"
    },
    {
     "name": "stdout",
     "output_type": "stream",
     "text": [
      "Timed run ID:        500    (29.06.2021 15:41:35)\n",
      "Timed run ID:       1000    (29.06.2021 15:41:35)\n",
      "Timed run ID:       2000    (29.06.2021 15:41:36)\n",
      "Timed run ID:       4000    (29.06.2021 15:41:38)\n",
      "Timed run ID:       8000    (29.06.2021 15:41:40)\n",
      "Timed run ID:      16000    (29.06.2021 15:41:46)\n",
      "Timed run ID:      32000    (29.06.2021 15:41:59)\n",
      "Timed run ID:      64000    (29.06.2021 15:42:31)\n",
      "Timed run ID:     128000    (29.06.2021 15:44:05)\n",
      "Timed run ID:     256000    (29.06.2021 15:48:58)\n"
     ]
    },
    {
     "data": {
      "text/plain": [
       "{'500': <TimeitResult : 1.94 ms ± 189 µs per loop (mean ± std. dev. of 10 runs, 1 loop each)>,\n",
       " '1000': <TimeitResult : 1.81 ms ± 133 µs per loop (mean ± std. dev. of 10 runs, 1 loop each)>,\n",
       " '2000': <TimeitResult : 1.9 ms ± 111 µs per loop (mean ± std. dev. of 10 runs, 1 loop each)>,\n",
       " '4000': <TimeitResult : 37.4 ms ± 9.64 ms per loop (mean ± std. dev. of 10 runs, 1 loop each)>,\n",
       " '8000': <TimeitResult : 54.6 ms ± 23.2 ms per loop (mean ± std. dev. of 10 runs, 1 loop each)>,\n",
       " '16000': <TimeitResult : 49.4 ms ± 1.76 ms per loop (mean ± std. dev. of 10 runs, 1 loop each)>,\n",
       " '32000': <TimeitResult : 152 ms ± 10.7 ms per loop (mean ± std. dev. of 10 runs, 1 loop each)>,\n",
       " '64000': <TimeitResult : 511 ms ± 7.72 ms per loop (mean ± std. dev. of 10 runs, 1 loop each)>,\n",
       " '128000': <TimeitResult : 1.98 s ± 179 ms per loop (mean ± std. dev. of 10 runs, 1 loop each)>,\n",
       " '256000': <TimeitResult : 7.37 s ± 78.4 ms per loop (mean ± std. dev. of 10 runs, 1 loop each)>}"
      ]
     },
     "execution_count": 74,
     "metadata": {},
     "output_type": "execute_result"
    }
   ],
   "source": [
    "print(f\"Collection for run: {run_name}\")\n",
    "RUN_TIMINGS_MAP[run_name] = {}\n",
    "collect_timings(\n",
    "    gen_func,\n",
    "    setup_func,\n",
    "    RUN_ARGUMENTS_MAP[run_name],\n",
    "    transform_func=transform_func,\n",
    "    timings=RUN_TIMINGS_MAP[run_name]\n",
    ")"
   ]
  },
  {
   "cell_type": "code",
   "execution_count": 75,
   "id": "rotary-bolivia",
   "metadata": {
    "ExecuteTime": {
     "end_time": "2021-06-29T13:48:59.164950Z",
     "start_time": "2021-06-29T13:48:59.157304Z"
    }
   },
   "outputs": [],
   "source": [
    "helper.save_report(RUN_TIMINGS_MAP[run_name], report_file, overwrite=True)"
   ]
  },
  {
   "cell_type": "code",
   "execution_count": 76,
   "id": "sought-vacation",
   "metadata": {
    "ExecuteTime": {
     "end_time": "2021-06-29T13:48:59.184705Z",
     "start_time": "2021-06-29T13:48:59.167288Z"
    }
   },
   "outputs": [
    {
     "name": "stdout",
     "output_type": "stream",
     "text": [
      "    Run ID: Factor\n",
      "=======================\n",
      "       500: 1.00\n",
      "      1000: 1.02\n",
      "      2000: 1.08\n",
      "      4000: 10.52\n",
      "      8000: 14.30\n",
      "     16000: 27.01\n",
      "     32000: 83.65\n",
      "     64000: 287.89\n",
      "    128000: 1057.80\n",
      "    256000: 4240.37\n"
     ]
    }
   ],
   "source": [
    "helper.print_ratios(helper.get_ratios(RUN_TIMINGS_MAP[run_name], which=\"best\"))"
   ]
  },
  {
   "cell_type": "markdown",
   "id": "uniform-element",
   "metadata": {},
   "source": [
    "<a id=\"run_d_c\"></a>\n",
    "#### Run d c"
   ]
  },
  {
   "cell_type": "code",
   "execution_count": 79,
   "id": "valuable-seafood",
   "metadata": {
    "ExecuteTime": {
     "end_time": "2021-06-29T13:48:59.213943Z",
     "start_time": "2021-06-29T13:48:59.207862Z"
    }
   },
   "outputs": [],
   "source": [
    "run_name = \"no_structure_run_d_c\"\n",
    "report_file = report_dir / f\"{run_name}.json\"\n",
    "\n",
    "gen_func = helper.gen_no_structure_points\n",
    "transform_func = compute_neighbours\n",
    "setup_func = setup_commonnn_clustering__fit"
   ]
  },
  {
   "cell_type": "code",
   "execution_count": 80,
   "id": "precise-eating",
   "metadata": {
    "ExecuteTime": {
     "end_time": "2021-06-29T13:48:59.220819Z",
     "start_time": "2021-06-29T13:48:59.215495Z"
    }
   },
   "outputs": [],
   "source": [
    "RUN_ARGUMENTS_MAP[run_name] = []\n",
    "\n",
    "radius_cutoff = 0.25\n",
    "cnn_cutoff = 100\n",
    "for n_points in n_points_list:\n",
    "    RUN_ARGUMENTS_MAP[run_name].append(\n",
    "        {\n",
    "            \"id\": str(n_points),\n",
    "            \"gen\": (\n",
    "                ((n_points, 2),), {}\n",
    "            ),\n",
    "            \"transform\": (\n",
    "                (radius_cutoff,), {\"sort\": True}\n",
    "            ),\n",
    "            \"setup\": (\n",
    "                (), {\n",
    "                    \"preparation_hook\": cluster.prepare_neighbourhoods,\n",
    "                    \"recipe\": neighbours_sorted_recipe\n",
    "                    }\n",
    "            ),\n",
    "            \"timed\": (\n",
    "                (_types.ClusterParameters(radius_cutoff, cnn_cutoff),), {}\n",
    "            ),\n",
    "        }\n",
    "    )"
   ]
  },
  {
   "cell_type": "code",
   "execution_count": 81,
   "id": "fifth-census",
   "metadata": {
    "ExecuteTime": {
     "end_time": "2021-06-29T13:56:29.768653Z",
     "start_time": "2021-06-29T13:48:59.223615Z"
    }
   },
   "outputs": [
    {
     "name": "stdout",
     "output_type": "stream",
     "text": [
      "Collection for run: no_structure_run_d_c\n"
     ]
    },
    {
     "data": {
      "application/vnd.jupyter.widget-view+json": {
       "model_id": "5c62a7e21fcc4c5a884f8fae0eb29950",
       "version_major": 2,
       "version_minor": 0
      },
      "text/plain": [
       "Run completed:   0%|          | 0/10 [00:00<?, ?it/s]"
      ]
     },
     "metadata": {},
     "output_type": "display_data"
    },
    {
     "name": "stdout",
     "output_type": "stream",
     "text": [
      "Timed run ID:        500    (29.06.2021 15:48:59)\n",
      "Timed run ID:       1000    (29.06.2021 15:48:59)\n",
      "Timed run ID:       2000    (29.06.2021 15:49:00)\n",
      "Timed run ID:       4000    (29.06.2021 15:49:01)\n",
      "Timed run ID:       8000    (29.06.2021 15:49:07)\n",
      "Timed run ID:      16000    (29.06.2021 15:49:14)\n",
      "Timed run ID:      32000    (29.06.2021 15:49:27)\n",
      "Timed run ID:      64000    (29.06.2021 15:50:00)\n",
      "Timed run ID:     128000    (29.06.2021 15:51:32)\n",
      "Timed run ID:     256000    (29.06.2021 15:56:29)\n"
     ]
    },
    {
     "data": {
      "text/plain": [
       "{'500': <TimeitResult : 1.84 ms ± 74.6 µs per loop (mean ± std. dev. of 10 runs, 1 loop each)>,\n",
       " '1000': <TimeitResult : 1.9 ms ± 80.2 µs per loop (mean ± std. dev. of 10 runs, 1 loop each)>,\n",
       " '2000': <TimeitResult : 1.97 ms ± 13.2 µs per loop (mean ± std. dev. of 10 runs, 1 loop each)>,\n",
       " '4000': <TimeitResult : 2.44 ms ± 60.5 µs per loop (mean ± std. dev. of 10 runs, 1 loop each)>,\n",
       " '8000': <TimeitResult : 354 ms ± 16.5 ms per loop (mean ± std. dev. of 10 runs, 1 loop each)>,\n",
       " '16000': <TimeitResult : 185 ms ± 63.4 ms per loop (mean ± std. dev. of 10 runs, 1 loop each)>,\n",
       " '32000': <TimeitResult : 183 ms ± 3.98 ms per loop (mean ± std. dev. of 10 runs, 1 loop each)>,\n",
       " '64000': <TimeitResult : 581 ms ± 7.54 ms per loop (mean ± std. dev. of 10 runs, 1 loop each)>,\n",
       " '128000': <TimeitResult : 1.98 s ± 20.5 ms per loop (mean ± std. dev. of 10 runs, 1 loop each)>,\n",
       " '256000': <TimeitResult : 7.55 s ± 33.2 ms per loop (mean ± std. dev. of 10 runs, 1 loop each)>}"
      ]
     },
     "execution_count": 81,
     "metadata": {},
     "output_type": "execute_result"
    }
   ],
   "source": [
    "print(f\"Collection for run: {run_name}\")\n",
    "RUN_TIMINGS_MAP[run_name] = {}\n",
    "collect_timings(\n",
    "    gen_func,\n",
    "    setup_func,\n",
    "    RUN_ARGUMENTS_MAP[run_name],\n",
    "    transform_func=transform_func,\n",
    "    timings=RUN_TIMINGS_MAP[run_name]\n",
    ")"
   ]
  },
  {
   "cell_type": "code",
   "execution_count": 82,
   "id": "smoking-oxygen",
   "metadata": {
    "ExecuteTime": {
     "end_time": "2021-06-29T13:56:29.779100Z",
     "start_time": "2021-06-29T13:56:29.772498Z"
    }
   },
   "outputs": [],
   "source": [
    "helper.save_report(RUN_TIMINGS_MAP[run_name], report_file, overwrite=True)"
   ]
  },
  {
   "cell_type": "code",
   "execution_count": 83,
   "id": "level-extension",
   "metadata": {
    "ExecuteTime": {
     "end_time": "2021-06-29T13:56:29.794699Z",
     "start_time": "2021-06-29T13:56:29.780726Z"
    },
    "run_control": {
     "marked": true
    },
    "scrolled": true
   },
   "outputs": [
    {
     "name": "stdout",
     "output_type": "stream",
     "text": [
      "    Run ID: Factor\n",
      "=======================\n",
      "       500: 1.00\n",
      "      1000: 1.04\n",
      "      2000: 1.10\n",
      "      4000: 1.35\n",
      "     16000: 57.35\n",
      "     32000: 100.62\n",
      "      8000: 179.41\n",
      "     64000: 319.78\n",
      "    128000: 1098.64\n",
      "    256000: 4235.19\n"
     ]
    }
   ],
   "source": [
    "helper.print_ratios(helper.get_ratios(RUN_TIMINGS_MAP[run_name], which=\"best\"))"
   ]
  },
  {
   "cell_type": "markdown",
   "id": "separate-breathing",
   "metadata": {},
   "source": [
    "<a id=\"run_d_d\"></a>\n",
    "#### Run d d"
   ]
  },
  {
   "cell_type": "code",
   "execution_count": 88,
   "id": "latest-aurora",
   "metadata": {
    "ExecuteTime": {
     "end_time": "2021-06-29T14:07:04.138844Z",
     "start_time": "2021-06-29T14:07:04.132093Z"
    }
   },
   "outputs": [],
   "source": [
    "run_name = \"no_structure_run_d_d\"\n",
    "report_file = report_dir / f\"{run_name}.json\"\n",
    "\n",
    "gen_func = helper.gen_no_structure_points\n",
    "transform_func = compute_neighbours\n",
    "setup_func = setup_commonnn_clustering__fit"
   ]
  },
  {
   "cell_type": "code",
   "execution_count": 89,
   "id": "military-ministry",
   "metadata": {
    "ExecuteTime": {
     "end_time": "2021-06-29T14:07:04.148808Z",
     "start_time": "2021-06-29T14:07:04.140195Z"
    }
   },
   "outputs": [],
   "source": [
    "RUN_ARGUMENTS_MAP[run_name] = []\n",
    "\n",
    "radius_cutoff = 0.1\n",
    "cnn_cutoff = 0\n",
    "for n_points in n_points_list:\n",
    "    RUN_ARGUMENTS_MAP[run_name].append(\n",
    "        {\n",
    "            \"id\": str(n_points),\n",
    "            \"gen\": (\n",
    "                ((n_points, 2),), {}\n",
    "            ),\n",
    "            \"transform\": (\n",
    "                (radius_cutoff,), {\"sort\": True}\n",
    "            ),\n",
    "            \"setup\": (\n",
    "                (), {\n",
    "                    \"preparation_hook\": cluster.prepare_neighbourhoods,\n",
    "                    \"recipe\": neighbours_sorted_recipe\n",
    "                    }\n",
    "            ),\n",
    "            \"timed\": (\n",
    "                (_types.ClusterParameters(radius_cutoff, cnn_cutoff),), {}\n",
    "            ),\n",
    "        }\n",
    "    )"
   ]
  },
  {
   "cell_type": "code",
   "execution_count": 90,
   "id": "amazing-chaos",
   "metadata": {
    "ExecuteTime": {
     "end_time": "2021-06-29T14:03:31.815269Z",
     "start_time": "2021-06-29T14:00:08.204178Z"
    },
    "run_control": {
     "marked": true
    }
   },
   "outputs": [
    {
     "name": "stdout",
     "output_type": "stream",
     "text": [
      "Collection for run: no_structure_run_d_d\n"
     ]
    },
    {
     "data": {
      "application/vnd.jupyter.widget-view+json": {
       "model_id": "0d89f4b1b4f3433f8df64a8700f45ee1",
       "version_major": 2,
       "version_minor": 0
      },
      "text/plain": [
       "Run completed:   0%|          | 0/10 [00:00<?, ?it/s]"
      ]
     },
     "metadata": {},
     "output_type": "display_data"
    },
    {
     "name": "stdout",
     "output_type": "stream",
     "text": [
      "Timed run ID:        500    (29.06.2021 16:00:08)\n",
      "Timed run ID:       1000    (29.06.2021 16:00:08)\n",
      "Timed run ID:       2000    (29.06.2021 16:00:09)\n",
      "Timed run ID:       4000    (29.06.2021 16:00:10)\n",
      "Timed run ID:       8000    (29.06.2021 16:00:12)\n",
      "Timed run ID:      16000    (29.06.2021 16:00:17)\n",
      "Timed run ID:      32000    (29.06.2021 16:00:26)\n",
      "Timed run ID:      64000    (29.06.2021 16:00:47)\n",
      "Timed run ID:     128000    (29.06.2021 16:01:34)\n",
      "Timed run ID:     256000    (29.06.2021 16:03:31)\n"
     ]
    },
    {
     "data": {
      "text/plain": [
       "{'500': <TimeitResult : 1.82 ms ± 175 µs per loop (mean ± std. dev. of 10 runs, 1 loop each)>,\n",
       " '1000': <TimeitResult : 1.91 ms ± 153 µs per loop (mean ± std. dev. of 10 runs, 1 loop each)>,\n",
       " '2000': <TimeitResult : 1.98 ms ± 406 µs per loop (mean ± std. dev. of 10 runs, 1 loop each)>,\n",
       " '4000': <TimeitResult : 2.62 ms ± 461 µs per loop (mean ± std. dev. of 10 runs, 1 loop each)>,\n",
       " '8000': <TimeitResult : 7.48 ms ± 3.33 ms per loop (mean ± std. dev. of 10 runs, 1 loop each)>,\n",
       " '16000': <TimeitResult : 13.7 ms ± 4.65 ms per loop (mean ± std. dev. of 10 runs, 1 loop each)>,\n",
       " '32000': <TimeitResult : 35.6 ms ± 3.18 ms per loop (mean ± std. dev. of 10 runs, 1 loop each)>,\n",
       " '64000': <TimeitResult : 113 ms ± 7.25 ms per loop (mean ± std. dev. of 10 runs, 1 loop each)>,\n",
       " '128000': <TimeitResult : 414 ms ± 14.3 ms per loop (mean ± std. dev. of 10 runs, 1 loop each)>,\n",
       " '256000': <TimeitResult : 1.42 s ± 32 ms per loop (mean ± std. dev. of 10 runs, 1 loop each)>}"
      ]
     },
     "execution_count": 90,
     "metadata": {},
     "output_type": "execute_result"
    }
   ],
   "source": [
    "print(f\"Collection for run: {run_name}\")\n",
    "RUN_TIMINGS_MAP[run_name] = {}\n",
    "collect_timings(\n",
    "    gen_func,\n",
    "    setup_func,\n",
    "    RUN_ARGUMENTS_MAP[run_name],\n",
    "    transform_func=transform_func,\n",
    "    timings=RUN_TIMINGS_MAP[run_name]\n",
    ")"
   ]
  },
  {
   "cell_type": "code",
   "execution_count": 91,
   "id": "sitting-archive",
   "metadata": {
    "ExecuteTime": {
     "end_time": "2021-06-29T14:11:02.184577Z",
     "start_time": "2021-06-29T14:11:02.176135Z"
    }
   },
   "outputs": [],
   "source": [
    "helper.save_report(RUN_TIMINGS_MAP[run_name], report_file, overwrite=True)"
   ]
  },
  {
   "cell_type": "code",
   "execution_count": 92,
   "id": "architectural-morning",
   "metadata": {
    "ExecuteTime": {
     "end_time": "2021-06-29T14:11:02.191487Z",
     "start_time": "2021-06-29T14:11:02.186129Z"
    },
    "run_control": {
     "marked": true
    },
    "scrolled": true
   },
   "outputs": [
    {
     "name": "stdout",
     "output_type": "stream",
     "text": [
      "    Run ID: Factor\n",
      "=======================\n",
      "       500: 1.00\n",
      "      1000: 1.02\n",
      "      2000: 1.02\n",
      "      4000: 1.13\n",
      "      8000: 2.12\n",
      "     16000: 5.26\n",
      "     32000: 18.36\n",
      "     64000: 59.56\n",
      "    128000: 228.13\n",
      "    256000: 801.88\n"
     ]
    }
   ],
   "source": [
    "helper.print_ratios(helper.get_ratios(RUN_TIMINGS_MAP[run_name], which=\"best\"))"
   ]
  },
  {
   "cell_type": "markdown",
   "id": "beginning-hunter",
   "metadata": {},
   "source": [
    "<a id=\"run_d_e\"></a>\n",
    "#### Run d e"
   ]
  },
  {
   "cell_type": "code",
   "execution_count": 93,
   "id": "searching-correlation",
   "metadata": {
    "ExecuteTime": {
     "end_time": "2021-06-29T14:07:04.138844Z",
     "start_time": "2021-06-29T14:07:04.132093Z"
    }
   },
   "outputs": [],
   "source": [
    "run_name = \"no_structure_run_d_e\"\n",
    "report_file = report_dir / f\"{run_name}.json\"\n",
    "\n",
    "gen_func = helper.gen_no_structure_points\n",
    "transform_func = compute_neighbours\n",
    "setup_func = setup_commonnn_clustering__fit"
   ]
  },
  {
   "cell_type": "code",
   "execution_count": 94,
   "id": "silver-vancouver",
   "metadata": {
    "ExecuteTime": {
     "end_time": "2021-06-29T14:07:04.148808Z",
     "start_time": "2021-06-29T14:07:04.140195Z"
    }
   },
   "outputs": [],
   "source": [
    "RUN_ARGUMENTS_MAP[run_name] = []\n",
    "\n",
    "radius_cutoff = 0.1\n",
    "cnn_cutoff = 50\n",
    "for n_points in n_points_list:\n",
    "    RUN_ARGUMENTS_MAP[run_name].append(\n",
    "        {\n",
    "            \"id\": str(n_points),\n",
    "            \"gen\": (\n",
    "                ((n_points, 2),), {}\n",
    "            ),\n",
    "            \"transform\": (\n",
    "                (radius_cutoff,), {\"sort\": True}\n",
    "            ),\n",
    "            \"setup\": (\n",
    "                (), {\n",
    "                    \"preparation_hook\": cluster.prepare_neighbourhoods,\n",
    "                    \"recipe\": neighbours_sorted_recipe\n",
    "                    }\n",
    "            ),\n",
    "            \"timed\": (\n",
    "                (_types.ClusterParameters(radius_cutoff, cnn_cutoff),), {}\n",
    "            ),\n",
    "        }\n",
    "    )"
   ]
  },
  {
   "cell_type": "code",
   "execution_count": 95,
   "id": "executed-august",
   "metadata": {
    "ExecuteTime": {
     "end_time": "2021-06-29T14:11:02.184577Z",
     "start_time": "2021-06-29T14:11:02.176135Z"
    }
   },
   "outputs": [
    {
     "name": "stdout",
     "output_type": "stream",
     "text": [
      "Collection for run: no_structure_run_d_e\n"
     ]
    },
    {
     "data": {
      "application/vnd.jupyter.widget-view+json": {
       "model_id": "05ed47ac77c84b66824df5857bdcce42",
       "version_major": 2,
       "version_minor": 0
      },
      "text/plain": [
       "Run completed:   0%|          | 0/10 [00:00<?, ?it/s]"
      ]
     },
     "metadata": {},
     "output_type": "display_data"
    },
    {
     "name": "stdout",
     "output_type": "stream",
     "text": [
      "Timed run ID:        500    (29.06.2021 16:03:32)\n",
      "Timed run ID:       1000    (29.06.2021 16:03:32)\n",
      "Timed run ID:       2000    (29.06.2021 16:03:33)\n",
      "Timed run ID:       4000    (29.06.2021 16:03:34)\n",
      "Timed run ID:       8000    (29.06.2021 16:03:36)\n",
      "Timed run ID:      16000    (29.06.2021 16:03:40)\n",
      "Timed run ID:      32000    (29.06.2021 16:03:55)\n",
      "Timed run ID:      64000    (29.06.2021 16:04:16)\n",
      "Timed run ID:     128000    (29.06.2021 16:05:05)\n",
      "Timed run ID:     256000    (29.06.2021 16:07:03)\n"
     ]
    },
    {
     "data": {
      "text/plain": [
       "{'500': <TimeitResult : 2.34 ms ± 546 µs per loop (mean ± std. dev. of 10 runs, 1 loop each)>,\n",
       " '1000': <TimeitResult : 2.12 ms ± 189 µs per loop (mean ± std. dev. of 10 runs, 1 loop each)>,\n",
       " '2000': <TimeitResult : 1.88 ms ± 11.3 µs per loop (mean ± std. dev. of 10 runs, 1 loop each)>,\n",
       " '4000': <TimeitResult : 2.07 ms ± 145 µs per loop (mean ± std. dev. of 10 runs, 1 loop each)>,\n",
       " '8000': <TimeitResult : 2.3 ms ± 28.8 µs per loop (mean ± std. dev. of 10 runs, 1 loop each)>,\n",
       " '16000': <TimeitResult : 5.06 ms ± 2.15 ms per loop (mean ± std. dev. of 10 runs, 1 loop each)>,\n",
       " '32000': <TimeitResult : 507 ms ± 122 ms per loop (mean ± std. dev. of 10 runs, 1 loop each)>,\n",
       " '64000': <TimeitResult : 234 ms ± 58.1 ms per loop (mean ± std. dev. of 10 runs, 1 loop each)>,\n",
       " '128000': <TimeitResult : 538 ms ± 14.7 ms per loop (mean ± std. dev. of 10 runs, 1 loop each)>,\n",
       " '256000': <TimeitResult : 1.65 s ± 31.9 ms per loop (mean ± std. dev. of 10 runs, 1 loop each)>}"
      ]
     },
     "execution_count": 95,
     "metadata": {},
     "output_type": "execute_result"
    }
   ],
   "source": [
    "print(f\"Collection for run: {run_name}\")\n",
    "RUN_TIMINGS_MAP[run_name] = {}\n",
    "collect_timings(\n",
    "    gen_func,\n",
    "    setup_func,\n",
    "    RUN_ARGUMENTS_MAP[run_name],\n",
    "    transform_func=transform_func,\n",
    "    timings=RUN_TIMINGS_MAP[run_name]\n",
    ")"
   ]
  },
  {
   "cell_type": "code",
   "execution_count": 97,
   "id": "adverse-recall",
   "metadata": {
    "ExecuteTime": {
     "end_time": "2021-06-29T14:11:02.184577Z",
     "start_time": "2021-06-29T14:11:02.176135Z"
    }
   },
   "outputs": [],
   "source": [
    "helper.save_report(RUN_TIMINGS_MAP[run_name], report_file, overwrite=True)"
   ]
  },
  {
   "cell_type": "code",
   "execution_count": 98,
   "id": "addressed-intake",
   "metadata": {
    "ExecuteTime": {
     "end_time": "2021-06-29T14:11:02.191487Z",
     "start_time": "2021-06-29T14:11:02.186129Z"
    },
    "run_control": {
     "marked": true
    },
    "scrolled": true
   },
   "outputs": [
    {
     "name": "stdout",
     "output_type": "stream",
     "text": [
      "    Run ID: Factor\n",
      "=======================\n",
      "      1000: 1.00\n",
      "      2000: 1.01\n",
      "      4000: 1.07\n",
      "       500: 1.15\n",
      "      8000: 1.23\n",
      "     16000: 2.01\n",
      "     64000: 94.30\n",
      "     32000: 170.87\n",
      "    128000: 281.10\n",
      "    256000: 870.33\n"
     ]
    }
   ],
   "source": [
    "helper.print_ratios(helper.get_ratios(RUN_TIMINGS_MAP[run_name], which=\"best\"))"
   ]
  },
  {
   "cell_type": "markdown",
   "id": "proof-laugh",
   "metadata": {},
   "source": [
    "<a id=\"run_d_f\"></a>\n",
    "#### Run d f"
   ]
  },
  {
   "cell_type": "code",
   "execution_count": 99,
   "id": "special-booking",
   "metadata": {
    "ExecuteTime": {
     "end_time": "2021-06-29T14:07:04.138844Z",
     "start_time": "2021-06-29T14:07:04.132093Z"
    }
   },
   "outputs": [],
   "source": [
    "run_name = \"no_structure_run_d_f\"\n",
    "report_file = report_dir / f\"{run_name}.json\"\n",
    "\n",
    "gen_func = helper.gen_no_structure_points\n",
    "transform_func = compute_neighbours\n",
    "setup_func = setup_commonnn_clustering__fit"
   ]
  },
  {
   "cell_type": "code",
   "execution_count": 100,
   "id": "frequent-killing",
   "metadata": {
    "ExecuteTime": {
     "end_time": "2021-06-29T14:07:04.148808Z",
     "start_time": "2021-06-29T14:07:04.140195Z"
    }
   },
   "outputs": [],
   "source": [
    "RUN_ARGUMENTS_MAP[run_name] = []\n",
    "\n",
    "radius_cutoff = 0.1\n",
    "cnn_cutoff = 100\n",
    "for n_points in n_points_list:\n",
    "    RUN_ARGUMENTS_MAP[run_name].append(\n",
    "        {\n",
    "            \"id\": str(n_points),\n",
    "            \"gen\": (\n",
    "                ((n_points, 2),), {}\n",
    "            ),\n",
    "            \"transform\": (\n",
    "                (radius_cutoff,), {\"sort\": True}\n",
    "            ),\n",
    "            \"setup\": (\n",
    "                (), {\n",
    "                    \"preparation_hook\": cluster.prepare_neighbourhoods,\n",
    "                    \"recipe\": neighbours_sorted_recipe\n",
    "                    }\n",
    "            ),\n",
    "            \"timed\": (\n",
    "                (_types.ClusterParameters(radius_cutoff, cnn_cutoff),), {}\n",
    "            ),\n",
    "        }\n",
    "    )"
   ]
  },
  {
   "cell_type": "code",
   "execution_count": 101,
   "id": "aquatic-edinburgh",
   "metadata": {
    "ExecuteTime": {
     "end_time": "2021-06-29T14:11:02.172819Z",
     "start_time": "2021-06-29T14:07:04.150481Z"
    }
   },
   "outputs": [
    {
     "name": "stdout",
     "output_type": "stream",
     "text": [
      "Collection for run: no_structure_run_d_f\n"
     ]
    },
    {
     "data": {
      "application/vnd.jupyter.widget-view+json": {
       "model_id": "2d66e10eeaf343ceba3ebca030e25fd6",
       "version_major": 2,
       "version_minor": 0
      },
      "text/plain": [
       "Run completed:   0%|          | 0/10 [00:00<?, ?it/s]"
      ]
     },
     "metadata": {},
     "output_type": "display_data"
    },
    {
     "name": "stdout",
     "output_type": "stream",
     "text": [
      "Timed run ID:        500    (29.06.2021 16:07:04)\n",
      "Timed run ID:       1000    (29.06.2021 16:07:04)\n",
      "Timed run ID:       2000    (29.06.2021 16:07:05)\n",
      "Timed run ID:       4000    (29.06.2021 16:07:06)\n",
      "Timed run ID:       8000    (29.06.2021 16:07:08)\n",
      "Timed run ID:      16000    (29.06.2021 16:07:13)\n",
      "Timed run ID:      32000    (29.06.2021 16:07:22)\n",
      "Timed run ID:      64000    (29.06.2021 16:08:11)\n",
      "Timed run ID:     128000    (29.06.2021 16:09:01)\n",
      "Timed run ID:     256000    (29.06.2021 16:11:02)\n"
     ]
    },
    {
     "data": {
      "text/plain": [
       "{'500': <TimeitResult : 2.14 ms ± 13.3 µs per loop (mean ± std. dev. of 10 runs, 1 loop each)>,\n",
       " '1000': <TimeitResult : 1.88 ms ± 143 µs per loop (mean ± std. dev. of 10 runs, 1 loop each)>,\n",
       " '2000': <TimeitResult : 1.87 ms ± 16.4 µs per loop (mean ± std. dev. of 10 runs, 1 loop each)>,\n",
       " '4000': <TimeitResult : 1.99 ms ± 99.1 µs per loop (mean ± std. dev. of 10 runs, 1 loop each)>,\n",
       " '8000': <TimeitResult : 2.31 ms ± 55.8 µs per loop (mean ± std. dev. of 10 runs, 1 loop each)>,\n",
       " '16000': <TimeitResult : 3.68 ms ± 95.9 µs per loop (mean ± std. dev. of 10 runs, 1 loop each)>,\n",
       " '32000': <TimeitResult : 14.3 ms ± 7.44 ms per loop (mean ± std. dev. of 10 runs, 1 loop each)>,\n",
       " '64000': <TimeitResult : 2.98 s ± 485 ms per loop (mean ± std. dev. of 10 runs, 1 loop each)>,\n",
       " '128000': <TimeitResult : 691 ms ± 39.7 ms per loop (mean ± std. dev. of 10 runs, 1 loop each)>,\n",
       " '256000': <TimeitResult : 1.95 s ± 108 ms per loop (mean ± std. dev. of 10 runs, 1 loop each)>}"
      ]
     },
     "execution_count": 101,
     "metadata": {},
     "output_type": "execute_result"
    }
   ],
   "source": [
    "print(f\"Collection for run: {run_name}\")\n",
    "RUN_TIMINGS_MAP[run_name] = {}\n",
    "collect_timings(\n",
    "    gen_func,\n",
    "    setup_func,\n",
    "    RUN_ARGUMENTS_MAP[run_name],\n",
    "    transform_func=transform_func,\n",
    "    timings=RUN_TIMINGS_MAP[run_name]\n",
    ")"
   ]
  },
  {
   "cell_type": "code",
   "execution_count": 102,
   "id": "declared-connecticut",
   "metadata": {
    "ExecuteTime": {
     "end_time": "2021-06-29T14:11:02.184577Z",
     "start_time": "2021-06-29T14:11:02.176135Z"
    }
   },
   "outputs": [],
   "source": [
    "helper.save_report(RUN_TIMINGS_MAP[run_name], report_file, overwrite=True)"
   ]
  },
  {
   "cell_type": "code",
   "execution_count": 103,
   "id": "electronic-backing",
   "metadata": {
    "ExecuteTime": {
     "end_time": "2021-06-29T14:11:02.191487Z",
     "start_time": "2021-06-29T14:11:02.186129Z"
    },
    "run_control": {
     "marked": true
    },
    "scrolled": true
   },
   "outputs": [
    {
     "name": "stdout",
     "output_type": "stream",
     "text": [
      "    Run ID: Factor\n",
      "=======================\n",
      "      1000: 1.00\n",
      "      2000: 1.04\n",
      "      4000: 1.10\n",
      "       500: 1.20\n",
      "      8000: 1.29\n",
      "     16000: 2.04\n",
      "     32000: 4.94\n",
      "    128000: 365.63\n",
      "    256000: 1042.01\n",
      "     64000: 1279.62\n"
     ]
    }
   ],
   "source": [
    "helper.print_ratios(helper.get_ratios(RUN_TIMINGS_MAP[run_name], which=\"best\"))"
   ]
  },
  {
   "cell_type": "markdown",
   "id": "functioning-vegetable",
   "metadata": {},
   "source": [
    "### CommonNN Clustering - complete"
   ]
  },
  {
   "cell_type": "code",
   "execution_count": 21,
   "id": "composed-worry",
   "metadata": {
    "ExecuteTime": {
     "end_time": "2021-06-29T10:08:48.039514Z",
     "start_time": "2021-06-29T10:08:48.035752Z"
    }
   },
   "outputs": [],
   "source": [
    "report_dir = pathlib.Path(\"reports/qcm07/cnnclustering_fit\")"
   ]
  },
  {
   "cell_type": "markdown",
   "id": "previous-combination",
   "metadata": {},
   "source": [
    "Clustering of a 2D toy data set (varied blobs) with increasing number of points while dimensionality, cluster parameters, and cluster recipe are fixed. This benchmark includes timings for preparation steps:\n",
    "\n",
    "  - Neighbours sorted recipe:\n",
    "    - $d = 2$, $r = 0.2$, $c = 0$ :  [run d a](#run_d_a)\n",
    "    - $d = 2$, $r = 0.2$, $c = 50$ :  [run d b](#run_d_b)\n",
    "    - $d = 2$, $r = 0.2$, $c = 100$ :  [run d c](#run_d_c)\n",
    "    - $d = 2$, $r = 0.1$, $c = 0$ :  [run d d](#run_d_d)\n",
    "    - $d = 2$, $r = 0.1$, $c = 50$ :  [run d e](#run_d_e)\n",
    "    - $d = 2$, $r = 0.1$, $c = 100$ :  [run d f](#run_d_f)"
   ]
  },
  {
   "cell_type": "code",
   "execution_count": 28,
   "id": "incident-respondent",
   "metadata": {
    "ExecuteTime": {
     "end_time": "2021-06-29T10:17:55.435584Z",
     "start_time": "2021-06-29T10:17:55.294943Z"
    }
   },
   "outputs": [
    {
     "data": {
      "text/plain": [
       "<matplotlib.collections.PathCollection at 0x7fb37a39c670>"
      ]
     },
     "execution_count": 28,
     "metadata": {},
     "output_type": "execute_result"
    },
    {
     "data": {
      "image/png": "[encoded data removed]",
      "text/plain": [
       "<Figure size 300x300 with 1 Axes>"
      ]
     },
     "metadata": {
      "needs_background": "light"
     },
     "output_type": "display_data"
    }
   ],
   "source": [
    "# The test data\n",
    "fig, ax = plt.subplots(figsize=(1, 1))\n",
    "ax.scatter(\n",
    "    *helper.gen_blobs_points((5000, 2)).T,\n",
    "    s=0.5,\n",
    ")"
   ]
  },
  {
   "cell_type": "code",
   "execution_count": 23,
   "id": "embedded-mozambique",
   "metadata": {
    "ExecuteTime": {
     "end_time": "2021-06-29T10:14:05.599561Z",
     "start_time": "2021-06-29T10:14:05.595007Z"
    }
   },
   "outputs": [],
   "source": [
    "n_points_list = [500 * 2**x for x in range(10)]"
   ]
  },
  {
   "cell_type": "code",
   "execution_count": 24,
   "id": "fresh-functionality",
   "metadata": {
    "ExecuteTime": {
     "end_time": "2021-06-29T10:14:12.533846Z",
     "start_time": "2021-06-29T10:14:12.527815Z"
    }
   },
   "outputs": [
    {
     "data": {
      "text/plain": [
       "[500, 1000, 2000, 4000, 8000, 16000, 32000, 64000, 128000, 256000]"
      ]
     },
     "execution_count": 24,
     "metadata": {},
     "output_type": "execute_result"
    }
   ],
   "source": [
    "n_points_list"
   ]
  },
  {
   "cell_type": "markdown",
   "id": "physical-grade",
   "metadata": {},
   "source": [
    "## Scaling"
   ]
  },
  {
   "cell_type": "markdown",
   "id": "proved-darkness",
   "metadata": {},
   "source": [
    "Fit for empirical growth function:\n",
    "\n",
    "$ t = a n^b + c$"
   ]
  },
  {
   "cell_type": "code",
   "execution_count": 55,
   "id": "alpha-arkansas",
   "metadata": {
    "ExecuteTime": {
     "end_time": "2021-06-29T13:32:50.232837Z",
     "start_time": "2021-06-29T13:32:50.206013Z"
    }
   },
   "outputs": [
    {
     "name": "stdout",
     "output_type": "stream",
     "text": [
      "no_structure_run_d_a\n"
     ]
    }
   ],
   "source": [
    "for full_run_name, timings in RUN_TIMINGS_MAP.items():\n",
    "    print(full_run_name)\n",
    "    x, y = zip(*((int(k), v.best) for k, v in timings.items()))\n",
    "    x = np.asarray(x)\n",
    "    y = np.asarray(y)\n",
    "    sorti = np.argsort(x)\n",
    "    x = x[sorti]\n",
    "    y = y[sorti]\n",
    "    \n",
    "    newx = np.linspace(x[0], x[-1], 100)\n",
    "    fity, (popt, perr) = helper.scale(x, y, newx)\n",
    "    RUN_SCALING_MAP[full_run_name] = (newx, fity), (popt[1], perr[1])"
   ]
  },
  {
   "cell_type": "markdown",
   "id": "dirty-confirmation",
   "metadata": {},
   "source": [
    "## Plots"
   ]
  },
  {
   "cell_type": "code",
   "execution_count": 56,
   "id": "dried-holly",
   "metadata": {
    "ExecuteTime": {
     "end_time": "2021-06-29T13:33:29.561578Z",
     "start_time": "2021-06-29T13:33:29.556751Z"
    }
   },
   "outputs": [],
   "source": [
    "figsrc_dir = pathlib.Path(os.path.expandvars(\"$WD/CommonNN/Manuscript/figsrc/Benchmark\"))"
   ]
  },
  {
   "cell_type": "markdown",
   "id": "organic-steam",
   "metadata": {},
   "source": [
    "### Screen"
   ]
  },
  {
   "cell_type": "code",
   "execution_count": 63,
   "id": "conscious-archives",
   "metadata": {
    "ExecuteTime": {
     "end_time": "2021-06-29T13:36:27.945309Z",
     "start_time": "2021-06-29T13:36:27.937217Z"
    }
   },
   "outputs": [],
   "source": [
    "run_name_list = [\n",
    "    (\"no_structure_run_d_a\", f\"$r=0.25, c=0$\"),\n",
    "]"
   ]
  },
  {
   "cell_type": "code",
   "execution_count": 66,
   "id": "flying-mongolia",
   "metadata": {
    "ExecuteTime": {
     "end_time": "2021-06-29T13:37:52.918916Z",
     "start_time": "2021-06-29T13:37:52.099417Z"
    }
   },
   "outputs": [
    {
     "data": {
      "text/plain": [
       "Text(0, 0.5, 'time / s')"
      ]
     },
     "execution_count": 66,
     "metadata": {},
     "output_type": "execute_result"
    },
    {
     "data": {
      "image/png": "[encoded data removed]",
      "text/plain": [
       "<Figure size 1800x1200 with 1 Axes>"
      ]
     },
     "metadata": {
      "needs_background": "light"
     },
     "output_type": "display_data"
    }
   ],
   "source": [
    "plt.close(\"all\")\n",
    "fig, log_ax = plt.subplots()\n",
    "log_ax.set_prop_cycle(\n",
    "    marker=marker_list,\n",
    "    color=color_list,\n",
    ")\n",
    "_ = evaluate_timings(\n",
    "    RUN_TIMINGS_MAP, RUN_SCALING_MAP, run_name_list,\n",
    "    log_ax=log_ax,\n",
    "    plot_props={\n",
    "        \"linestyle\": \"\",\n",
    "        \"markeredgecolor\": \"k\",\n",
    "        \"markeredgewidth\": 0.75,\n",
    "        },\n",
    "    legend_props={\n",
    "        \"loc\": (0, 1.01)\n",
    "        }\n",
    "    )\n",
    "\n",
    "log_ax.set_title(\" \" * 20 + \"Screen\")\n",
    "log_ax.set_xlabel(\"#points\")\n",
    "log_ax.set_ylabel(\"time / s\")"
   ]
  },
  {
   "cell_type": "code",
   "execution_count": 81,
   "id": "played-terminology",
   "metadata": {
    "ExecuteTime": {
     "end_time": "2021-05-31T11:55:23.295587Z",
     "start_time": "2021-05-31T11:55:22.376125Z"
    }
   },
   "outputs": [
    {
     "data": {
      "image/png": "[encoded data removed]",
      "text/plain": [
       "<Figure size 999x617.429 with 4 Axes>"
      ]
     },
     "metadata": {
      "needs_background": "light"
     },
     "output_type": "display_data"
    }
   ],
   "source": [
    "mpl.rcParams[\"font.size\"] = 8\n",
    "mpl.rcParams[\"axes.labelpad\"] = 2\n",
    "mpl.rcParams[\"xtick.major.pad\"] = 2\n",
    "mpl.rcParams[\"xtick.minor.pad\"] = 1.9\n",
    "mpl.rcParams[\"ytick.major.pad\"] = 2\n",
    "mpl.rcParams[\"ytick.minor.pad\"] = 1.9\n",
    "\n",
    "fig, (normal_ax, log_ax) = plt.subplots(2, 1, figsize=(3.33, 3.33/1.618))\n",
    "\n",
    "run_name_list = [\n",
    "    ('no_structure_run_a', 'points'),\n",
    "    ('no_structure_run_b', 'distances'),\n",
    "    ('no_structure_run_c', 'neighbours'),\n",
    "    ('no_structure_run_d', 'sorted n.'),\n",
    "]\n",
    "markers = iter([\"o\", \"v\", \"^\", \"s\", \"p\", \"P\", \"*\", \"h\", \"d\"])\n",
    "\n",
    "normal_ax.set_position([0.13, 0.51, 0.84, 0.40])\n",
    "log_ax.set_position([0.13, 0.09, 0.84, 0.40])\n",
    "\n",
    "# Inset\n",
    "inset_ax = fig.add_axes(\n",
    "    [0.125, 0.66, 0.39, 0.26],\n",
    "    zorder=3,\n",
    "    )\n",
    "\n",
    "for name, label in run_name_list:\n",
    "    marker = next(markers)\n",
    "    \n",
    "    plot_timings(\n",
    "        RUN_TIMINGS_MAP[name],\n",
    "        ax=normal_ax,\n",
    "        id_to_x=lambda x: int(x),\n",
    "        sort_ids=True,\n",
    "        set_ax_props=False,\n",
    "        plot_props={\n",
    "            \"label\": label,\n",
    "            \"marker\": marker,\n",
    "            \"markersize\": 4\n",
    "        }\n",
    "    )\n",
    "    \n",
    "    line = normal_ax.lines[-1]\n",
    "    log_line, = log_ax.plot(*line.get_xydata().T)\n",
    "    saved_transform = log_line.get_transform()\n",
    "    saved_clipbox = log_line.clipbox\n",
    "    log_line.update_from(line)\n",
    "    log_line.set_transform(saved_transform)\n",
    "    log_line.clipbox = saved_clipbox\n",
    "    \n",
    "    line = normal_ax.lines[-1]\n",
    "    inset_line, = inset_ax.plot(*line.get_xydata().T)\n",
    "    saved_transform = inset_line.get_transform()\n",
    "    saved_clipbox = inset_line.clipbox\n",
    "    inset_line.update_from(line)\n",
    "    inset_line.set_transform(saved_transform)\n",
    "    inset_line.clipbox = saved_clipbox\n",
    "    \n",
    "    inset_line.set_markersize(3)\n",
    "    \n",
    "normal_ax.xaxis.tick_top()\n",
    "\n",
    "normal_ax.set(**{\n",
    "    \"xlabel\": None,\n",
    "    \"xlabel\": None\n",
    "})\n",
    "\n",
    "log_ax.set(**{\n",
    "    \"xlabel\": None,\n",
    "    \"xlabel\": None,\n",
    "    \"xscale\": \"log\",\n",
    "    \"yscale\": \"log\",\n",
    "})\n",
    "\n",
    "inset_ax.set(**{\n",
    "    \"xlim\": (400, 9000),\n",
    "    \"ylim\": (-0.0005, 0.01),\n",
    "    \"xticks\": (),\n",
    "    \"yticks\": (),\n",
    "})\n",
    "\n",
    "mark_inset(normal_ax, inset_ax, loc1=3, loc2=4, edgecolor=\"k\")\n",
    "\n",
    "# Annotate memory error\n",
    "annotate_memory_error(\n",
    "    ax=normal_ax, line=normal_ax.get_lines()[1],\n",
    "    memory_error_id=128000\n",
    ")\n",
    "annotate_memory_error(\n",
    "    ax=log_ax, line=log_ax.get_lines()[1],\n",
    "    memory_error_id=128000\n",
    ")\n",
    "    \n",
    "commonax = fig.add_axes(\n",
    "    [0.04, 0., 0.97, 1],\n",
    "    zorder=-1,\n",
    "    frame_on=False\n",
    "    )\n",
    "\n",
    "commonax.set(**{\n",
    "    \"xticks\": (),\n",
    "    \"yticks\": ()\n",
    "})\n",
    "commonax.set_ylabel(\"time / s\", labelpad=0)\n",
    "\n",
    "# Legend\n",
    "legend = normal_ax.legend(\n",
    "    fancybox=False,\n",
    "    framealpha=1,\n",
    "    edgecolor=\"k\",\n",
    "    fontsize=\"xx-small\",\n",
    "    loc=(0.80, 0.34)\n",
    "    )\n",
    "legend.get_frame().set_linewidth(0.5)\n",
    "\n",
    "log_ax.get_xaxis().set_major_formatter(mpl.ticker.ScalarFormatter())\n",
    "\n",
    "# fig.subplots_adjust(left=0.11, bottom=0.1, right=0.86, top=0.89, hspace=0.1)\n",
    "fig.savefig(figsrc_dir / \"bm_cnnclustering_fit_no_structure_a_b_c_d.png\")"
   ]
  },
  {
   "cell_type": "code",
   "execution_count": 80,
   "id": "defensive-state",
   "metadata": {
    "ExecuteTime": {
     "end_time": "2021-05-31T11:55:19.436944Z",
     "start_time": "2021-05-31T11:55:18.817996Z"
    }
   },
   "outputs": [
    {
     "data": {
      "image/png": "[encoded data removed]",
      "text/plain": [
       "<Figure size 999x617.429 with 4 Axes>"
      ]
     },
     "metadata": {
      "needs_background": "light"
     },
     "output_type": "display_data"
    }
   ],
   "source": [
    "mpl.rcParams[\"font.size\"] = 8\n",
    "mpl.rcParams[\"axes.labelpad\"] = 2\n",
    "mpl.rcParams[\"xtick.major.pad\"] = 2\n",
    "mpl.rcParams[\"xtick.minor.pad\"] = 1.9\n",
    "mpl.rcParams[\"ytick.major.pad\"] = 2\n",
    "mpl.rcParams[\"ytick.minor.pad\"] = 1.9\n",
    "\n",
    "fig, (normal_ax, log_ax) = plt.subplots(2, 1, figsize=(3.33, 3.33/1.618))\n",
    "\n",
    "run_name_list = [\n",
    "    ('no_structure_run_c', '0.1, 0'),\n",
    "    ('no_structure_run_c_b', '0.1, 100'),\n",
    "    ('no_structure_run_c_c', '0.3, 0'),\n",
    "    ('no_structure_run_d', '0.1, 0, sorted'),\n",
    "    ('no_structure_run_d_b', '0.1, 100, sorted'),\n",
    "    ('no_structure_run_d_c', '0.3, 0, sorted'),\n",
    "]\n",
    "markers = iter([\"o\", \"v\", \"^\", \"s\", \"p\", \"P\", \"*\", \"h\", \"d\"])\n",
    "\n",
    "normal_ax.set_position([0.13, 0.51, 0.84, 0.40])\n",
    "log_ax.set_position([0.13, 0.09, 0.84, 0.40])\n",
    "\n",
    "# Inset\n",
    "inset_ax = fig.add_axes(\n",
    "    [0.125, 0.66, 0.39, 0.26],\n",
    "    zorder=3,\n",
    "    )\n",
    "\n",
    "for name, label in run_name_list:\n",
    "    marker = next(markers)\n",
    "    \n",
    "    plot_timings(\n",
    "        RUN_TIMINGS_MAP[name],\n",
    "        ax=normal_ax,\n",
    "        id_to_x=lambda x: int(x),\n",
    "        sort_ids=True,\n",
    "        set_ax_props=False,\n",
    "        plot_props={\n",
    "            \"label\": label,\n",
    "            \"marker\": marker,\n",
    "            \"markersize\": 4\n",
    "        }\n",
    "    )\n",
    "    \n",
    "    line = normal_ax.lines[-1]\n",
    "    log_line, = log_ax.plot(*line.get_xydata().T)\n",
    "    saved_transform = log_line.get_transform()\n",
    "    saved_clipbox = log_line.clipbox\n",
    "    log_line.update_from(line)\n",
    "    log_line.set_transform(saved_transform)\n",
    "    log_line.clipbox = saved_clipbox\n",
    "    \n",
    "    line = normal_ax.lines[-1]\n",
    "    inset_line, = inset_ax.plot(*line.get_xydata().T)\n",
    "    saved_transform = inset_line.get_transform()\n",
    "    saved_clipbox = inset_line.clipbox\n",
    "    inset_line.update_from(line)\n",
    "    inset_line.set_transform(saved_transform)\n",
    "    inset_line.clipbox = saved_clipbox\n",
    "    \n",
    "    inset_line.set_markersize(3)\n",
    "    \n",
    "normal_ax.xaxis.tick_top()\n",
    "\n",
    "normal_ax.set(**{\n",
    "    \"xlabel\": None,\n",
    "    \"xlabel\": None\n",
    "})\n",
    "\n",
    "log_ax.set(**{\n",
    "    \"xlabel\": None,\n",
    "    \"xlabel\": None,\n",
    "    \"xscale\": \"log\",\n",
    "    \"yscale\": \"log\",\n",
    "})\n",
    "\n",
    "inset_ax.set(**{\n",
    "    \"xlim\": (400, 9000),\n",
    "    \"ylim\": (-0.0005, 0.005),\n",
    "    \"xticks\": (),\n",
    "    \"yticks\": (),\n",
    "})\n",
    "\n",
    "mark_inset(normal_ax, inset_ax, loc1=3, loc2=4, edgecolor=\"k\")\n",
    "    \n",
    "commonax = fig.add_axes(\n",
    "    [0.04, 0., 0.97, 1],\n",
    "    zorder=-1,\n",
    "    frame_on=False\n",
    "    )\n",
    "\n",
    "commonax.set(**{\n",
    "    \"xticks\": (),\n",
    "    \"yticks\": ()\n",
    "})\n",
    "commonax.set_ylabel(\"time / s\", labelpad=0)\n",
    "\n",
    "# Legend\n",
    "legend = normal_ax.legend(\n",
    "    fancybox=False,\n",
    "    framealpha=1,\n",
    "    edgecolor=\"k\",\n",
    "    fontsize=\"xx-small\",\n",
    "    loc=(0.8, 0.33)\n",
    "    )\n",
    "legend.get_frame().set_linewidth(0.5)\n",
    "\n",
    "log_ax.get_xaxis().set_major_formatter(mpl.ticker.ScalarFormatter())\n",
    "\n",
    "# fig.subplots_adjust(left=0.11, bottom=0.1, right=0.86, top=0.89, hspace=0.1)\n",
    "fig.savefig(figsrc_dir / \"bm_cnnclustering_fit_no_structure_c_cb_cc_d_db_dc.png\")"
   ]
  }
 ],
 "metadata": {
  "kernelspec": {
   "display_name": "md38",
   "language": "python",
   "name": "md38"
  },
  "language_info": {
   "codemirror_mode": {
    "name": "ipython",
    "version": 3
   },
   "file_extension": ".py",
   "mimetype": "text/x-python",
   "name": "python",
   "nbconvert_exporter": "python",
   "pygments_lexer": "ipython3",
   "version": "3.8.8"
  },
  "toc": {
   "base_numbering": 1,
   "nav_menu": {},
   "number_sections": true,
   "sideBar": true,
   "skip_h1_title": true,
   "title_cell": "Table of Contents",
   "title_sidebar": "Contents",
   "toc_cell": true,
   "toc_position": {
    "height": "calc(100% - 180px)",
    "left": "10px",
    "top": "150px",
    "width": "263.292px"
   },
   "toc_section_display": true,
   "toc_window_display": true
  }
 },
 "nbformat": 4,
 "nbformat_minor": 5
}
