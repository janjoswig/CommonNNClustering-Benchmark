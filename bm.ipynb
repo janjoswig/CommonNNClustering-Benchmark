{
 "cells": [
  {
   "cell_type": "markdown",
   "id": "fleet-highlight",
   "metadata": {
    "toc": true
   },
   "source": [
    "<h1>Table of Contents<span class=\"tocSkip\"></span></h1>\n",
    "<div class=\"toc\"><ul class=\"toc-item\"><li><span><a href=\"#Function-definitions\" data-toc-modified-id=\"Function-definitions-1\"><span class=\"toc-item-num\">1&nbsp;&nbsp;</span>Function definitions</a></span><ul class=\"toc-item\"><li><span><a href=\"#Benchmark-helper\" data-toc-modified-id=\"Benchmark-helper-1.1\"><span class=\"toc-item-num\">1.1&nbsp;&nbsp;</span>Benchmark helper</a></span><ul class=\"toc-item\"><li><span><a href=\"#Timeit-results\" data-toc-modified-id=\"Timeit-results-1.1.1\"><span class=\"toc-item-num\">1.1.1&nbsp;&nbsp;</span>Timeit results</a></span></li><li><span><a href=\"#Collect\" data-toc-modified-id=\"Collect-1.1.2\"><span class=\"toc-item-num\">1.1.2&nbsp;&nbsp;</span>Collect</a></span></li><li><span><a href=\"#Save-and-load\" data-toc-modified-id=\"Save-and-load-1.1.3\"><span class=\"toc-item-num\">1.1.3&nbsp;&nbsp;</span>Save and load</a></span></li><li><span><a href=\"#Timing-ratios\" data-toc-modified-id=\"Timing-ratios-1.1.4\"><span class=\"toc-item-num\">1.1.4&nbsp;&nbsp;</span>Timing ratios</a></span></li><li><span><a href=\"#Initialisation\" data-toc-modified-id=\"Initialisation-1.1.5\"><span class=\"toc-item-num\">1.1.5&nbsp;&nbsp;</span>Initialisation</a></span></li></ul></li><li><span><a href=\"#Timed-functions\" data-toc-modified-id=\"Timed-functions-1.2\"><span class=\"toc-item-num\">1.2&nbsp;&nbsp;</span>Timed functions</a></span></li><li><span><a href=\"#Data-set-generation-functions\" data-toc-modified-id=\"Data-set-generation-functions-1.3\"><span class=\"toc-item-num\">1.3&nbsp;&nbsp;</span>Data set generation functions</a></span></li><li><span><a href=\"#Data-transformation\" data-toc-modified-id=\"Data-transformation-1.4\"><span class=\"toc-item-num\">1.4&nbsp;&nbsp;</span>Data transformation</a></span></li><li><span><a href=\"#Plotting\" data-toc-modified-id=\"Plotting-1.5\"><span class=\"toc-item-num\">1.5&nbsp;&nbsp;</span>Plotting</a></span></li></ul></li><li><span><a href=\"#Runs\" data-toc-modified-id=\"Runs-2\"><span class=\"toc-item-num\">2&nbsp;&nbsp;</span>Runs</a></span><ul class=\"toc-item\"><li><span><a href=\"#Example\" data-toc-modified-id=\"Example-2.1\"><span class=\"toc-item-num\">2.1&nbsp;&nbsp;</span>Example</a></span></li><li><span><a href=\"#CommonNN-Clustering\" data-toc-modified-id=\"CommonNN-Clustering-2.2\"><span class=\"toc-item-num\">2.2&nbsp;&nbsp;</span>CommonNN Clustering</a></span><ul class=\"toc-item\"><li><span><a href=\"#Run-a\" data-toc-modified-id=\"Run-a-2.2.1\"><span class=\"toc-item-num\">2.2.1&nbsp;&nbsp;</span>Run a</a></span></li><li><span><a href=\"#Run-b\" data-toc-modified-id=\"Run-b-2.2.2\"><span class=\"toc-item-num\">2.2.2&nbsp;&nbsp;</span>Run b</a></span></li><li><span><a href=\"#Run-c\" data-toc-modified-id=\"Run-c-2.2.3\"><span class=\"toc-item-num\">2.2.3&nbsp;&nbsp;</span>Run c</a></span></li><li><span><a href=\"#Run-c-b\" data-toc-modified-id=\"Run-c-b-2.2.4\"><span class=\"toc-item-num\">2.2.4&nbsp;&nbsp;</span>Run c b</a></span></li><li><span><a href=\"#Run-c-c\" data-toc-modified-id=\"Run-c-c-2.2.5\"><span class=\"toc-item-num\">2.2.5&nbsp;&nbsp;</span>Run c c</a></span></li><li><span><a href=\"#Run-d\" data-toc-modified-id=\"Run-d-2.2.6\"><span class=\"toc-item-num\">2.2.6&nbsp;&nbsp;</span>Run d</a></span></li><li><span><a href=\"#Run-d-b\" data-toc-modified-id=\"Run-d-b-2.2.7\"><span class=\"toc-item-num\">2.2.7&nbsp;&nbsp;</span>Run d b</a></span></li><li><span><a href=\"#Run-d-c\" data-toc-modified-id=\"Run-d-c-2.2.8\"><span class=\"toc-item-num\">2.2.8&nbsp;&nbsp;</span>Run d c</a></span></li><li><span><a href=\"#Plots\" data-toc-modified-id=\"Plots-2.2.9\"><span class=\"toc-item-num\">2.2.9&nbsp;&nbsp;</span>Plots</a></span></li></ul></li></ul></li></ul></div>"
   ]
  },
  {
   "cell_type": "markdown",
   "id": "sixth-surprise",
   "metadata": {},
   "source": [
    "# Benchmark clustering performance"
   ]
  },
  {
   "cell_type": "markdown",
   "id": "appreciated-desktop",
   "metadata": {},
   "source": [
    "Remember to compile `cnnclustering` with `TRACE_CYTHON=0` if timings should be measured."
   ]
  },
  {
   "cell_type": "code",
   "execution_count": 1,
   "id": "second-teacher",
   "metadata": {
    "ExecuteTime": {
     "end_time": "2021-05-06T14:49:52.933865Z",
     "start_time": "2021-05-06T14:49:50.344242Z"
    }
   },
   "outputs": [],
   "source": [
    "from datetime import datetime\n",
    "import json\n",
    "from operator import itemgetter\n",
    "import pathlib\n",
    "import time\n",
    "import timeit\n",
    "\n",
    "import cnnclustering\n",
    "from cnnclustering import cluster\n",
    "from cnnclustering import _fit, _primitive_types, _types\n",
    "from IPython.core.magics.execution import TimeitResult\n",
    "import matplotlib as mpl\n",
    "import matplotlib.pyplot as plt\n",
    "from mpl_toolkits.axes_grid1.inset_locator import zoomed_inset_axes, mark_inset\n",
    "from sklearn import datasets\n",
    "from sklearn.metrics import pairwise_distances\n",
    "from sklearn.neighbors import KDTree\n",
    "from sklearn.preprocessing import StandardScaler\n",
    "from tqdm.notebook import tqdm"
   ]
  },
  {
   "cell_type": "code",
   "execution_count": 2,
   "id": "signal-democrat",
   "metadata": {
    "ExecuteTime": {
     "end_time": "2021-05-06T14:49:52.939418Z",
     "start_time": "2021-05-06T14:49:52.936358Z"
    }
   },
   "outputs": [],
   "source": [
    "mpl.rcParams[\"figure.dpi\"] = 300"
   ]
  },
  {
   "cell_type": "code",
   "execution_count": 3,
   "id": "verified-profile",
   "metadata": {
    "ExecuteTime": {
     "end_time": "2021-05-06T14:49:52.952275Z",
     "start_time": "2021-05-06T14:49:52.941568Z"
    }
   },
   "outputs": [
    {
     "name": "stdout",
     "output_type": "stream",
     "text": [
      "              Python :   3.8.8 | packaged by conda-forge | (default, Feb 20 2021, 16:22:27)  [GCC 9.3.0]\n"
     ]
    }
   ],
   "source": [
    "print(f\"{'Python':>20} :  \", *sys.version.splitlines())"
   ]
  },
  {
   "cell_type": "code",
   "execution_count": 4,
   "id": "aerial-generic",
   "metadata": {
    "ExecuteTime": {
     "end_time": "2021-05-06T14:49:52.965778Z",
     "start_time": "2021-05-06T14:49:52.954688Z"
    }
   },
   "outputs": [
    {
     "name": "stdout",
     "output_type": "stream",
     "text": [
      "cnnclustering :   0.3.11\n"
     ]
    }
   ],
   "source": [
    "print(f\"cnnclustering :  \", cnnclustering.__version__)"
   ]
  },
  {
   "cell_type": "markdown",
   "id": "ranking-thickness",
   "metadata": {},
   "source": [
    "## Function definitions"
   ]
  },
  {
   "cell_type": "markdown",
   "id": "precise-recall",
   "metadata": {},
   "source": [
    "### Benchmark helper"
   ]
  },
  {
   "cell_type": "markdown",
   "id": "liable-jordan",
   "metadata": {},
   "source": [
    "#### Timeit results"
   ]
  },
  {
   "cell_type": "code",
   "execution_count": 5,
   "id": "cheap-belgium",
   "metadata": {
    "ExecuteTime": {
     "end_time": "2021-05-06T14:49:52.979354Z",
     "start_time": "2021-05-06T14:49:52.968129Z"
    }
   },
   "outputs": [],
   "source": [
    "class TimeitResultEncoder(json.JSONEncoder):\n",
    "    def default(self, obj):\n",
    "        if isinstance(obj, TimeitResult):\n",
    "            return {\n",
    "                \"_type\": \"TimeitResult\", \n",
    "                \"loops\": obj.loops,\n",
    "                \"repeat\": obj.repeat,\n",
    "                \"best\": obj.best,\n",
    "                \"worst\": obj.worst,\n",
    "                \"all_runs\": obj.all_runs,\n",
    "                \"compile_time\": obj.compile_time,\n",
    "                \"precision\": obj._precision\n",
    "                }\n",
    "        return super().default(self, obj)"
   ]
  },
  {
   "cell_type": "code",
   "execution_count": 6,
   "id": "endless-industry",
   "metadata": {
    "ExecuteTime": {
     "end_time": "2021-05-06T14:49:52.991683Z",
     "start_time": "2021-05-06T14:49:52.981584Z"
    }
   },
   "outputs": [],
   "source": [
    "class TimitResultDecoder(json.JSONDecoder):\n",
    "    \"\"\"Use :func:`as_TimeitResult` object hook on json load instead\"\"\"\n",
    "    def default(self, obj):\n",
    "        decoded_obj = super().default(self, obj)\n",
    "        if isinstance(decoded_obj, list) and obj[0] == \"TimeitResult\":\n",
    "            return TimeitResult(*obj[1].values())\n",
    "        return decoded_obj"
   ]
  },
  {
   "cell_type": "code",
   "execution_count": 7,
   "id": "hybrid-playback",
   "metadata": {
    "ExecuteTime": {
     "end_time": "2021-05-06T14:49:53.004301Z",
     "start_time": "2021-05-06T14:49:52.994090Z"
    }
   },
   "outputs": [],
   "source": [
    "def as_TimeitResult(obj):\n",
    "    try:\n",
    "        _type = obj.pop('_type')\n",
    "    except KeyError:\n",
    "        _type = None\n",
    "\n",
    "    if _type is None:\n",
    "        return obj\n",
    "\n",
    "    if _type == 'TimeitResult':\n",
    "        return TimeitResult(*obj.values())\n",
    "\n",
    "    return obj"
   ]
  },
  {
   "cell_type": "code",
   "execution_count": 8,
   "id": "durable-ending",
   "metadata": {
    "ExecuteTime": {
     "end_time": "2021-05-06T14:49:53.020764Z",
     "start_time": "2021-05-06T14:49:53.008281Z"
    }
   },
   "outputs": [],
   "source": [
    "def combine_timeit_results(*results):\n",
    "    \"\"\"Merge TimeitResults\n",
    "        \n",
    "    Args:\n",
    "        *results: TimeitResults instances\n",
    "\n",
    "    Returns:\n",
    "        TimeitResult\n",
    "        \n",
    "    Note:\n",
    "        Be careful about merging results from different sources.\n",
    "        Merging e.g. takes the minimum number of loops done in\n",
    "        each timing.\n",
    "    \"\"\"\n",
    "\n",
    "    loops = min(r.loops for r in results)\n",
    "    repeat = sum(r.repeat for r in results)\n",
    "    all_runs = []\n",
    "    for r in results:\n",
    "        all_runs.extend(r.all_runs)\n",
    "    best = min(all_runs)\n",
    "    worst = max(all_runs)\n",
    "    precision = max(r._precision for r in results)\n",
    "    compile_time = max(r.compile_time for r in results)\n",
    "    \n",
    "    return TimeitResult(\n",
    "        loops, repeat, best, worst, all_runs, compile_time, precision\n",
    "        )"
   ]
  },
  {
   "cell_type": "markdown",
   "id": "fewer-headline",
   "metadata": {},
   "source": [
    "#### Collect"
   ]
  },
  {
   "cell_type": "code",
   "execution_count": 9,
   "id": "graphic-field",
   "metadata": {
    "ExecuteTime": {
     "end_time": "2021-05-06T14:49:53.041540Z",
     "start_time": "2021-05-06T14:49:53.023653Z"
    }
   },
   "outputs": [],
   "source": [
    "def collect_timings(\n",
    "        gen_func, setup_func, run_arguments_list,\n",
    "        transform_func=None, timings=None, repeats=10):\n",
    "    \"\"\"Orchestrate timings\n",
    "    \n",
    "    Args:\n",
    "        gen_func: A function, returning data. Called with \n",
    "            run arguments \"gen\".\n",
    "        setup_func: A function, accepting data and returning a\n",
    "            function which should be timed. Called with\n",
    "            run arguments \"setup\".\n",
    "        run_argumens_list: A list of run arguments.\n",
    "        \n",
    "    Keyword args:\n",
    "        transform_func: A function, transforming generated data before setup.\n",
    "        timings: An optional timings mapping which results should\n",
    "            put into.\n",
    "        repeats: Repeats the timing *n* times. Using timeit -n/-r directly would\n",
    "            not ensure running the setup before each timing.\n",
    "    \n",
    "    Returns:\n",
    "        timings mapping\n",
    "    \"\"\"\n",
    "    \n",
    "    # Timed function has to be in global namespace to be discovered by %timeit magic\n",
    "    global timed_args\n",
    "    global timed_kwargs\n",
    "    global timed_func\n",
    "    \n",
    "    if timings is None:\n",
    "        timings = {}\n",
    "    \n",
    "    progress = tqdm(run_arguments_list, desc=\"Run completed\")\n",
    "    \n",
    "    for run_index, arguments in enumerate(progress):\n",
    "        \n",
    "        gen_args, gen_kwargs = arguments.get(\"gen\", ((), {}))\n",
    "        data = gen_func(*gen_args, **gen_kwargs)\n",
    "        \n",
    "        if transform_func is not None:\n",
    "            trans_args, trans_kwargs = arguments.get(\"transform\", ((), {}))\n",
    "            data = transform_func(data, *trans_args, **trans_kwargs)\n",
    "        \n",
    "        timeit_results = []\n",
    "        for _ in range(repeats):\n",
    "            try:\n",
    "                setup_args, setup_kwargs = arguments.get(\"setup\", ((), {}))\n",
    "                timed_func = setup_func(data, *setup_args, **setup_kwargs)\n",
    "\n",
    "                timed_args, timed_kwargs = arguments.get(\"timed\", ((), {}))\n",
    "                o = %timeit -n 1 -r 1 -q -o timed_func(*timed_args, **timed_kwargs)\n",
    "            except MemoryError:\n",
    "                o = \"MemoryError\"\n",
    "                break\n",
    "\n",
    "            finally:\n",
    "                timeit_results.append(o)\n",
    "        \n",
    "        run_id = arguments.get(\"id\", str(run_index))\n",
    "        tqdm.write(f\"Timed run ID: {run_id:>10}    ({datetime.now().strftime('%d.%m.%Y %H:%M:%S')})\")\n",
    "        timings[run_id] = combine_timeit_results(*timeit_results)\n",
    "        \n",
    "    return timings"
   ]
  },
  {
   "cell_type": "markdown",
   "id": "cellular-toronto",
   "metadata": {},
   "source": [
    "#### Save and load"
   ]
  },
  {
   "cell_type": "code",
   "execution_count": 10,
   "id": "comparable-launch",
   "metadata": {
    "ExecuteTime": {
     "end_time": "2021-05-06T14:49:53.054996Z",
     "start_time": "2021-05-06T14:49:53.043733Z"
    }
   },
   "outputs": [],
   "source": [
    "def save_report(timings, report_file, overwrite=False):\n",
    "    report_file.parent.mkdir(exist_ok=True, parents=True)\n",
    "\n",
    "    if report_file.is_file() and not overwrite:\n",
    "        print(\"Report already exists. Set `overwrite = True` to force overwrite.\")\n",
    "        return\n",
    "\n",
    "    with open(report_file, \"w\") as f:\n",
    "        json.dump(timings, f, indent=4, cls=TimeitResultEncoder)"
   ]
  },
  {
   "cell_type": "code",
   "execution_count": 11,
   "id": "mineral-story",
   "metadata": {
    "ExecuteTime": {
     "end_time": "2021-05-06T14:49:53.067161Z",
     "start_time": "2021-05-06T14:49:53.057469Z"
    }
   },
   "outputs": [],
   "source": [
    "def load_report(report_file):\n",
    "\n",
    "    with open(report_file) as f:\n",
    "        timings = json.load(f, object_hook=as_TimeitResult)\n",
    "    \n",
    "    return timings"
   ]
  },
  {
   "cell_type": "code",
   "execution_count": 12,
   "id": "distinct-pharmacology",
   "metadata": {
    "ExecuteTime": {
     "end_time": "2021-05-06T14:49:53.080887Z",
     "start_time": "2021-05-06T14:49:53.069635Z"
    }
   },
   "outputs": [],
   "source": [
    "def add_previous_reports(timings, *previous_timings):\n",
    "\n",
    "    for pt in previous_timings:\n",
    "        for run_id, timing in pt.items():\n",
    "            if run_id in timings:\n",
    "                combined = combine_timeit_results(\n",
    "                    timings[run_id], timing\n",
    "                )\n",
    "            else:\n",
    "                combined = timing\n",
    "\n",
    "            timings[run_id] = combined"
   ]
  },
  {
   "cell_type": "markdown",
   "id": "directed-diary",
   "metadata": {},
   "source": [
    "#### Timing ratios"
   ]
  },
  {
   "cell_type": "code",
   "execution_count": 13,
   "id": "eastern-collector",
   "metadata": {
    "ExecuteTime": {
     "end_time": "2021-05-06T14:49:53.096233Z",
     "start_time": "2021-05-06T14:49:53.083402Z"
    }
   },
   "outputs": [],
   "source": [
    "def get_ratios(timings, base=None, which=\"best\"):\n",
    "    \"\"\"Get relative performance of runs based on timings\n",
    "    \n",
    "    Args:\n",
    "        timinings: Timings mapping (maps run ID strings to TimeitResults)\n",
    "        \n",
    "    Keyword args:\n",
    "        base: Use the timing for this run ID as the baseline (factor 1)\n",
    "        which: Which timing should be shown (\"average\", \"best\", or \"worst\")\n",
    "    \"\"\"\n",
    "\n",
    "    if base is not None:\n",
    "        base = getattr(timings[base], which)\n",
    "    else:\n",
    "        base = min(\n",
    "            getattr(x, which)\n",
    "            for x in timings.values()\n",
    "            if isinstance(x, TimeitResult)\n",
    "        )\n",
    "\n",
    "    sorted_ratios = sorted(\n",
    "        [\n",
    "            (k, getattr(v, which) / base)\n",
    "            for k, v in timings.items()\n",
    "            if isinstance(v, TimeitResult)\n",
    "        ],\n",
    "        key=itemgetter(1)\n",
    "    )\n",
    "\n",
    "    return sorted_ratios"
   ]
  },
  {
   "cell_type": "code",
   "execution_count": 14,
   "id": "proprietary-karen",
   "metadata": {
    "ExecuteTime": {
     "end_time": "2021-05-06T14:49:53.108853Z",
     "start_time": "2021-05-06T14:49:53.098548Z"
    }
   },
   "outputs": [],
   "source": [
    "def print_ratios(ratios):\n",
    "    \"\"\"Pretty print timing ratios\n",
    "    \n",
    "    Args:\n",
    "        ratios: Ratios obtained with :func:`get_ratios` as\n",
    "            list of run ID/factor tuples.\n",
    "    \"\"\"\n",
    "    \n",
    "    print(f\"{'Run ID':>10}: Factor\")\n",
    "    print(\"=======================\")\n",
    "    for run_id, factor in ratios:\n",
    "        print(f\"{run_id:>10}: {factor:.2f}\")"
   ]
  },
  {
   "cell_type": "markdown",
   "id": "molecular-vacuum",
   "metadata": {},
   "source": [
    "#### Initialisation"
   ]
  },
  {
   "cell_type": "code",
   "execution_count": 15,
   "id": "fourth-herald",
   "metadata": {
    "ExecuteTime": {
     "end_time": "2021-05-06T14:49:53.122002Z",
     "start_time": "2021-05-06T14:49:53.111367Z"
    }
   },
   "outputs": [],
   "source": [
    "def make_maps():\n",
    "    \"\"\"Initialise benchmark setting/result mappings\"\"\"\n",
    "    \n",
    "    global RUN_ARGUMENTS_MAP\n",
    "    global RUN_TIMINGS_MAP\n",
    "    \n",
    "    if \"RUN_ARGUMENTS_MAP\" not in dir():\n",
    "        RUN_ARGUMENTS_MAP = {}\n",
    "\n",
    "    if \"RUN_TIMINGS_MAP\" not in dir():\n",
    "        RUN_TIMINGS_MAP = {}"
   ]
  },
  {
   "cell_type": "code",
   "execution_count": 16,
   "id": "impressive-excuse",
   "metadata": {
    "ExecuteTime": {
     "end_time": "2021-05-06T14:49:53.135662Z",
     "start_time": "2021-05-06T14:49:53.124519Z"
    }
   },
   "outputs": [],
   "source": [
    "def del_maps():\n",
    "    %xdel RUN_ARGUMENTS_MAP\n",
    "    %xdel RUN_TIMINGS_MAP"
   ]
  },
  {
   "cell_type": "markdown",
   "id": "republican-elephant",
   "metadata": {},
   "source": [
    "### Timed functions"
   ]
  },
  {
   "cell_type": "code",
   "execution_count": 17,
   "id": "consecutive-repeat",
   "metadata": {
    "ExecuteTime": {
     "end_time": "2021-05-06T14:49:53.148536Z",
     "start_time": "2021-05-06T14:49:53.138402Z"
    }
   },
   "outputs": [],
   "source": [
    "def setup_sleep(data):\n",
    "    \"\"\"Dummy example\"\"\"\n",
    "\n",
    "    return time.sleep"
   ]
  },
  {
   "cell_type": "code",
   "execution_count": 18,
   "id": "guilty-dress",
   "metadata": {
    "ExecuteTime": {
     "end_time": "2021-05-06T14:49:53.162065Z",
     "start_time": "2021-05-06T14:49:53.150878Z"
    }
   },
   "outputs": [],
   "source": [
    "def setup_commonnn_clustering__fit(data, preparation_hook=cluster.prepare_pass, recipe=None):\n",
    "    \"\"\"Prepare benchmark of :meth:`cnnclustering.cluster.Clustering._fit`\"\"\"\n",
    "    \n",
    "    if recipe is None:\n",
    "        recipe = {}\n",
    "\n",
    "    clustering = cluster.prepare_clustering(data, preparation_hook, **recipe)\n",
    "    clustering._labels = _types.Labels(\n",
    "        np.zeros(clustering._input_data.n_points, order=\"C\", dtype=_primitive_types.P_AINDEX)\n",
    "        )\n",
    "\n",
    "    return clustering._fit"
   ]
  },
  {
   "cell_type": "code",
   "execution_count": 19,
   "id": "atmospheric-persian",
   "metadata": {
    "ExecuteTime": {
     "end_time": "2021-05-06T14:49:53.176160Z",
     "start_time": "2021-05-06T14:49:53.164577Z"
    }
   },
   "outputs": [],
   "source": [
    "def setup_commonnn_clustering_fit(data, preparation_hook=cluster.prepare_pass, recipe=None):\n",
    "    \"\"\"Prepare benchmark of :meth:`cnnclustering.cluster.Clustering.fit`\"\"\"\n",
    "    \n",
    "    if recipe is None:\n",
    "        recipe = {}\n",
    "\n",
    "    clustering = cluster.prepare_clustering(data, preparation_hook, **recipe)\n",
    "\n",
    "    return clustering.fit"
   ]
  },
  {
   "cell_type": "markdown",
   "id": "military-harvard",
   "metadata": {
    "ExecuteTime": {
     "end_time": "2021-04-29T19:49:44.479666Z",
     "start_time": "2021-04-29T19:49:44.476020Z"
    }
   },
   "source": [
    "### Data set generation functions"
   ]
  },
  {
   "cell_type": "code",
   "execution_count": 20,
   "id": "threaded-liechtenstein",
   "metadata": {
    "ExecuteTime": {
     "end_time": "2021-05-06T14:49:53.188400Z",
     "start_time": "2021-05-06T14:49:53.178393Z"
    }
   },
   "outputs": [],
   "source": [
    "def gen_dummy():\n",
    "    return []"
   ]
  },
  {
   "cell_type": "code",
   "execution_count": 21,
   "id": "endless-instrument",
   "metadata": {
    "ExecuteTime": {
     "end_time": "2021-05-06T14:49:53.201439Z",
     "start_time": "2021-05-06T14:49:53.190905Z"
    }
   },
   "outputs": [],
   "source": [
    "def gen_no_structure_points_numpy_array(size):\n",
    "    rng = np.random.default_rng(2021)\n",
    "    no_structure = rng.random(size)\n",
    "    \n",
    "    return StandardScaler().fit_transform(no_structure)"
   ]
  },
  {
   "cell_type": "markdown",
   "id": "brave-marks",
   "metadata": {},
   "source": [
    "### Data transformation"
   ]
  },
  {
   "cell_type": "code",
   "execution_count": 22,
   "id": "operating-diagram",
   "metadata": {
    "ExecuteTime": {
     "end_time": "2021-05-06T14:49:53.215231Z",
     "start_time": "2021-05-06T14:49:53.203868Z"
    }
   },
   "outputs": [],
   "source": [
    "def compute_neighbours(data, radius, sort=False):\n",
    "    \n",
    "    tree = KDTree(data)\n",
    "    neighbourhoods = tree.query_radius(\n",
    "        data, r=radius, return_distance=False\n",
    "        )\n",
    "\n",
    "    if sort:\n",
    "        for n in neighbourhoods:\n",
    "            n.sort()\n",
    "            \n",
    "    return neighbourhoods"
   ]
  },
  {
   "cell_type": "markdown",
   "id": "northern-cricket",
   "metadata": {},
   "source": [
    "### Plotting"
   ]
  },
  {
   "cell_type": "code",
   "execution_count": 23,
   "id": "excess-individual",
   "metadata": {
    "ExecuteTime": {
     "end_time": "2021-05-06T14:49:53.230479Z",
     "start_time": "2021-05-06T14:49:53.222158Z"
    },
    "run_control": {
     "marked": true
    }
   },
   "outputs": [],
   "source": [
    "def plot_timings(\n",
    "        timings,\n",
    "        ax=None,\n",
    "        id_to_x=None,\n",
    "        which=\"best\",\n",
    "        sort_ids=True,\n",
    "        set_ax_props=True,\n",
    "        ax_props=None,\n",
    "        plot_props=None):\n",
    "    \"\"\"Plot timings\n",
    "    \n",
    "    Args:\n",
    "        timinings: Timings mapping (maps run ID strings to TimeitResults)\n",
    "    \n",
    "    Keyword args:\n",
    "        ax: Matplotlib axes to draw on. Will be created if `None`\n",
    "        id_to_x: Optional function converting run ID strings to x-values.\n",
    "        which: Which timings to show (one of \"average\", \"best\", \"worst\")\n",
    "        sort_ids: If True, sorts timings based on run IDs.\n",
    "        set_ax_props: If True, set axes properties via :meth:`ax.set`\n",
    "        ax_props: Keyword args passed on to :meth:`ax.set`\n",
    "        plot_props: Keyword args passed on to :meth:`ax.plot`\n",
    "    \"\"\"\n",
    "\n",
    "    if ax is None:\n",
    "        fig, ax = plt.subplots()\n",
    "    else:\n",
    "        fig = ax.get_figure()\n",
    "        \n",
    "    if id_to_x is None:\n",
    "        id_to_x = lambda x: x\n",
    "        \n",
    "        \n",
    "    x, t = zip(\n",
    "            *(\n",
    "                (id_to_x(run_id), getattr(timing, which))\n",
    "                for run_id, timing in timings.items()\n",
    "                if isinstance(timing, TimeitResult)\n",
    "            )\n",
    "        )    \n",
    "    x = np.asarray(x)\n",
    "    t = np.asarray(t)\n",
    "\n",
    "    if sort_ids:\n",
    "        sorti = np.argsort(x)\n",
    "        x = x[sorti]\n",
    "        t = t[sorti]\n",
    "    \n",
    "    default_plot_props = {\n",
    "        \"linestyle\": \"--\",\n",
    "        \"marker\": \"o\",\n",
    "        \"markersize\": 5,\n",
    "        \"markeredgecolor\": \"k\"\n",
    "        }\n",
    "    \n",
    "    if plot_props is not None:\n",
    "        default_plot_props.update(plot_props)\n",
    "        \n",
    "    ax.plot(x, t, **default_plot_props)\n",
    "\n",
    "    if set_ax_props:\n",
    "        default_ax_props = {\n",
    "            \"xlim\": (x[0], x[-1]),\n",
    "            \"xlabel\": \"run ID\",\n",
    "            \"ylabel\": (\"time / s\")\n",
    "            }\n",
    "\n",
    "        if ax_props is not None:\n",
    "            default_ax_props.update(ax_props)\n",
    "\n",
    "        ax.set(**default_ax_props)\n",
    "    \n",
    "    return"
   ]
  },
  {
   "cell_type": "code",
   "execution_count": 24,
   "id": "spoken-military",
   "metadata": {
    "ExecuteTime": {
     "end_time": "2021-05-06T14:49:53.244642Z",
     "start_time": "2021-05-06T14:49:53.233271Z"
    },
    "run_control": {
     "marked": true
    }
   },
   "outputs": [],
   "source": [
    "def annotate_memory_error(\n",
    "        ax, line, memory_error_id):\n",
    "    \n",
    "    last_sample_pos = line.get_xydata()[-1]\n",
    "    memory_error_pos = np.array([memory_error_id, last_sample_pos[-1]])\n",
    "    ax.plot(\n",
    "        *np.vstack([last_sample_pos, memory_error_pos]).T,\n",
    "        color=\"k\",\n",
    "        linestyle=\"--\",\n",
    "        zorder=0\n",
    "    )\n",
    "    ax.plot(\n",
    "        *memory_error_pos,\n",
    "        color=line.get_color(),\n",
    "        marker=\"X\",\n",
    "        markeredgecolor=\"k\",\n",
    "        zorder=0\n",
    "    )"
   ]
  },
  {
   "cell_type": "markdown",
   "id": "incident-dealing",
   "metadata": {},
   "source": [
    "## Runs"
   ]
  },
  {
   "cell_type": "markdown",
   "id": "recovered-instrument",
   "metadata": {},
   "source": [
    "### Example"
   ]
  },
  {
   "cell_type": "code",
   "execution_count": 25,
   "id": "ancient-truth",
   "metadata": {
    "ExecuteTime": {
     "end_time": "2021-05-06T14:49:56.344959Z",
     "start_time": "2021-05-06T14:49:53.246931Z"
    }
   },
   "outputs": [
    {
     "data": {
      "application/vnd.jupyter.widget-view+json": {
       "model_id": "210180cd645842b19c0962839774b41d",
       "version_major": 2,
       "version_minor": 0
      },
      "text/plain": [
       "Run completed:   0%|          | 0/2 [00:00<?, ?it/s]"
      ]
     },
     "metadata": {},
     "output_type": "display_data"
    },
    {
     "name": "stdout",
     "output_type": "stream",
     "text": [
      "Timed run ID:          1    (06.05.2021 16:49:54)\n",
      "Timed run ID:          2    (06.05.2021 16:49:56)\n",
      "\n",
      "    Run ID: Factor\n",
      "=======================\n",
      "         1: 1.00\n",
      "         2: 2.00\n"
     ]
    }
   ],
   "source": [
    "example_run = [\n",
    "    {\n",
    "        \"id\": \"1\",\n",
    "        \"gen\": (\n",
    "            (), {}\n",
    "        ),\n",
    "        \"setup\": (\n",
    "            (), {}\n",
    "        ),\n",
    "        \"timed\": (\n",
    "            (0.1,), {\n",
    "            }\n",
    "        ),\n",
    "    },\n",
    "    {\n",
    "        \"id\": \"2\",\n",
    "        \"gen\": (\n",
    "            (), {}\n",
    "        ),\n",
    "        \"setup\": (\n",
    "            (), {}\n",
    "        ),\n",
    "        \"timed\": (\n",
    "            (0.2,), {\n",
    "            }\n",
    "        ),\n",
    "    }\n",
    "]\n",
    "\n",
    "sleep_timings = collect_timings(\n",
    "    gen_dummy,\n",
    "    setup_sleep,\n",
    "    example_run\n",
    ")\n",
    "\n",
    "print()\n",
    "print_ratios(get_ratios(sleep_timings))"
   ]
  },
  {
   "cell_type": "code",
   "execution_count": 26,
   "id": "animated-constitution",
   "metadata": {
    "ExecuteTime": {
     "end_time": "2021-05-06T14:49:56.353310Z",
     "start_time": "2021-05-06T14:49:56.347698Z"
    }
   },
   "outputs": [
    {
     "data": {
      "text/plain": [
       "{'1': <TimeitResult : 100 ms ± 2.42 µs per loop (mean ± std. dev. of 10 runs, 1 loop each)>,\n",
       " '2': <TimeitResult : 200 ms ± 3.87 µs per loop (mean ± std. dev. of 10 runs, 1 loop each)>}"
      ]
     },
     "execution_count": 26,
     "metadata": {},
     "output_type": "execute_result"
    }
   ],
   "source": [
    "sleep_timings"
   ]
  },
  {
   "cell_type": "code",
   "execution_count": 27,
   "id": "white-material",
   "metadata": {
    "ExecuteTime": {
     "end_time": "2021-05-06T14:49:56.483054Z",
     "start_time": "2021-05-06T14:49:56.355152Z"
    },
    "run_control": {
     "marked": true
    }
   },
   "outputs": [
    {
     "data": {
      "image/png": "[encoded data removed]",
      "text/plain": [
       "<Figure size 300x185.414 with 1 Axes>"
      ]
     },
     "metadata": {
      "needs_background": "light"
     },
     "output_type": "display_data"
    }
   ],
   "source": [
    "fig, ax = plt.subplots(figsize=(1, 1/1.618))\n",
    "plot_timings(sleep_timings, ax=ax, id_to_x=lambda x: int(x))"
   ]
  },
  {
   "cell_type": "markdown",
   "id": "falling-council",
   "metadata": {},
   "source": [
    "### CommonNN Clustering"
   ]
  },
  {
   "cell_type": "code",
   "execution_count": 28,
   "id": "ultimate-fraction",
   "metadata": {
    "ExecuteTime": {
     "end_time": "2021-05-06T14:49:56.486881Z",
     "start_time": "2021-05-06T14:49:56.484614Z"
    }
   },
   "outputs": [],
   "source": [
    "report_dir = pathlib.Path(\"reports/qcm07/cnnclustering_fit\")"
   ]
  },
  {
   "cell_type": "markdown",
   "id": "weighted-williams",
   "metadata": {},
   "source": [
    "Clustering of a 2D toy data set (no structure) with increasing number of points while dimensionality, cluster parameters, and cluster recipe are fixed:\n",
    "\n",
    "  - Default recipe:\n",
    "    - $d = 2$, $r = 0.1$, $c = 0$ :  [run a](#run_a)\n",
    "    \n",
    "  - Distance recipe:\n",
    "    - $d = 2$, $r = 0.1$, $c = 0$ :  [run b](#run_a)\n",
    "    \n",
    "  - Neighbours recipe:\n",
    "    - $d = 2$, $r = 0.1$, $c = 0$ :  [run c](#run_a)\n",
    "    \n",
    "  - Neighbours recipe:\n",
    "    - $d = 2$, $r = 0.1$, $c = 0$ :  [run d](#run_a)\n",
    "    - $d = 2$, $r = 0.1$, $c = 100$ :  [run d b](#run_a_b)\n",
    "    - $d = 2$, $r = 0.3$, $c = 0$ :  [run d c](#run_a_c)"
   ]
  },
  {
   "cell_type": "code",
   "execution_count": 29,
   "id": "impaired-investor",
   "metadata": {
    "ExecuteTime": {
     "end_time": "2021-05-06T14:49:56.616017Z",
     "start_time": "2021-05-06T14:49:56.488488Z"
    }
   },
   "outputs": [
    {
     "data": {
      "text/plain": [
       "<matplotlib.collections.PathCollection at 0x7f26f1d37a00>"
      ]
     },
     "execution_count": 29,
     "metadata": {},
     "output_type": "execute_result"
    },
    {
     "data": {
      "image/png": "[encoded data removed]",
      "text/plain": [
       "<Figure size 300x300 with 1 Axes>"
      ]
     },
     "metadata": {
      "needs_background": "light"
     },
     "output_type": "display_data"
    }
   ],
   "source": [
    "# The test data\n",
    "fig, ax = plt.subplots(figsize=(1, 1))\n",
    "ax.scatter(\n",
    "    *gen_no_structure_points_numpy_array((5000, 2)).T,\n",
    "    s=0.5,\n",
    "    \n",
    ")"
   ]
  },
  {
   "cell_type": "code",
   "execution_count": 30,
   "id": "brutal-arnold",
   "metadata": {
    "ExecuteTime": {
     "end_time": "2021-05-06T14:49:56.619928Z",
     "start_time": "2021-05-06T14:49:56.617557Z"
    }
   },
   "outputs": [],
   "source": [
    "n_points_list = [500 * 2**x for x in range(10)]"
   ]
  },
  {
   "cell_type": "code",
   "execution_count": 31,
   "id": "promising-ribbon",
   "metadata": {
    "ExecuteTime": {
     "end_time": "2021-05-06T14:49:56.631290Z",
     "start_time": "2021-05-06T14:49:56.621606Z"
    }
   },
   "outputs": [],
   "source": [
    "default_recipe = {\n",
    "    \"input_data\": _types.InputDataExtPointsMemoryview,\n",
    "    \"neighbours_getter\": _types.NeighboursGetterExtBruteForce,\n",
    "    \"neighbours\": (_types.NeighboursExtVector, (5000,), {}),\n",
    "    \"neighbour_neighbours\": (_types.NeighboursExtVector, (5000,), {}),\n",
    "    \"metric\": _types.MetricExtEuclideanReduced,\n",
    "    \"similarity_checker\": _types.SimilarityCheckerExtContains,\n",
    "    \"queue\": _types.QueueExtFIFOQueue,\n",
    "    \"fitter\": _fit.FitterExtBFS,\n",
    "}"
   ]
  },
  {
   "cell_type": "code",
   "execution_count": 32,
   "id": "variable-threshold",
   "metadata": {
    "ExecuteTime": {
     "end_time": "2021-05-06T14:49:56.642507Z",
     "start_time": "2021-05-06T14:49:56.633195Z"
    }
   },
   "outputs": [],
   "source": [
    "distance_recipe = {\n",
    "    \"input_data\": _types.InputDataExtPointsMemoryview,\n",
    "    \"neighbours_getter\": _types.NeighboursGetterExtBruteForce,\n",
    "    \"neighbours\": (_types.NeighboursExtVector, (5000,), {}),\n",
    "    \"neighbour_neighbours\": (_types.NeighboursExtVector, (5000,), {}),\n",
    "    \"metric\": _types.MetricExtPrecomputed,\n",
    "    \"similarity_checker\": _types.SimilarityCheckerExtContains,\n",
    "    \"queue\": _types.QueueExtFIFOQueue,\n",
    "    \"fitter\": _fit.FitterExtBFS,\n",
    "}"
   ]
  },
  {
   "cell_type": "code",
   "execution_count": 33,
   "id": "banned-eugene",
   "metadata": {
    "ExecuteTime": {
     "end_time": "2021-05-06T14:49:56.655544Z",
     "start_time": "2021-05-06T14:49:56.644660Z"
    }
   },
   "outputs": [],
   "source": [
    "neighbours_recipe = {\n",
    "    \"input_data\": _types.InputDataExtNeighboursMemoryview,\n",
    "    \"neighbours_getter\": _types.NeighboursGetterExtLookup,\n",
    "    \"neighbours\": (_types.NeighboursExtVector, (5000,), {}),\n",
    "    \"neighbour_neighbours\": (_types.NeighboursExtVector, (5000,), {}),\n",
    "    \"metric\": _types.MetricExtDummy,\n",
    "    \"similarity_checker\": _types.SimilarityCheckerExtContains,\n",
    "    \"queue\": _types.QueueExtFIFOQueue,\n",
    "    \"fitter\": _fit.FitterExtBFS,\n",
    "}"
   ]
  },
  {
   "cell_type": "code",
   "execution_count": 34,
   "id": "covered-contractor",
   "metadata": {
    "ExecuteTime": {
     "end_time": "2021-05-06T14:49:56.668372Z",
     "start_time": "2021-05-06T14:49:56.657804Z"
    }
   },
   "outputs": [],
   "source": [
    "neighbours_sorted_recipe = {\n",
    "    \"input_data\": _types.InputDataExtNeighboursMemoryview,\n",
    "    \"neighbours_getter\": _types.NeighboursGetterExtLookup,\n",
    "    \"neighbours\": (_types.NeighboursExtVector, (5000,), {}),\n",
    "    \"neighbour_neighbours\": (_types.NeighboursExtVector, (5000,), {}),\n",
    "    \"metric\": _types.MetricExtDummy,\n",
    "    \"similarity_checker\": _types.SimilarityCheckerExtScreensorted,\n",
    "    \"queue\": _types.QueueExtFIFOQueue,\n",
    "    \"fitter\": _fit.FitterExtBFS,\n",
    "}"
   ]
  },
  {
   "cell_type": "code",
   "execution_count": 35,
   "id": "elect-connection",
   "metadata": {
    "ExecuteTime": {
     "end_time": "2021-05-06T14:49:56.681363Z",
     "start_time": "2021-05-06T14:49:56.670597Z"
    }
   },
   "outputs": [],
   "source": [
    "make_maps()"
   ]
  },
  {
   "cell_type": "markdown",
   "id": "biological-syndicate",
   "metadata": {
    "ExecuteTime": {
     "end_time": "2021-05-06T14:22:58.405642Z",
     "start_time": "2021-05-06T14:22:58.387506Z"
    }
   },
   "source": [
    "run_name_list = [\n",
    "    'no_structure_run_a',\n",
    "    'no_structure_run_b',\n",
    "    'no_structure_run_c',\n",
    "    'no_structure_run_d',\n",
    "    'no_structure_run_d_b',\n",
    "    'no_structure_run_d_c',\n",
    "]\n",
    "\n",
    "for run_name in run_name_list:\n",
    "    report_file = report_dir / f\"{run_name}.json\"\n",
    "    RUN_TIMINGS_MAP[run_name] = load_report(report_file)"
   ]
  },
  {
   "cell_type": "markdown",
   "id": "absent-uzbekistan",
   "metadata": {},
   "source": [
    "<a id=\"run_a\"></a>\n",
    "#### Run a"
   ]
  },
  {
   "cell_type": "code",
   "execution_count": 36,
   "id": "academic-intake",
   "metadata": {
    "ExecuteTime": {
     "end_time": "2021-05-06T14:49:56.693660Z",
     "start_time": "2021-05-06T14:49:56.683855Z"
    }
   },
   "outputs": [],
   "source": [
    "run_name = \"no_structure_run_a\"\n",
    "report_file = report_dir / f\"{run_name}.json\"\n",
    "\n",
    "gen_func = gen_no_structure_points_numpy_array\n",
    "transform_func = None\n",
    "setup_func = setup_commonnn_clustering__fit"
   ]
  },
  {
   "cell_type": "code",
   "execution_count": 37,
   "id": "extended-interface",
   "metadata": {
    "ExecuteTime": {
     "end_time": "2021-05-06T14:49:56.707315Z",
     "start_time": "2021-05-06T14:49:56.695989Z"
    }
   },
   "outputs": [],
   "source": [
    "radius_cutoff = 0.1\n",
    "cnn_cutoff = 0\n",
    "\n",
    "RUN_ARGUMENTS_MAP[run_name] = []\n",
    "for n_points in n_points_list:\n",
    "    RUN_ARGUMENTS_MAP[run_name].append(\n",
    "        {\n",
    "            \"id\": str(n_points),\n",
    "            \"gen\": (\n",
    "                ((n_points, 2),), {}\n",
    "            ),\n",
    "            \"setup\": (\n",
    "                (), {\"recipe\": default_recipe}\n",
    "            ),\n",
    "            \"timed\": (\n",
    "                (_types.ClusterParameters(radius_cutoff, cnn_cutoff),), {}\n",
    "            ),\n",
    "        }\n",
    "    )"
   ]
  },
  {
   "cell_type": "code",
   "execution_count": 38,
   "id": "flying-mapping",
   "metadata": {
    "ExecuteTime": {
     "end_time": "2021-05-06T16:18:45.663263Z",
     "start_time": "2021-05-06T14:49:56.709340Z"
    }
   },
   "outputs": [
    {
     "name": "stdout",
     "output_type": "stream",
     "text": [
      "Collection for run: no_structure_run_a\n"
     ]
    },
    {
     "data": {
      "application/vnd.jupyter.widget-view+json": {
       "model_id": "c8022f4edb8c4f8a854a88f5007d8d72",
       "version_major": 2,
       "version_minor": 0
      },
      "text/plain": [
       "Run completed:   0%|          | 0/10 [00:00<?, ?it/s]"
      ]
     },
     "metadata": {},
     "output_type": "display_data"
    },
    {
     "name": "stdout",
     "output_type": "stream",
     "text": [
      "Timed run ID:        500    (06.05.2021 16:49:56)\n",
      "Timed run ID:       1000    (06.05.2021 16:49:56)\n",
      "Timed run ID:       2000    (06.05.2021 16:49:57)\n",
      "Timed run ID:       4000    (06.05.2021 16:49:58)\n",
      "Timed run ID:       8000    (06.05.2021 16:50:01)\n",
      "Timed run ID:      16000    (06.05.2021 16:50:16)\n",
      "Timed run ID:      32000    (06.05.2021 16:51:13)\n",
      "Timed run ID:      64000    (06.05.2021 16:55:05)\n",
      "Timed run ID:     128000    (06.05.2021 17:11:19)\n",
      "Timed run ID:     256000    (06.05.2021 18:18:45)\n"
     ]
    },
    {
     "data": {
      "text/plain": [
       "{'500': <TimeitResult : 2.01 ms ± 259 µs per loop (mean ± std. dev. of 10 runs, 1 loop each)>,\n",
       " '1000': <TimeitResult : 7.54 ms ± 1.68 ms per loop (mean ± std. dev. of 10 runs, 1 loop each)>,\n",
       " '2000': <TimeitResult : 27.5 ms ± 9.73 ms per loop (mean ± std. dev. of 10 runs, 1 loop each)>,\n",
       " '4000': <TimeitResult : 89.4 ms ± 24.7 ms per loop (mean ± std. dev. of 10 runs, 1 loop each)>,\n",
       " '8000': <TimeitResult : 359 ms ± 98.9 ms per loop (mean ± std. dev. of 10 runs, 1 loop each)>,\n",
       " '16000': <TimeitResult : 1.43 s ± 394 ms per loop (mean ± std. dev. of 10 runs, 1 loop each)>,\n",
       " '32000': <TimeitResult : 5.72 s ± 1.57 s per loop (mean ± std. dev. of 10 runs, 1 loop each)>,\n",
       " '64000': <TimeitResult : 23.2 s ± 6.31 s per loop (mean ± std. dev. of 10 runs, 1 loop each)>,\n",
       " '128000': <TimeitResult : 1min 37s ± 29.4 s per loop (mean ± std. dev. of 10 runs, 1 loop each)>,\n",
       " '256000': <TimeitResult : 6min 44s ± 2min 26s per loop (mean ± std. dev. of 10 runs, 1 loop each)>}"
      ]
     },
     "execution_count": 38,
     "metadata": {},
     "output_type": "execute_result"
    }
   ],
   "source": [
    "print(f\"Collection for run: {run_name}\")\n",
    "RUN_TIMINGS_MAP[run_name] = {}\n",
    "collect_timings(\n",
    "    gen_func,\n",
    "    setup_func,\n",
    "    RUN_ARGUMENTS_MAP[run_name],\n",
    "    transform_func=transform_func,\n",
    "    timings=RUN_TIMINGS_MAP[run_name]\n",
    ")"
   ]
  },
  {
   "cell_type": "code",
   "execution_count": 39,
   "id": "appointed-brass",
   "metadata": {
    "ExecuteTime": {
     "end_time": "2021-05-06T16:18:45.673173Z",
     "start_time": "2021-05-06T16:18:45.665330Z"
    }
   },
   "outputs": [],
   "source": [
    "save_report(RUN_TIMINGS_MAP[run_name], report_file, overwrite=True)"
   ]
  },
  {
   "cell_type": "code",
   "execution_count": 40,
   "id": "wireless-guidance",
   "metadata": {
    "ExecuteTime": {
     "end_time": "2021-05-06T16:18:45.761253Z",
     "start_time": "2021-05-06T16:18:45.674469Z"
    },
    "run_control": {
     "marked": true
    },
    "scrolled": true
   },
   "outputs": [
    {
     "name": "stdout",
     "output_type": "stream",
     "text": [
      "    Run ID: Factor\n",
      "=======================\n",
      "       500: 1.00\n",
      "      1000: 3.84\n",
      "      2000: 11.38\n",
      "      4000: 45.04\n",
      "      8000: 180.10\n",
      "     16000: 720.78\n",
      "     32000: 2884.09\n",
      "     64000: 11527.52\n",
      "    128000: 46168.29\n",
      "    256000: 184473.71\n"
     ]
    }
   ],
   "source": [
    "print_ratios(get_ratios(RUN_TIMINGS_MAP[run_name]))"
   ]
  },
  {
   "cell_type": "markdown",
   "id": "effective-springfield",
   "metadata": {},
   "source": [
    "<a id=\"run_b\"></a>\n",
    "#### Run b"
   ]
  },
  {
   "cell_type": "code",
   "execution_count": 41,
   "id": "lonely-yorkshire",
   "metadata": {
    "ExecuteTime": {
     "end_time": "2021-05-06T16:18:45.770175Z",
     "start_time": "2021-05-06T16:18:45.763867Z"
    }
   },
   "outputs": [],
   "source": [
    "run_name = \"no_structure_run_b\"\n",
    "report_file = report_dir / f\"{run_name}.json\"\n",
    "\n",
    "gen_func = gen_no_structure_points_numpy_array\n",
    "transform_func = pairwise_distances\n",
    "setup_func = setup_commonnn_clustering__fit"
   ]
  },
  {
   "cell_type": "code",
   "execution_count": 42,
   "id": "constitutional-istanbul",
   "metadata": {
    "ExecuteTime": {
     "end_time": "2021-05-06T16:18:45.782433Z",
     "start_time": "2021-05-06T16:18:45.771999Z"
    }
   },
   "outputs": [],
   "source": [
    "radius_cutoff = 0.1\n",
    "cnn_cutoff = 0\n",
    "\n",
    "RUN_ARGUMENTS_MAP[run_name] = []\n",
    "for n_points in [500 * 2**x for x in range(8)]:  # Memory error on 128000\n",
    "    RUN_ARGUMENTS_MAP[run_name].append(\n",
    "        {\n",
    "            \"id\": str(n_points),\n",
    "            \"gen\": (\n",
    "                ((n_points, 2),), {}\n",
    "            ),\n",
    "            \"setup\": (\n",
    "                (), {\"recipe\": distance_recipe}\n",
    "            ),\n",
    "            \"timed\": (\n",
    "                (_types.ClusterParameters(radius_cutoff, cnn_cutoff),), {}\n",
    "            ),\n",
    "        }\n",
    "    )"
   ]
  },
  {
   "cell_type": "code",
   "execution_count": 43,
   "id": "driving-taste",
   "metadata": {
    "ExecuteTime": {
     "end_time": "2021-05-06T16:24:16.758636Z",
     "start_time": "2021-05-06T16:18:45.784411Z"
    },
    "scrolled": true
   },
   "outputs": [
    {
     "name": "stdout",
     "output_type": "stream",
     "text": [
      "Collection for run: no_structure_run_b\n"
     ]
    },
    {
     "data": {
      "application/vnd.jupyter.widget-view+json": {
       "model_id": "df05dbf1af2148a79b1b6af19ab42b7b",
       "version_major": 2,
       "version_minor": 0
      },
      "text/plain": [
       "Run completed:   0%|          | 0/8 [00:00<?, ?it/s]"
      ]
     },
     "metadata": {},
     "output_type": "display_data"
    },
    {
     "name": "stdout",
     "output_type": "stream",
     "text": [
      "Timed run ID:        500    (06.05.2021 18:18:45)\n",
      "Timed run ID:       1000    (06.05.2021 18:18:45)\n",
      "Timed run ID:       2000    (06.05.2021 18:18:46)\n",
      "Timed run ID:       4000    (06.05.2021 18:18:46)\n",
      "Timed run ID:       8000    (06.05.2021 18:18:52)\n",
      "Timed run ID:      16000    (06.05.2021 18:19:06)\n",
      "Timed run ID:      32000    (06.05.2021 18:20:06)\n",
      "Timed run ID:      64000    (06.05.2021 18:24:16)\n"
     ]
    },
    {
     "data": {
      "text/plain": [
       "{'500': <TimeitResult : 724 µs ± 108 µs per loop (mean ± std. dev. of 10 runs, 1 loop each)>,\n",
       " '1000': <TimeitResult : 2.8 ms ± 629 µs per loop (mean ± std. dev. of 10 runs, 1 loop each)>,\n",
       " '2000': <TimeitResult : 12.7 ms ± 4.81 ms per loop (mean ± std. dev. of 10 runs, 1 loop each)>,\n",
       " '4000': <TimeitResult : 64.1 ms ± 23.3 ms per loop (mean ± std. dev. of 10 runs, 1 loop each)>,\n",
       " '8000': <TimeitResult : 454 ms ± 196 ms per loop (mean ± std. dev. of 10 runs, 1 loop each)>,\n",
       " '16000': <TimeitResult : 1.17 s ± 239 ms per loop (mean ± std. dev. of 10 runs, 1 loop each)>,\n",
       " '32000': <TimeitResult : 4.25 s ± 33.7 ms per loop (mean ± std. dev. of 10 runs, 1 loop each)>,\n",
       " '64000': <TimeitResult : 17.1 s ± 64.7 ms per loop (mean ± std. dev. of 10 runs, 1 loop each)>}"
      ]
     },
     "execution_count": 43,
     "metadata": {},
     "output_type": "execute_result"
    }
   ],
   "source": [
    "print(f\"Collection for run: {run_name}\")\n",
    "RUN_TIMINGS_MAP[run_name] = {}\n",
    "collect_timings(\n",
    "    gen_func,\n",
    "    setup_func,\n",
    "    RUN_ARGUMENTS_MAP[run_name],\n",
    "    transform_func=transform_func,\n",
    "    timings=RUN_TIMINGS_MAP[run_name]\n",
    ")"
   ]
  },
  {
   "cell_type": "code",
   "execution_count": 44,
   "id": "technological-conditions",
   "metadata": {
    "ExecuteTime": {
     "end_time": "2021-05-06T16:24:16.762529Z",
     "start_time": "2021-05-06T16:24:16.760209Z"
    }
   },
   "outputs": [],
   "source": [
    "RUN_TIMINGS_MAP[run_name][\"128000\"] = \"MemoryError\""
   ]
  },
  {
   "cell_type": "code",
   "execution_count": 45,
   "id": "otherwise-evanescence",
   "metadata": {
    "ExecuteTime": {
     "end_time": "2021-05-06T16:24:16.780758Z",
     "start_time": "2021-05-06T16:24:16.764289Z"
    }
   },
   "outputs": [],
   "source": [
    "save_report(RUN_TIMINGS_MAP[run_name], report_file, overwrite=True)"
   ]
  },
  {
   "cell_type": "code",
   "execution_count": 46,
   "id": "technical-sister",
   "metadata": {
    "ExecuteTime": {
     "end_time": "2021-05-06T16:24:16.786885Z",
     "start_time": "2021-05-06T16:24:16.782566Z"
    }
   },
   "outputs": [
    {
     "name": "stdout",
     "output_type": "stream",
     "text": [
      "    Run ID: Factor\n",
      "=======================\n",
      "       500: 1.00\n",
      "      1000: 3.60\n",
      "      2000: 11.49\n",
      "      4000: 47.19\n",
      "      8000: 367.65\n",
      "     16000: 1498.82\n",
      "     32000: 6146.07\n",
      "     64000: 24953.98\n"
     ]
    }
   ],
   "source": [
    "print_ratios(get_ratios(RUN_TIMINGS_MAP[run_name], which=\"best\"))"
   ]
  },
  {
   "cell_type": "markdown",
   "id": "equivalent-ecuador",
   "metadata": {},
   "source": [
    "<a id=\"run_c\"></a>\n",
    "#### Run c"
   ]
  },
  {
   "cell_type": "code",
   "execution_count": 47,
   "id": "amended-melbourne",
   "metadata": {
    "ExecuteTime": {
     "end_time": "2021-05-06T16:24:16.798482Z",
     "start_time": "2021-05-06T16:24:16.789484Z"
    }
   },
   "outputs": [],
   "source": [
    "run_name = \"no_structure_run_c\"\n",
    "report_file = report_dir / f\"{run_name}.json\"\n",
    "\n",
    "gen_func = gen_no_structure_points_numpy_array\n",
    "transform_func = compute_neighbours\n",
    "setup_func = setup_commonnn_clustering__fit"
   ]
  },
  {
   "cell_type": "code",
   "execution_count": 48,
   "id": "hawaiian-relative",
   "metadata": {
    "ExecuteTime": {
     "end_time": "2021-05-06T16:24:16.812577Z",
     "start_time": "2021-05-06T16:24:16.800651Z"
    }
   },
   "outputs": [],
   "source": [
    "RUN_ARGUMENTS_MAP[run_name] = []\n",
    "\n",
    "radius_cutoff = 0.1\n",
    "cnn_cutoff = 0\n",
    "for n_points in n_points_list:\n",
    "    RUN_ARGUMENTS_MAP[run_name].append(\n",
    "        {\n",
    "            \"id\": str(n_points),\n",
    "            \"gen\": (\n",
    "                ((n_points, 2),), {}\n",
    "            ),\n",
    "            \"transform\": (\n",
    "                (radius_cutoff,), {}\n",
    "            ),\n",
    "            \"setup\": (\n",
    "                (), {\n",
    "                    \"preparation_hook\": cluster.prepare_neighbourhoods,\n",
    "                    \"recipe\": neighbours_recipe\n",
    "                    }\n",
    "            ),\n",
    "            \"timed\": (\n",
    "                (_types.ClusterParameters(radius_cutoff, cnn_cutoff),), {}\n",
    "            ),\n",
    "        }\n",
    "    )"
   ]
  },
  {
   "cell_type": "code",
   "execution_count": 49,
   "id": "broadband-questionnaire",
   "metadata": {
    "ExecuteTime": {
     "end_time": "2021-05-06T16:27:06.607873Z",
     "start_time": "2021-05-06T16:24:16.814485Z"
    }
   },
   "outputs": [
    {
     "name": "stdout",
     "output_type": "stream",
     "text": [
      "Collection for run: no_structure_run_c\n"
     ]
    },
    {
     "data": {
      "application/vnd.jupyter.widget-view+json": {
       "model_id": "9ee0ee50049c4a4dbbb5053003d910f3",
       "version_major": 2,
       "version_minor": 0
      },
      "text/plain": [
       "Run completed:   0%|          | 0/10 [00:00<?, ?it/s]"
      ]
     },
     "metadata": {},
     "output_type": "display_data"
    },
    {
     "name": "stdout",
     "output_type": "stream",
     "text": [
      "Timed run ID:        500    (06.05.2021 18:24:17)\n",
      "Timed run ID:       1000    (06.05.2021 18:24:17)\n",
      "Timed run ID:       2000    (06.05.2021 18:24:17)\n",
      "Timed run ID:       4000    (06.05.2021 18:24:18)\n",
      "Timed run ID:       8000    (06.05.2021 18:24:20)\n",
      "Timed run ID:      16000    (06.05.2021 18:24:24)\n",
      "Timed run ID:      32000    (06.05.2021 18:24:32)\n",
      "Timed run ID:      64000    (06.05.2021 18:24:49)\n",
      "Timed run ID:     128000    (06.05.2021 18:25:28)\n",
      "Timed run ID:     256000    (06.05.2021 18:27:06)\n"
     ]
    },
    {
     "data": {
      "text/plain": [
       "{'500': <TimeitResult : 83.8 µs ± 32 µs per loop (mean ± std. dev. of 10 runs, 1 loop each)>,\n",
       " '1000': <TimeitResult : 93.1 µs ± 19.6 µs per loop (mean ± std. dev. of 10 runs, 1 loop each)>,\n",
       " '2000': <TimeitResult : 185 µs ± 92.6 µs per loop (mean ± std. dev. of 10 runs, 1 loop each)>,\n",
       " '4000': <TimeitResult : 965 µs ± 577 µs per loop (mean ± std. dev. of 10 runs, 1 loop each)>,\n",
       " '8000': <TimeitResult : 7.92 ms ± 5.55 ms per loop (mean ± std. dev. of 10 runs, 1 loop each)>,\n",
       " '16000': <TimeitResult : 13.9 ms ± 9.04 ms per loop (mean ± std. dev. of 10 runs, 1 loop each)>,\n",
       " '32000': <TimeitResult : 40.7 ms ± 8.03 ms per loop (mean ± std. dev. of 10 runs, 1 loop each)>,\n",
       " '64000': <TimeitResult : 138 ms ± 21.4 ms per loop (mean ± std. dev. of 10 runs, 1 loop each)>,\n",
       " '128000': <TimeitResult : 530 ms ± 70.4 ms per loop (mean ± std. dev. of 10 runs, 1 loop each)>,\n",
       " '256000': <TimeitResult : 2.26 s ± 259 ms per loop (mean ± std. dev. of 10 runs, 1 loop each)>}"
      ]
     },
     "execution_count": 49,
     "metadata": {},
     "output_type": "execute_result"
    }
   ],
   "source": [
    "print(f\"Collection for run: {run_name}\")\n",
    "RUN_TIMINGS_MAP[run_name] = {}\n",
    "collect_timings(\n",
    "    gen_func,\n",
    "    setup_func,\n",
    "    RUN_ARGUMENTS_MAP[run_name],\n",
    "    transform_func=transform_func,\n",
    "    timings=RUN_TIMINGS_MAP[run_name]\n",
    ")"
   ]
  },
  {
   "cell_type": "code",
   "execution_count": 50,
   "id": "naval-residence",
   "metadata": {
    "ExecuteTime": {
     "end_time": "2021-05-06T16:27:06.616692Z",
     "start_time": "2021-05-06T16:27:06.609716Z"
    }
   },
   "outputs": [],
   "source": [
    "save_report(RUN_TIMINGS_MAP[run_name], report_file, overwrite=True)"
   ]
  },
  {
   "cell_type": "code",
   "execution_count": 51,
   "id": "dependent-ticket",
   "metadata": {
    "ExecuteTime": {
     "end_time": "2021-05-06T16:27:06.626040Z",
     "start_time": "2021-05-06T16:27:06.618310Z"
    },
    "scrolled": false
   },
   "outputs": [
    {
     "name": "stdout",
     "output_type": "stream",
     "text": [
      "    Run ID: Factor\n",
      "=======================\n",
      "       500: 1.00\n",
      "      1000: 1.13\n",
      "      2000: 1.45\n",
      "      4000: 2.68\n",
      "      8000: 26.48\n",
      "     16000: 81.55\n",
      "     32000: 409.02\n",
      "     64000: 1472.91\n",
      "    128000: 5848.36\n",
      "    256000: 25515.87\n"
     ]
    }
   ],
   "source": [
    "print_ratios(get_ratios(RUN_TIMINGS_MAP[run_name], which=\"best\"))"
   ]
  },
  {
   "cell_type": "markdown",
   "id": "similar-humidity",
   "metadata": {},
   "source": [
    "<a id=\"run_c_b\"></a>\n",
    "#### Run c b"
   ]
  },
  {
   "cell_type": "code",
   "execution_count": 52,
   "id": "impressive-reply",
   "metadata": {
    "ExecuteTime": {
     "end_time": "2021-05-06T16:27:06.635423Z",
     "start_time": "2021-05-06T16:27:06.627622Z"
    }
   },
   "outputs": [],
   "source": [
    "run_name = \"no_structure_run_c_b\"\n",
    "report_file = report_dir / f\"{run_name}.json\"\n",
    "\n",
    "gen_func = gen_no_structure_points_numpy_array\n",
    "transform_func = compute_neighbours\n",
    "setup_func = setup_commonnn_clustering__fit"
   ]
  },
  {
   "cell_type": "code",
   "execution_count": 53,
   "id": "representative-soviet",
   "metadata": {
    "ExecuteTime": {
     "end_time": "2021-05-06T16:27:06.648240Z",
     "start_time": "2021-05-06T16:27:06.637298Z"
    }
   },
   "outputs": [],
   "source": [
    "RUN_ARGUMENTS_MAP[run_name] = []\n",
    "\n",
    "radius_cutoff = 0.1\n",
    "cnn_cutoff = 100\n",
    "for n_points in n_points_list:\n",
    "    RUN_ARGUMENTS_MAP[run_name].append(\n",
    "        {\n",
    "            \"id\": str(n_points),\n",
    "            \"gen\": (\n",
    "                ((n_points, 2),), {}\n",
    "            ),\n",
    "            \"transform\": (\n",
    "                (radius_cutoff,), {}\n",
    "            ),\n",
    "            \"setup\": (\n",
    "                (), {\n",
    "                    \"preparation_hook\": cluster.prepare_neighbourhoods,\n",
    "                    \"recipe\": neighbours_recipe\n",
    "                    }\n",
    "            ),\n",
    "            \"timed\": (\n",
    "                (_types.ClusterParameters(radius_cutoff, cnn_cutoff),), {}\n",
    "            ),\n",
    "        }\n",
    "    )"
   ]
  },
  {
   "cell_type": "code",
   "execution_count": 54,
   "id": "familiar-bible",
   "metadata": {
    "ExecuteTime": {
     "end_time": "2021-05-06T16:33:43.545136Z",
     "start_time": "2021-05-06T16:27:06.650320Z"
    }
   },
   "outputs": [
    {
     "name": "stdout",
     "output_type": "stream",
     "text": [
      "Collection for run: no_structure_run_c_b\n"
     ]
    },
    {
     "data": {
      "application/vnd.jupyter.widget-view+json": {
       "model_id": "3a8a25349883459d876e0174ae5c64aa",
       "version_major": 2,
       "version_minor": 0
      },
      "text/plain": [
       "Run completed:   0%|          | 0/10 [00:00<?, ?it/s]"
      ]
     },
     "metadata": {},
     "output_type": "display_data"
    },
    {
     "name": "stdout",
     "output_type": "stream",
     "text": [
      "Timed run ID:        500    (06.05.2021 18:27:06)\n",
      "Timed run ID:       1000    (06.05.2021 18:27:07)\n",
      "Timed run ID:       2000    (06.05.2021 18:27:07)\n",
      "Timed run ID:       4000    (06.05.2021 18:27:08)\n",
      "Timed run ID:       8000    (06.05.2021 18:27:10)\n",
      "Timed run ID:      16000    (06.05.2021 18:27:13)\n",
      "Timed run ID:      32000    (06.05.2021 18:27:21)\n",
      "Timed run ID:      64000    (06.05.2021 18:30:14)\n",
      "Timed run ID:     128000    (06.05.2021 18:31:14)\n",
      "Timed run ID:     256000    (06.05.2021 18:33:43)\n"
     ]
    },
    {
     "data": {
      "text/plain": [
       "{'500': <TimeitResult : 73.3 µs ± 7.55 µs per loop (mean ± std. dev. of 10 runs, 1 loop each)>,\n",
       " '1000': <TimeitResult : 82.6 µs ± 2.25 µs per loop (mean ± std. dev. of 10 runs, 1 loop each)>,\n",
       " '2000': <TimeitResult : 106 µs ± 952 ns per loop (mean ± std. dev. of 10 runs, 1 loop each)>,\n",
       " '4000': <TimeitResult : 182 µs ± 3.08 µs per loop (mean ± std. dev. of 10 runs, 1 loop each)>,\n",
       " '8000': <TimeitResult : 481 µs ± 103 µs per loop (mean ± std. dev. of 10 runs, 1 loop each)>,\n",
       " '16000': <TimeitResult : 1.54 ms ± 134 µs per loop (mean ± std. dev. of 10 runs, 1 loop each)>,\n",
       " '32000': <TimeitResult : 24.3 ms ± 26.5 ms per loop (mean ± std. dev. of 10 runs, 1 loop each)>,\n",
       " '64000': <TimeitResult : 15.7 s ± 2.49 s per loop (mean ± std. dev. of 10 runs, 1 loop each)>,\n",
       " '128000': <TimeitResult : 2.54 s ± 409 ms per loop (mean ± std. dev. of 10 runs, 1 loop each)>,\n",
       " '256000': <TimeitResult : 7.16 s ± 329 ms per loop (mean ± std. dev. of 10 runs, 1 loop each)>}"
      ]
     },
     "execution_count": 54,
     "metadata": {},
     "output_type": "execute_result"
    }
   ],
   "source": [
    "print(f\"Collection for run: {run_name}\")\n",
    "RUN_TIMINGS_MAP[run_name] = {}\n",
    "collect_timings(\n",
    "    gen_func,\n",
    "    setup_func,\n",
    "    RUN_ARGUMENTS_MAP[run_name],\n",
    "    transform_func=transform_func,\n",
    "    timings=RUN_TIMINGS_MAP[run_name]\n",
    ")"
   ]
  },
  {
   "cell_type": "code",
   "execution_count": 55,
   "id": "arctic-borough",
   "metadata": {
    "ExecuteTime": {
     "end_time": "2021-05-06T16:33:43.553924Z",
     "start_time": "2021-05-06T16:33:43.547117Z"
    }
   },
   "outputs": [],
   "source": [
    "save_report(RUN_TIMINGS_MAP[run_name], report_file, overwrite=True)"
   ]
  },
  {
   "cell_type": "code",
   "execution_count": 56,
   "id": "foster-quick",
   "metadata": {
    "ExecuteTime": {
     "end_time": "2021-05-06T16:33:43.563850Z",
     "start_time": "2021-05-06T16:33:43.555443Z"
    }
   },
   "outputs": [
    {
     "name": "stdout",
     "output_type": "stream",
     "text": [
      "    Run ID: Factor\n",
      "=======================\n",
      "       500: 1.00\n",
      "      1000: 1.14\n",
      "      2000: 1.48\n",
      "      4000: 2.56\n",
      "      8000: 6.30\n",
      "     16000: 21.03\n",
      "     32000: 89.47\n",
      "    128000: 29191.25\n",
      "    256000: 94533.45\n",
      "     64000: 168392.29\n"
     ]
    }
   ],
   "source": [
    "print_ratios(get_ratios(RUN_TIMINGS_MAP[run_name], which=\"best\"))"
   ]
  },
  {
   "cell_type": "markdown",
   "id": "cognitive-currency",
   "metadata": {},
   "source": [
    "<a id=\"run_c_c\"></a>\n",
    "#### Run c c"
   ]
  },
  {
   "cell_type": "code",
   "execution_count": 57,
   "id": "offensive-shepherd",
   "metadata": {
    "ExecuteTime": {
     "end_time": "2021-05-06T16:33:43.575793Z",
     "start_time": "2021-05-06T16:33:43.565361Z"
    }
   },
   "outputs": [],
   "source": [
    "run_name = \"no_structure_run_c_c\"\n",
    "report_file = report_dir / f\"{run_name}.json\"\n",
    "\n",
    "gen_func = gen_no_structure_points_numpy_array\n",
    "transform_func = compute_neighbours\n",
    "setup_func = setup_commonnn_clustering__fit"
   ]
  },
  {
   "cell_type": "code",
   "execution_count": 58,
   "id": "asian-hydrogen",
   "metadata": {
    "ExecuteTime": {
     "end_time": "2021-05-06T16:33:43.590090Z",
     "start_time": "2021-05-06T16:33:43.577929Z"
    }
   },
   "outputs": [],
   "source": [
    "RUN_ARGUMENTS_MAP[run_name] = []\n",
    "\n",
    "radius_cutoff = 0.3\n",
    "cnn_cutoff = 0\n",
    "for n_points in n_points_list:\n",
    "    RUN_ARGUMENTS_MAP[run_name].append(\n",
    "        {\n",
    "            \"id\": str(n_points),\n",
    "            \"gen\": (\n",
    "                ((n_points, 2),), {}\n",
    "            ),\n",
    "            \"transform\": (\n",
    "                (radius_cutoff,), {}\n",
    "            ),\n",
    "            \"setup\": (\n",
    "                (), {\n",
    "                    \"preparation_hook\": cluster.prepare_neighbourhoods,\n",
    "                    \"recipe\": neighbours_recipe\n",
    "                    }\n",
    "            ),\n",
    "            \"timed\": (\n",
    "                (_types.ClusterParameters(radius_cutoff, cnn_cutoff),), {}\n",
    "            ),\n",
    "        }\n",
    "    )"
   ]
  },
  {
   "cell_type": "code",
   "execution_count": 59,
   "id": "conservative-panic",
   "metadata": {
    "ExecuteTime": {
     "end_time": "2021-05-06T16:54:40.040542Z",
     "start_time": "2021-05-06T16:33:43.592223Z"
    }
   },
   "outputs": [
    {
     "name": "stdout",
     "output_type": "stream",
     "text": [
      "Collection for run: no_structure_run_c_c\n"
     ]
    },
    {
     "data": {
      "application/vnd.jupyter.widget-view+json": {
       "model_id": "12764808cf3d42429c45cc88c51d93c5",
       "version_major": 2,
       "version_minor": 0
      },
      "text/plain": [
       "Run completed:   0%|          | 0/10 [00:00<?, ?it/s]"
      ]
     },
     "metadata": {},
     "output_type": "display_data"
    },
    {
     "name": "stdout",
     "output_type": "stream",
     "text": [
      "Timed run ID:        500    (06.05.2021 18:33:43)\n",
      "Timed run ID:       1000    (06.05.2021 18:33:44)\n",
      "Timed run ID:       2000    (06.05.2021 18:33:44)\n",
      "Timed run ID:       4000    (06.05.2021 18:33:45)\n",
      "Timed run ID:       8000    (06.05.2021 18:33:47)\n",
      "Timed run ID:      16000    (06.05.2021 18:33:52)\n",
      "Timed run ID:      32000    (06.05.2021 18:34:05)\n",
      "Timed run ID:      64000    (06.05.2021 18:34:46)\n",
      "Timed run ID:     128000    (06.05.2021 18:37:36)\n",
      "Timed run ID:     256000    (06.05.2021 18:54:39)\n"
     ]
    },
    {
     "data": {
      "text/plain": [
       "{'500': <TimeitResult : 187 µs ± 76.8 µs per loop (mean ± std. dev. of 10 runs, 1 loop each)>,\n",
       " '1000': <TimeitResult : 1.09 ms ± 855 µs per loop (mean ± std. dev. of 10 runs, 1 loop each)>,\n",
       " '2000': <TimeitResult : 1.59 ms ± 722 µs per loop (mean ± std. dev. of 10 runs, 1 loop each)>,\n",
       " '4000': <TimeitResult : 4.27 ms ± 919 µs per loop (mean ± std. dev. of 10 runs, 1 loop each)>,\n",
       " '8000': <TimeitResult : 16.7 ms ± 2.68 ms per loop (mean ± std. dev. of 10 runs, 1 loop each)>,\n",
       " '16000': <TimeitResult : 72 ms ± 9.88 ms per loop (mean ± std. dev. of 10 runs, 1 loop each)>,\n",
       " '32000': <TimeitResult : 355 ms ± 42.4 ms per loop (mean ± std. dev. of 10 runs, 1 loop each)>,\n",
       " '64000': <TimeitResult : 1.84 s ± 189 ms per loop (mean ± std. dev. of 10 runs, 1 loop each)>,\n",
       " '128000': <TimeitResult : 10.8 s ± 892 ms per loop (mean ± std. dev. of 10 runs, 1 loop each)>,\n",
       " '256000': <TimeitResult : 1min 17s ± 4.69 s per loop (mean ± std. dev. of 10 runs, 1 loop each)>}"
      ]
     },
     "execution_count": 59,
     "metadata": {},
     "output_type": "execute_result"
    }
   ],
   "source": [
    "print(f\"Collection for run: {run_name}\")\n",
    "RUN_TIMINGS_MAP[run_name] = {}\n",
    "collect_timings(\n",
    "    gen_func,\n",
    "    setup_func,\n",
    "    RUN_ARGUMENTS_MAP[run_name],\n",
    "    transform_func=transform_func,\n",
    "    timings=RUN_TIMINGS_MAP[run_name]\n",
    ")"
   ]
  },
  {
   "cell_type": "code",
   "execution_count": 60,
   "id": "played-entertainment",
   "metadata": {
    "ExecuteTime": {
     "end_time": "2021-05-06T16:54:40.049320Z",
     "start_time": "2021-05-06T16:54:40.042499Z"
    }
   },
   "outputs": [],
   "source": [
    "save_report(RUN_TIMINGS_MAP[run_name], report_file, overwrite=True)"
   ]
  },
  {
   "cell_type": "code",
   "execution_count": 61,
   "id": "particular-shoulder",
   "metadata": {
    "ExecuteTime": {
     "end_time": "2021-05-06T16:54:40.134241Z",
     "start_time": "2021-05-06T16:54:40.050870Z"
    }
   },
   "outputs": [
    {
     "name": "stdout",
     "output_type": "stream",
     "text": [
      "    Run ID: Factor\n",
      "=======================\n",
      "       500: 1.00\n",
      "      1000: 3.46\n",
      "      2000: 10.44\n",
      "      4000: 36.08\n",
      "      8000: 155.47\n",
      "     16000: 704.80\n",
      "     32000: 3539.87\n",
      "     64000: 18977.51\n",
      "    128000: 115620.64\n",
      "    256000: 863166.43\n"
     ]
    }
   ],
   "source": [
    "print_ratios(get_ratios(RUN_TIMINGS_MAP[run_name], which=\"best\"))"
   ]
  },
  {
   "cell_type": "markdown",
   "id": "given-martin",
   "metadata": {},
   "source": [
    "<a id=\"run_d\"></a>\n",
    "#### Run d"
   ]
  },
  {
   "cell_type": "code",
   "execution_count": 62,
   "id": "boolean-burst",
   "metadata": {
    "ExecuteTime": {
     "end_time": "2021-05-06T16:54:40.147331Z",
     "start_time": "2021-05-06T16:54:40.136771Z"
    }
   },
   "outputs": [],
   "source": [
    "run_name = \"no_structure_run_d\"\n",
    "report_file = report_dir / f\"{run_name}.json\"\n",
    "\n",
    "gen_func = gen_no_structure_points_numpy_array\n",
    "transform_func = compute_neighbours\n",
    "setup_func = setup_commonnn_clustering__fit"
   ]
  },
  {
   "cell_type": "code",
   "execution_count": 63,
   "id": "initial-armor",
   "metadata": {
    "ExecuteTime": {
     "end_time": "2021-05-06T16:54:40.161765Z",
     "start_time": "2021-05-06T16:54:40.149531Z"
    }
   },
   "outputs": [],
   "source": [
    "RUN_ARGUMENTS_MAP[run_name] = []\n",
    "\n",
    "radius_cutoff = 0.1\n",
    "cnn_cutoff = 0\n",
    "for n_points in n_points_list:\n",
    "    RUN_ARGUMENTS_MAP[run_name].append(\n",
    "        {\n",
    "            \"id\": str(n_points),\n",
    "            \"gen\": (\n",
    "                ((n_points, 2),), {}\n",
    "            ),\n",
    "            \"transform\": (\n",
    "                (radius_cutoff,), {\"sort\": True}\n",
    "            ),\n",
    "            \"setup\": (\n",
    "                (), {\n",
    "                    \"preparation_hook\": cluster.prepare_neighbourhoods,\n",
    "                    \"recipe\": neighbours_sorted_recipe\n",
    "                    }\n",
    "            ),\n",
    "            \"timed\": (\n",
    "                (_types.ClusterParameters(radius_cutoff, cnn_cutoff),), {}\n",
    "            ),\n",
    "        }\n",
    "    )"
   ]
  },
  {
   "cell_type": "code",
   "execution_count": 64,
   "id": "charged-excuse",
   "metadata": {
    "ExecuteTime": {
     "end_time": "2021-05-06T16:57:25.310269Z",
     "start_time": "2021-05-06T16:54:40.163363Z"
    }
   },
   "outputs": [
    {
     "name": "stdout",
     "output_type": "stream",
     "text": [
      "Collection for run: no_structure_run_d\n"
     ]
    },
    {
     "data": {
      "application/vnd.jupyter.widget-view+json": {
       "model_id": "6a72abb851974632a1d96a4ea12b3726",
       "version_major": 2,
       "version_minor": 0
      },
      "text/plain": [
       "Run completed:   0%|          | 0/10 [00:00<?, ?it/s]"
      ]
     },
     "metadata": {},
     "output_type": "display_data"
    },
    {
     "name": "stdout",
     "output_type": "stream",
     "text": [
      "Timed run ID:        500    (06.05.2021 18:54:40)\n",
      "Timed run ID:       1000    (06.05.2021 18:54:40)\n",
      "Timed run ID:       2000    (06.05.2021 18:54:41)\n",
      "Timed run ID:       4000    (06.05.2021 18:54:42)\n",
      "Timed run ID:       8000    (06.05.2021 18:54:44)\n",
      "Timed run ID:      16000    (06.05.2021 18:54:48)\n",
      "Timed run ID:      32000    (06.05.2021 18:54:55)\n",
      "Timed run ID:      64000    (06.05.2021 18:55:13)\n",
      "Timed run ID:     128000    (06.05.2021 18:55:51)\n",
      "Timed run ID:     256000    (06.05.2021 18:57:25)\n"
     ]
    },
    {
     "data": {
      "text/plain": [
       "{'500': <TimeitResult : 81.9 µs ± 25.6 µs per loop (mean ± std. dev. of 10 runs, 1 loop each)>,\n",
       " '1000': <TimeitResult : 94.6 µs ± 17.3 µs per loop (mean ± std. dev. of 10 runs, 1 loop each)>,\n",
       " '2000': <TimeitResult : 208 µs ± 126 µs per loop (mean ± std. dev. of 10 runs, 1 loop each)>,\n",
       " '4000': <TimeitResult : 774 µs ± 427 µs per loop (mean ± std. dev. of 10 runs, 1 loop each)>,\n",
       " '8000': <TimeitResult : 5.18 ms ± 3 ms per loop (mean ± std. dev. of 10 runs, 1 loop each)>,\n",
       " '16000': <TimeitResult : 9.47 ms ± 3.72 ms per loop (mean ± std. dev. of 10 runs, 1 loop each)>,\n",
       " '32000': <TimeitResult : 30.8 ms ± 3.11 ms per loop (mean ± std. dev. of 10 runs, 1 loop each)>,\n",
       " '64000': <TimeitResult : 102 ms ± 6.33 ms per loop (mean ± std. dev. of 10 runs, 1 loop each)>,\n",
       " '128000': <TimeitResult : 365 ms ± 12.7 ms per loop (mean ± std. dev. of 10 runs, 1 loop each)>,\n",
       " '256000': <TimeitResult : 1.27 s ± 24.4 ms per loop (mean ± std. dev. of 10 runs, 1 loop each)>}"
      ]
     },
     "execution_count": 64,
     "metadata": {},
     "output_type": "execute_result"
    }
   ],
   "source": [
    "print(f\"Collection for run: {run_name}\")\n",
    "RUN_TIMINGS_MAP[run_name] = {}\n",
    "collect_timings(\n",
    "    gen_func,\n",
    "    setup_func,\n",
    "    RUN_ARGUMENTS_MAP[run_name],\n",
    "    transform_func=transform_func,\n",
    "    timings=RUN_TIMINGS_MAP[run_name]\n",
    ")"
   ]
  },
  {
   "cell_type": "code",
   "execution_count": 65,
   "id": "ready-irish",
   "metadata": {
    "ExecuteTime": {
     "end_time": "2021-05-06T16:57:25.316421Z",
     "start_time": "2021-05-06T16:57:25.312027Z"
    }
   },
   "outputs": [],
   "source": [
    "previous_timings = load_report(report_file)\n",
    "for run_id, timing in previous_timings.items():\n",
    "    if run_id in RUN_TIMINGS_MAP[run_name]:\n",
    "        combined = combine_timeit_results(\n",
    "            RUN_TIMINGS_MAP[run_name][run_id], timing\n",
    "        )\n",
    "    else:\n",
    "        combined = timing\n",
    "        \n",
    "    RUN_TIMINGS_MAP[run_name][run_id] = combined"
   ]
  },
  {
   "cell_type": "code",
   "execution_count": 66,
   "id": "french-optimization",
   "metadata": {
    "ExecuteTime": {
     "end_time": "2021-05-06T16:57:25.330321Z",
     "start_time": "2021-05-06T16:57:25.317765Z"
    }
   },
   "outputs": [],
   "source": [
    "save_report(RUN_TIMINGS_MAP[run_name], report_file, overwrite=True)"
   ]
  },
  {
   "cell_type": "code",
   "execution_count": 67,
   "id": "normal-marina",
   "metadata": {
    "ExecuteTime": {
     "end_time": "2021-05-06T16:57:25.338809Z",
     "start_time": "2021-05-06T16:57:25.331633Z"
    }
   },
   "outputs": [
    {
     "name": "stdout",
     "output_type": "stream",
     "text": [
      "    Run ID: Factor\n",
      "=======================\n",
      "       500: 1.00\n",
      "      1000: 1.14\n",
      "      2000: 1.50\n",
      "      4000: 2.67\n",
      "      8000: 22.84\n",
      "     16000: 80.77\n",
      "     32000: 359.05\n",
      "     64000: 1280.41\n",
      "    128000: 4773.54\n",
      "    256000: 17251.74\n"
     ]
    }
   ],
   "source": [
    "print_ratios(get_ratios(RUN_TIMINGS_MAP[run_name], which=\"best\"))"
   ]
  },
  {
   "cell_type": "markdown",
   "id": "received-secret",
   "metadata": {},
   "source": [
    "<a id=\"run_d_b\"></a>\n",
    "#### Run d b"
   ]
  },
  {
   "cell_type": "code",
   "execution_count": 68,
   "id": "exterior-writer",
   "metadata": {
    "ExecuteTime": {
     "end_time": "2021-05-06T16:57:25.349689Z",
     "start_time": "2021-05-06T16:57:25.343830Z"
    }
   },
   "outputs": [],
   "source": [
    "run_name = \"no_structure_run_d_b\"\n",
    "report_file = report_dir / f\"{run_name}.json\"\n",
    "\n",
    "gen_func = gen_no_structure_points_numpy_array\n",
    "transform_func = compute_neighbours\n",
    "setup_func = setup_commonnn_clustering__fit"
   ]
  },
  {
   "cell_type": "code",
   "execution_count": 69,
   "id": "atlantic-surrey",
   "metadata": {
    "ExecuteTime": {
     "end_time": "2021-05-06T16:57:25.362300Z",
     "start_time": "2021-05-06T16:57:25.351461Z"
    }
   },
   "outputs": [],
   "source": [
    "RUN_ARGUMENTS_MAP[run_name] = []\n",
    "\n",
    "radius_cutoff = 0.1\n",
    "cnn_cutoff = 100\n",
    "for n_points in n_points_list:\n",
    "    RUN_ARGUMENTS_MAP[run_name].append(\n",
    "        {\n",
    "            \"id\": str(n_points),\n",
    "            \"gen\": (\n",
    "                ((n_points, 2),), {}\n",
    "            ),\n",
    "            \"transform\": (\n",
    "                (radius_cutoff,), {\"sort\": True}\n",
    "            ),\n",
    "            \"setup\": (\n",
    "                (), {\n",
    "                    \"preparation_hook\": cluster.prepare_neighbourhoods,\n",
    "                    \"recipe\": neighbours_sorted_recipe\n",
    "                    }\n",
    "            ),\n",
    "            \"timed\": (\n",
    "                (_types.ClusterParameters(radius_cutoff, cnn_cutoff),), {}\n",
    "            ),\n",
    "        }\n",
    "    )"
   ]
  },
  {
   "cell_type": "code",
   "execution_count": 70,
   "id": "adequate-detective",
   "metadata": {
    "ExecuteTime": {
     "end_time": "2021-05-06T17:00:43.329634Z",
     "start_time": "2021-05-06T16:57:25.364015Z"
    }
   },
   "outputs": [
    {
     "name": "stdout",
     "output_type": "stream",
     "text": [
      "Collection for run: no_structure_run_d_b\n"
     ]
    },
    {
     "data": {
      "application/vnd.jupyter.widget-view+json": {
       "model_id": "c99111f4c046439191202ccc6de50c09",
       "version_major": 2,
       "version_minor": 0
      },
      "text/plain": [
       "Run completed:   0%|          | 0/10 [00:00<?, ?it/s]"
      ]
     },
     "metadata": {},
     "output_type": "display_data"
    },
    {
     "name": "stdout",
     "output_type": "stream",
     "text": [
      "Timed run ID:        500    (06.05.2021 18:57:25)\n",
      "Timed run ID:       1000    (06.05.2021 18:57:25)\n",
      "Timed run ID:       2000    (06.05.2021 18:57:26)\n",
      "Timed run ID:       4000    (06.05.2021 18:57:27)\n",
      "Timed run ID:       8000    (06.05.2021 18:57:28)\n",
      "Timed run ID:      16000    (06.05.2021 18:57:32)\n",
      "Timed run ID:      32000    (06.05.2021 18:57:40)\n",
      "Timed run ID:      64000    (06.05.2021 18:58:22)\n",
      "Timed run ID:     128000    (06.05.2021 18:59:04)\n",
      "Timed run ID:     256000    (06.05.2021 19:00:43)\n"
     ]
    },
    {
     "data": {
      "text/plain": [
       "{'500': <TimeitResult : 78.8 µs ± 9.26 µs per loop (mean ± std. dev. of 10 runs, 1 loop each)>,\n",
       " '1000': <TimeitResult : 88 µs ± 11 µs per loop (mean ± std. dev. of 10 runs, 1 loop each)>,\n",
       " '2000': <TimeitResult : 109 µs ± 4.72 µs per loop (mean ± std. dev. of 10 runs, 1 loop each)>,\n",
       " '4000': <TimeitResult : 185 µs ± 3.57 µs per loop (mean ± std. dev. of 10 runs, 1 loop each)>,\n",
       " '8000': <TimeitResult : 452 µs ± 9.96 µs per loop (mean ± std. dev. of 10 runs, 1 loop each)>,\n",
       " '16000': <TimeitResult : 1.5 ms ± 14.5 µs per loop (mean ± std. dev. of 10 runs, 1 loop each)>,\n",
       " '32000': <TimeitResult : 11.1 ms ± 6.44 ms per loop (mean ± std. dev. of 10 runs, 1 loop each)>,\n",
       " '64000': <TimeitResult : 2.65 s ± 443 ms per loop (mean ± std. dev. of 10 runs, 1 loop each)>,\n",
       " '128000': <TimeitResult : 625 ms ± 37.4 ms per loop (mean ± std. dev. of 10 runs, 1 loop each)>,\n",
       " '256000': <TimeitResult : 1.71 s ± 26.1 ms per loop (mean ± std. dev. of 10 runs, 1 loop each)>}"
      ]
     },
     "execution_count": 70,
     "metadata": {},
     "output_type": "execute_result"
    }
   ],
   "source": [
    "print(f\"Collection for run: {run_name}\")\n",
    "RUN_TIMINGS_MAP[run_name] = {}\n",
    "collect_timings(\n",
    "    gen_func,\n",
    "    setup_func,\n",
    "    RUN_ARGUMENTS_MAP[run_name],\n",
    "    transform_func=transform_func,\n",
    "    timings=RUN_TIMINGS_MAP[run_name]\n",
    ")"
   ]
  },
  {
   "cell_type": "code",
   "execution_count": 71,
   "id": "rotary-bolivia",
   "metadata": {
    "ExecuteTime": {
     "end_time": "2021-05-06T17:00:43.338418Z",
     "start_time": "2021-05-06T17:00:43.331546Z"
    }
   },
   "outputs": [],
   "source": [
    "save_report(RUN_TIMINGS_MAP[run_name], report_file, overwrite=True)"
   ]
  },
  {
   "cell_type": "code",
   "execution_count": 72,
   "id": "sought-vacation",
   "metadata": {
    "ExecuteTime": {
     "end_time": "2021-05-06T17:00:43.348244Z",
     "start_time": "2021-05-06T17:00:43.339672Z"
    }
   },
   "outputs": [
    {
     "name": "stdout",
     "output_type": "stream",
     "text": [
      "    Run ID: Factor\n",
      "=======================\n",
      "       500: 1.00\n",
      "      1000: 1.10\n",
      "      2000: 1.43\n",
      "      4000: 2.43\n",
      "      8000: 5.96\n",
      "     16000: 19.97\n",
      "     32000: 87.27\n",
      "    128000: 7739.12\n",
      "    256000: 22501.85\n",
      "     64000: 26586.38\n"
     ]
    }
   ],
   "source": [
    "print_ratios(get_ratios(RUN_TIMINGS_MAP[run_name], which=\"best\"))"
   ]
  },
  {
   "cell_type": "markdown",
   "id": "uniform-element",
   "metadata": {},
   "source": [
    "<a id=\"run_d_c\"></a>\n",
    "#### Run d c"
   ]
  },
  {
   "cell_type": "code",
   "execution_count": 73,
   "id": "valuable-seafood",
   "metadata": {
    "ExecuteTime": {
     "end_time": "2021-05-06T17:00:43.359492Z",
     "start_time": "2021-05-06T17:00:43.349701Z"
    }
   },
   "outputs": [],
   "source": [
    "run_name = \"no_structure_run_d_c\"\n",
    "report_file = report_dir / f\"{run_name}.json\"\n",
    "\n",
    "gen_func = gen_no_structure_points_numpy_array\n",
    "transform_func = compute_neighbours\n",
    "setup_func = setup_commonnn_clustering__fit"
   ]
  },
  {
   "cell_type": "code",
   "execution_count": 74,
   "id": "precise-eating",
   "metadata": {
    "ExecuteTime": {
     "end_time": "2021-05-06T17:00:43.373816Z",
     "start_time": "2021-05-06T17:00:43.361703Z"
    }
   },
   "outputs": [],
   "source": [
    "RUN_ARGUMENTS_MAP[run_name] = []\n",
    "\n",
    "radius_cutoff = 0.3\n",
    "cnn_cutoff = 0\n",
    "for n_points in n_points_list:\n",
    "    RUN_ARGUMENTS_MAP[run_name].append(\n",
    "        {\n",
    "            \"id\": str(n_points),\n",
    "            \"gen\": (\n",
    "                ((n_points, 2),), {}\n",
    "            ),\n",
    "            \"transform\": (\n",
    "                (radius_cutoff,), {\"sort\": True}\n",
    "            ),\n",
    "            \"setup\": (\n",
    "                (), {\n",
    "                    \"preparation_hook\": cluster.prepare_neighbourhoods,\n",
    "                    \"recipe\": neighbours_sorted_recipe\n",
    "                    }\n",
    "            ),\n",
    "            \"timed\": (\n",
    "                (_types.ClusterParameters(radius_cutoff, cnn_cutoff),), {}\n",
    "            ),\n",
    "        }\n",
    "    )"
   ]
  },
  {
   "cell_type": "code",
   "execution_count": 75,
   "id": "fifth-census",
   "metadata": {
    "ExecuteTime": {
     "end_time": "2021-05-06T17:08:48.274343Z",
     "start_time": "2021-05-06T17:00:43.375951Z"
    }
   },
   "outputs": [
    {
     "name": "stdout",
     "output_type": "stream",
     "text": [
      "Collection for run: no_structure_run_d_c\n"
     ]
    },
    {
     "data": {
      "application/vnd.jupyter.widget-view+json": {
       "model_id": "30ebf17add2046809b3e6d2e78b5a881",
       "version_major": 2,
       "version_minor": 0
      },
      "text/plain": [
       "Run completed:   0%|          | 0/10 [00:00<?, ?it/s]"
      ]
     },
     "metadata": {},
     "output_type": "display_data"
    },
    {
     "name": "stdout",
     "output_type": "stream",
     "text": [
      "Timed run ID:        500    (06.05.2021 19:00:43)\n",
      "Timed run ID:       1000    (06.05.2021 19:00:43)\n",
      "Timed run ID:       2000    (06.05.2021 19:00:44)\n",
      "Timed run ID:       4000    (06.05.2021 19:00:45)\n",
      "Timed run ID:       8000    (06.05.2021 19:00:47)\n",
      "Timed run ID:      16000    (06.05.2021 19:00:52)\n",
      "Timed run ID:      32000    (06.05.2021 19:01:03)\n",
      "Timed run ID:      64000    (06.05.2021 19:01:34)\n",
      "Timed run ID:     128000    (06.05.2021 19:03:09)\n",
      "Timed run ID:     256000    (06.05.2021 19:08:48)\n"
     ]
    },
    {
     "data": {
      "text/plain": [
       "{'500': <TimeitResult : 163 µs ± 58.9 µs per loop (mean ± std. dev. of 10 runs, 1 loop each)>,\n",
       " '1000': <TimeitResult : 747 µs ± 484 µs per loop (mean ± std. dev. of 10 runs, 1 loop each)>,\n",
       " '2000': <TimeitResult : 1.08 ms ± 309 µs per loop (mean ± std. dev. of 10 runs, 1 loop each)>,\n",
       " '4000': <TimeitResult : 2.97 ms ± 398 µs per loop (mean ± std. dev. of 10 runs, 1 loop each)>,\n",
       " '8000': <TimeitResult : 10.1 ms ± 666 µs per loop (mean ± std. dev. of 10 runs, 1 loop each)>,\n",
       " '16000': <TimeitResult : 39.4 ms ± 1.34 ms per loop (mean ± std. dev. of 10 runs, 1 loop each)>,\n",
       " '32000': <TimeitResult : 150 ms ± 3.93 ms per loop (mean ± std. dev. of 10 runs, 1 loop each)>,\n",
       " '64000': <TimeitResult : 566 ms ± 6.94 ms per loop (mean ± std. dev. of 10 runs, 1 loop each)>,\n",
       " '128000': <TimeitResult : 2.2 s ± 10.9 ms per loop (mean ± std. dev. of 10 runs, 1 loop each)>,\n",
       " '256000': <TimeitResult : 8.99 s ± 26.7 ms per loop (mean ± std. dev. of 10 runs, 1 loop each)>}"
      ]
     },
     "execution_count": 75,
     "metadata": {},
     "output_type": "execute_result"
    }
   ],
   "source": [
    "print(f\"Collection for run: {run_name}\")\n",
    "RUN_TIMINGS_MAP[run_name] = {}\n",
    "collect_timings(\n",
    "    gen_func,\n",
    "    setup_func,\n",
    "    RUN_ARGUMENTS_MAP[run_name],\n",
    "    transform_func=transform_func,\n",
    "    timings=RUN_TIMINGS_MAP[run_name]\n",
    ")"
   ]
  },
  {
   "cell_type": "code",
   "execution_count": 76,
   "id": "smoking-oxygen",
   "metadata": {
    "ExecuteTime": {
     "end_time": "2021-05-06T17:08:48.284424Z",
     "start_time": "2021-05-06T17:08:48.276160Z"
    }
   },
   "outputs": [],
   "source": [
    "save_report(RUN_TIMINGS_MAP[run_name], report_file, overwrite=True)"
   ]
  },
  {
   "cell_type": "code",
   "execution_count": 77,
   "id": "level-extension",
   "metadata": {
    "ExecuteTime": {
     "end_time": "2021-05-06T17:08:48.291530Z",
     "start_time": "2021-05-06T17:08:48.285914Z"
    }
   },
   "outputs": [
    {
     "name": "stdout",
     "output_type": "stream",
     "text": [
      "    Run ID: Factor\n",
      "=======================\n",
      "       500: 1.00\n",
      "      1000: 3.58\n",
      "      2000: 8.80\n",
      "      4000: 30.28\n",
      "      8000: 113.11\n",
      "     16000: 464.12\n",
      "     32000: 1816.65\n",
      "     64000: 6954.94\n",
      "    128000: 27366.46\n",
      "    256000: 112138.82\n"
     ]
    }
   ],
   "source": [
    "print_ratios(get_ratios(RUN_TIMINGS_MAP[run_name], which=\"best\"))"
   ]
  },
  {
   "cell_type": "markdown",
   "id": "dirty-confirmation",
   "metadata": {},
   "source": [
    "#### Plots"
   ]
  },
  {
   "cell_type": "code",
   "execution_count": 78,
   "id": "played-terminology",
   "metadata": {
    "ExecuteTime": {
     "end_time": "2021-05-06T17:08:49.066930Z",
     "start_time": "2021-05-06T17:08:48.293060Z"
    }
   },
   "outputs": [
    {
     "data": {
      "image/png": "[encoded data removed]",
      "text/plain": [
       "<Figure size 999x617.429 with 4 Axes>"
      ]
     },
     "metadata": {
      "needs_background": "light"
     },
     "output_type": "display_data"
    }
   ],
   "source": [
    "fig, (normal_ax, log_ax) = plt.subplots(2, 1, figsize=(3.33, 3.33/1.618))\n",
    "\n",
    "run_name_list = [\n",
    "    ('no_structure_run_a', 'points'),\n",
    "    ('no_structure_run_b', 'distances'),\n",
    "    ('no_structure_run_c', 'neighbours'),\n",
    "    ('no_structure_run_d', 'sorted n.'),\n",
    "]\n",
    "markers = iter([\"o\", \"v\", \"^\", \"s\", \"p\", \"P\", \"*\", \"h\", \"d\"])\n",
    "\n",
    "# Inset\n",
    "inset_ax = fig.add_axes(\n",
    "    [0.14, 0.67, 0.36, 0.22],\n",
    "    zorder=3,\n",
    "    )\n",
    "\n",
    "for name, label in run_name_list:\n",
    "    marker = next(markers)\n",
    "    \n",
    "    plot_timings(\n",
    "        RUN_TIMINGS_MAP[name],\n",
    "        ax=normal_ax,\n",
    "        id_to_x=lambda x: int(x),\n",
    "        sort_ids=True,\n",
    "        set_ax_props=False,\n",
    "        plot_props={\n",
    "            \"label\": label,\n",
    "            \"marker\": marker,\n",
    "            \"markersize\": 4\n",
    "        }\n",
    "    )\n",
    "    \n",
    "    line = normal_ax.lines[-1]\n",
    "    log_line, = log_ax.plot(*line.get_xydata().T)\n",
    "    saved_transform = log_line.get_transform()\n",
    "    saved_clipbox = log_line.clipbox\n",
    "    log_line.update_from(line)\n",
    "    log_line.set_transform(saved_transform)\n",
    "    log_line.clipbox = saved_clipbox\n",
    "    \n",
    "    line = normal_ax.lines[-1]\n",
    "    inset_line, = inset_ax.plot(*line.get_xydata().T)\n",
    "    saved_transform = inset_line.get_transform()\n",
    "    saved_clipbox = inset_line.clipbox\n",
    "    inset_line.update_from(line)\n",
    "    inset_line.set_transform(saved_transform)\n",
    "    inset_line.clipbox = saved_clipbox\n",
    "    \n",
    "    inset_line.set_markersize(3)\n",
    "    \n",
    "normal_ax.xaxis.tick_top()\n",
    "\n",
    "normal_ax.set(**{\n",
    "    \"xlabel\": None,\n",
    "    \"xlabel\": None\n",
    "})\n",
    "\n",
    "log_ax.set(**{\n",
    "    \"xlabel\": None,\n",
    "    \"xlabel\": None,\n",
    "    \"xscale\": \"log\",\n",
    "    \"yscale\": \"log\",\n",
    "})\n",
    "\n",
    "inset_ax.set(**{\n",
    "    \"xlim\": (400, 9000),\n",
    "    \"ylim\": (-0.0005, 0.01),\n",
    "    \"xticks\": (),\n",
    "    \"yticks\": (),\n",
    "})\n",
    "\n",
    "mark_inset(normal_ax, inset_ax, loc1=3, loc2=4, edgecolor=\"k\")\n",
    "\n",
    "# Annotate memory error\n",
    "annotate_memory_error(\n",
    "    ax=normal_ax, line=normal_ax.get_lines()[1],\n",
    "    memory_error_id=128000\n",
    ")\n",
    "annotate_memory_error(\n",
    "    ax=log_ax, line=log_ax.get_lines()[1],\n",
    "    memory_error_id=128000\n",
    ")\n",
    "    \n",
    "commonax = fig.add_axes(\n",
    "    [0.03, 0.08, 0.97, 0.92],\n",
    "    zorder=-1,\n",
    "    frame_on=False\n",
    "    )\n",
    "\n",
    "commonax.set(**{\n",
    "    \"ylabel\": \"time / s\",\n",
    "    \"xticks\": (),\n",
    "    \"yticks\": ()\n",
    "})\n",
    "\n",
    "# Legend\n",
    "legend = normal_ax.legend(\n",
    "    fancybox=False,\n",
    "    framealpha=1,\n",
    "    edgecolor=\"k\",\n",
    "    fontsize=\"xx-small\",\n",
    "    loc=(0.9, 0.15)\n",
    "    )\n",
    "legend.get_frame().set_linewidth(0.5)\n",
    "\n",
    "log_ax.get_xaxis().set_major_formatter(mpl.ticker.ScalarFormatter())\n",
    "\n",
    "fig.subplots_adjust(hspace=0.1)"
   ]
  },
  {
   "cell_type": "code",
   "execution_count": 79,
   "id": "defensive-state",
   "metadata": {
    "ExecuteTime": {
     "end_time": "2021-05-06T17:08:49.623068Z",
     "start_time": "2021-05-06T17:08:49.068364Z"
    }
   },
   "outputs": [
    {
     "data": {
      "image/png": "[encoded data removed]",
      "text/plain": [
       "<Figure size 999x617.429 with 4 Axes>"
      ]
     },
     "metadata": {
      "needs_background": "light"
     },
     "output_type": "display_data"
    }
   ],
   "source": [
    "fig, (normal_ax, log_ax) = plt.subplots(2, 1, figsize=(3.33, 3.33/1.618))\n",
    "\n",
    "run_name_list = [\n",
    "    ('no_structure_run_c', '0.1, 0'),\n",
    "    ('no_structure_run_c_b', '0.1, 100'),\n",
    "    ('no_structure_run_c_c', '0.3, 0'),\n",
    "    ('no_structure_run_d', '0.1, 0, sorted'),\n",
    "    ('no_structure_run_d_b', '0.1, 100, sorted'),\n",
    "    ('no_structure_run_d_c', '0.3, 0, sorted'),\n",
    "]\n",
    "markers = iter([\"o\", \"v\", \"^\", \"s\", \"p\", \"P\", \"*\", \"h\", \"d\"])\n",
    "\n",
    "# Inset\n",
    "inset_ax = fig.add_axes(\n",
    "    [0.14, 0.67, 0.36, 0.22],\n",
    "    zorder=3,\n",
    "    )\n",
    "\n",
    "for name, label in run_name_list:\n",
    "    marker = next(markers)\n",
    "    \n",
    "    plot_timings(\n",
    "        RUN_TIMINGS_MAP[name],\n",
    "        ax=normal_ax,\n",
    "        id_to_x=lambda x: int(x),\n",
    "        sort_ids=True,\n",
    "        set_ax_props=False,\n",
    "        plot_props={\n",
    "            \"label\": label,\n",
    "            \"marker\": marker,\n",
    "            \"markersize\": 4\n",
    "        }\n",
    "    )\n",
    "    \n",
    "    line = normal_ax.lines[-1]\n",
    "    log_line, = log_ax.plot(*line.get_xydata().T)\n",
    "    saved_transform = log_line.get_transform()\n",
    "    saved_clipbox = log_line.clipbox\n",
    "    log_line.update_from(line)\n",
    "    log_line.set_transform(saved_transform)\n",
    "    log_line.clipbox = saved_clipbox\n",
    "    \n",
    "    line = normal_ax.lines[-1]\n",
    "    inset_line, = inset_ax.plot(*line.get_xydata().T)\n",
    "    saved_transform = inset_line.get_transform()\n",
    "    saved_clipbox = inset_line.clipbox\n",
    "    inset_line.update_from(line)\n",
    "    inset_line.set_transform(saved_transform)\n",
    "    inset_line.clipbox = saved_clipbox\n",
    "    \n",
    "    inset_line.set_markersize(3)\n",
    "    \n",
    "normal_ax.xaxis.tick_top()\n",
    "\n",
    "normal_ax.set(**{\n",
    "    \"xlabel\": None,\n",
    "    \"xlabel\": None\n",
    "})\n",
    "\n",
    "log_ax.set(**{\n",
    "    \"xlabel\": None,\n",
    "    \"xlabel\": None,\n",
    "    \"xscale\": \"log\",\n",
    "    \"yscale\": \"log\",\n",
    "})\n",
    "\n",
    "inset_ax.set(**{\n",
    "    \"xlim\": (400, 9000),\n",
    "    \"ylim\": (-0.0005, 0.005),\n",
    "    \"xticks\": (),\n",
    "    \"yticks\": (),\n",
    "})\n",
    "\n",
    "mark_inset(normal_ax, inset_ax, loc1=3, loc2=4, edgecolor=\"k\")\n",
    "    \n",
    "commonax = fig.add_axes(\n",
    "    [0.03, 0.08, 0.97, 0.92],\n",
    "    zorder=-1,\n",
    "    frame_on=False\n",
    "    )\n",
    "\n",
    "commonax.set(**{\n",
    "    \"ylabel\": \"time / s\",\n",
    "    \"xticks\": (),\n",
    "    \"yticks\": ()\n",
    "})\n",
    "\n",
    "# Legend\n",
    "legend = normal_ax.legend(\n",
    "    fancybox=False,\n",
    "    framealpha=1,\n",
    "    edgecolor=\"k\",\n",
    "    fontsize=\"xx-small\",\n",
    "    loc=(0.9, 0.15)\n",
    "    )\n",
    "legend.get_frame().set_linewidth(0.5)\n",
    "\n",
    "log_ax.get_xaxis().set_major_formatter(mpl.ticker.ScalarFormatter())\n",
    "\n",
    "fig.subplots_adjust(hspace=0.1)"
   ]
  }
 ],
 "metadata": {
  "kernelspec": {
   "display_name": "md38",
   "language": "python",
   "name": "md38"
  },
  "language_info": {
   "codemirror_mode": {
    "name": "ipython",
    "version": 3
   },
   "file_extension": ".py",
   "mimetype": "text/x-python",
   "name": "python",
   "nbconvert_exporter": "python",
   "pygments_lexer": "ipython3",
   "version": "3.8.8"
  },
  "toc": {
   "base_numbering": 1,
   "nav_menu": {},
   "number_sections": true,
   "sideBar": true,
   "skip_h1_title": true,
   "title_cell": "Table of Contents",
   "title_sidebar": "Contents",
   "toc_cell": true,
   "toc_position": {
    "height": "calc(100% - 180px)",
    "left": "10px",
    "top": "150px",
    "width": "263.3px"
   },
   "toc_section_display": true,
   "toc_window_display": true
  }
 },
 "nbformat": 4,
 "nbformat_minor": 5
}
